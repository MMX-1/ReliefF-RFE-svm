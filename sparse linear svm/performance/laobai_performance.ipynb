{
 "cells": [
  {
   "cell_type": "code",
   "execution_count": 26,
   "id": "e2728bce-0af5-44cd-b131-a1608371adb9",
   "metadata": {},
   "outputs": [],
   "source": [
    "#性能测量\n",
    "def meansure_performance(y_predict_lis):\n",
    "    TP=0\n",
    "    FP=0\n",
    "    TN=0\n",
    "    FN=0\n",
    "    #测试样本数\n",
    "    sample_num=x_test.shape[0]\n",
    "    for i in range(sample_num):\n",
    "        y_predict=y_predict_lis[i]\n",
    "        if y_predict==1 and y_test[i]==1:\n",
    "            TP+=1\n",
    "        elif y_predict==-1 and y_test[i]==-1:\n",
    "            TN+=1\n",
    "        elif y_predict==1 and y_test[i]==-1:\n",
    "    #false poistive\n",
    "            FP+=1\n",
    "        elif y_predict==-1 and y_test[i]==1:\n",
    "    #false negative\n",
    "            FN+=1 \n",
    "    accuracy=(TP+TN)/(TP+FP+TN+FN)\n",
    "    recall=TP/(TP+FN)\n",
    "    specificity=TN/(TN+FP)\n",
    "    precision=TP/(TP+FP)\n",
    "    F_measuer=(2*precision*recall)/(precision+recall)\n",
    "    return accuracy,recall,specificity,precision,F_measuer"
   ]
  },
  {
   "cell_type": "code",
   "execution_count": 27,
   "id": "e519640c-631c-49b0-b446-7de69d38bf1f",
   "metadata": {},
   "outputs": [],
   "source": [
    "from skfeature.function.similarity_based import reliefF\n",
    "from sklearn.svm import SVC\n",
    "from sklearn.model_selection import KFold\n",
    "from skfeature.function.statistical_based import CFS\n",
    "import pandas as pd\n",
    "import numpy as np\n",
    "data_rfe=pd.read_csv('norm_laobai.csv')\n",
    "data_rfe_array=np.array(data_rfe)\n",
    "fea=data_rfe_array[:,:49]\n",
    "target=data_rfe_array[:,49]\n",
    "x_test=fea[:170,:]\n",
    "y_test=target[:170]\n",
    "x_train=fea[170:,:]\n",
    "y_train=target[170:]"
   ]
  },
  {
   "cell_type": "code",
   "execution_count": 28,
   "id": "fa99b873-e188-45dd-9ef9-f172fdc3e98a",
   "metadata": {},
   "outputs": [],
   "source": [
    "techini_indicator=data_rfe.columns.tolist()[:-1]"
   ]
  },
  {
   "cell_type": "markdown",
   "id": "cb28cbe7-0739-4c59-bdc1-fca827f36e8f",
   "metadata": {},
   "source": [
    "# SVM"
   ]
  },
  {
   "cell_type": "code",
   "execution_count": 29,
   "id": "720750d2-59be-4f1c-9e87-69c7ee99dadd",
   "metadata": {},
   "outputs": [
    {
     "name": "stdout",
     "output_type": "stream",
     "text": [
      "(0.8294117647058824, 0.775, 0.8777777777777778, 0.8493150684931506, 0.8104575163398693)\n"
     ]
    }
   ],
   "source": [
    "from sklearn.svm import SVC\n",
    "estima_SVM=SVC(kernel='linear',C=0.1)\n",
    "estima_SVM.fit(x_train,y_train)\n",
    "SVM_result=estima_SVM.predict(x_test)\n",
    "performan_SVM=meansure_performance(SVM_result)\n",
    "print(performan_SVM)"
   ]
  },
  {
   "cell_type": "markdown",
   "id": "7ae5d5b9-696a-409a-a516-d5e2cb9df0b2",
   "metadata": {},
   "source": [
    "# CFS-SVM"
   ]
  },
  {
   "cell_type": "code",
   "execution_count": 30,
   "id": "a20b09ad-cc5f-4951-844e-34684e8c0630",
   "metadata": {},
   "outputs": [
    {
     "data": {
      "text/plain": [
       "[27, 26, 1, 2, 3, 5]"
      ]
     },
     "execution_count": 30,
     "metadata": {},
     "output_type": "execute_result"
    }
   ],
   "source": [
    "from sklearn.svm import LinearSVC\n",
    "from skfeature.function.statistical_based import CFS\n",
    "CFS_selected_feature = CFS.cfs(x_train,y_train)\n",
    "CFS_fea_sele=list(CFS_selected_feature)\n",
    "CFS_fea_sele"
   ]
  },
  {
   "cell_type": "code",
   "execution_count": 31,
   "id": "0fb167dc-4340-4986-8438-4090c3648498",
   "metadata": {},
   "outputs": [
    {
     "data": {
      "text/plain": [
       "(array(['D', 'K', 'TAPI', 'VMA', 'VMACD', 'VSTD'], dtype='<U8'), 6)"
      ]
     },
     "execution_count": 31,
     "metadata": {},
     "output_type": "execute_result"
    }
   ],
   "source": [
    "np.array(techini_indicator)[CFS_fea_sele],len(np.array(techini_indicator)[CFS_fea_sele])"
   ]
  },
  {
   "cell_type": "code",
   "execution_count": 32,
   "id": "782649a5-2be9-4d19-b0a7-6e2528b39150",
   "metadata": {},
   "outputs": [],
   "source": [
    "estimator_SVM_CFS=SVC(kernel='linear',C=0.1)\n",
    "estimator_SVM_CFS.fit(x_train[:,CFS_fea_sele],y_train)\n",
    "CFS_SVM_result=estimator_SVM_CFS.predict(x_test[:,CFS_fea_sele])"
   ]
  },
  {
   "cell_type": "code",
   "execution_count": 33,
   "id": "38e766e7-c15e-4557-a15e-551a8764c406",
   "metadata": {},
   "outputs": [
    {
     "name": "stdout",
     "output_type": "stream",
     "text": [
      "(0.611764705882353, 0.7, 0.5333333333333333, 0.5714285714285714, 0.6292134831460674)\n"
     ]
    }
   ],
   "source": [
    "performan_CFS_SVM=meansure_performance(CFS_SVM_result)\n",
    "print(performan_CFS_SVM)"
   ]
  },
  {
   "cell_type": "markdown",
   "id": "ba5a4fe3-c1ee-4e89-a549-b485ba566109",
   "metadata": {},
   "source": [
    "# sequencial-backward-elimination SVM"
   ]
  },
  {
   "cell_type": "code",
   "execution_count": 34,
   "id": "cdeba00b-9165-4152-b3b3-67b8504c0762",
   "metadata": {},
   "outputs": [],
   "source": [
    "\n",
    "from sklearn.metrics import accuracy_score\n",
    "from sklearn.model_selection import KFold\n",
    "from numpy import mean \n",
    "from sklearn.model_selection import cross_val_score\n",
    "class back_SVM:\n",
    "    def __init__(self,X_train,Y_train,c):\n",
    "        self.X_train=X_train\n",
    "        self.Y_train=Y_train\n",
    "        self.C=c\n",
    "    def SBE(self,folds):\n",
    "        fea_num=self.X_train.shape[1]\n",
    "        candi_fea=[i for i in range(fea_num)]\n",
    "        best_subset=[i for i in range(fea_num)]\n",
    "        model=SVC(kernel='linear',C=self.C)\n",
    "        Best_accuracy=mean(cross_val_score(model,self.X_train,self.Y_train,scoring=\"accuracy\",cv=folds,n_jobs=-1))\n",
    "        Success=True\n",
    "        while Success:\n",
    "            Success=False\n",
    "            for f in candi_fea:\n",
    "                candi_fea_copy=candi_fea.copy()\n",
    "                candi_fea_copy.remove(f)\n",
    "                x_sele=self.X_train[:,candi_fea_copy]\n",
    "                n_scores=cross_val_score(model,x_sele,self.Y_train,scoring=\"accuracy\",cv=folds,n_jobs=-1)\n",
    "                acc=mean(n_scores)\n",
    "                if acc>=Best_accuracy:\n",
    "                    #print(f)\n",
    "                    best_subset=candi_fea_copy\n",
    "                    Success=True\n",
    "                    Best_accuracy=acc\n",
    "            print(1)\n",
    "            if Success==True:\n",
    "                candi_fea=best_subset\n",
    "            print(len(candi_fea))\n",
    "        return best_subset\n",
    "                \n",
    "        "
   ]
  },
  {
   "cell_type": "code",
   "execution_count": 35,
   "id": "95c069af-196f-4f84-be45-ad83253d8344",
   "metadata": {},
   "outputs": [
    {
     "name": "stdout",
     "output_type": "stream",
     "text": [
      "1\n",
      "48\n",
      "1\n",
      "47\n",
      "1\n",
      "46\n",
      "1\n",
      "45\n",
      "1\n",
      "44\n",
      "1\n",
      "43\n",
      "1\n",
      "42\n",
      "1\n",
      "41\n",
      "1\n",
      "40\n",
      "1\n",
      "39\n",
      "1\n",
      "38\n",
      "1\n",
      "37\n",
      "1\n",
      "36\n",
      "1\n",
      "35\n",
      "1\n",
      "34\n",
      "1\n",
      "33\n",
      "1\n",
      "32\n",
      "1\n",
      "31\n",
      "1\n",
      "31\n"
     ]
    }
   ],
   "source": [
    "estimator_SVM_back=back_SVM(x_train,y_train,0.1)\n",
    "candi_fea_SBE=estimator_SVM_back.SBE(5)"
   ]
  },
  {
   "cell_type": "code",
   "execution_count": 36,
   "id": "4b3100a4-c685-4a99-a720-f4a8e760e176",
   "metadata": {},
   "outputs": [
    {
     "data": {
      "text/plain": [
       "(array(['VMACD', 'VOSC', 'CR', 'PSY', 'VR', 'AR', 'BR', 'MOBV', 'MA',\n",
       "        'EXPMA', 'MACD', 'TRIX', 'BIAS', 'CCI', 'DBCD', 'DPO', 'K', 'D',\n",
       "        'J', 'RSI', 'VRSI', 'ADTM', 'CDP', 'MI', 'MICD', 'RC', 'SRMI',\n",
       "        'ATR', 'CVLT', 'MASS', 'STD'], dtype='<U8'),\n",
       " 31)"
      ]
     },
     "execution_count": 36,
     "metadata": {},
     "output_type": "execute_result"
    }
   ],
   "source": [
    "np.array(techini_indicator)[candi_fea_SBE],len(np.array(techini_indicator)[candi_fea_SBE])"
   ]
  },
  {
   "cell_type": "code",
   "execution_count": 37,
   "id": "ae405d98-20c8-4e67-af4a-87be33ec3766",
   "metadata": {},
   "outputs": [],
   "source": [
    "estimator_SVM_SBE=SVC(kernel='linear',C=0.1)\n",
    "estimator_SVM_SBE.fit(x_train[:,candi_fea_SBE],y_train)\n",
    "SBE_SVM_result=estimator_SVM_SBE.predict(x_test[:,candi_fea_SBE])"
   ]
  },
  {
   "cell_type": "code",
   "execution_count": 38,
   "id": "5f925c4d-1c45-4f09-aa1a-42ff42425c5c",
   "metadata": {},
   "outputs": [
    {
     "name": "stdout",
     "output_type": "stream",
     "text": [
      "(0.8294117647058824, 0.7875, 0.8666666666666667, 0.84, 0.8129032258064516)\n"
     ]
    }
   ],
   "source": [
    "performan_SBE_SVM=meansure_performance(SBE_SVM_result)\n",
    "print(performan_SBE_SVM)"
   ]
  },
  {
   "cell_type": "code",
   "execution_count": 51,
   "id": "94c75176-bcc5-4238-b301-1d5baeab90c0",
   "metadata": {},
   "outputs": [
    {
     "data": {
      "text/plain": [
       "[3,\n",
       " 4,\n",
       " 6,\n",
       " 7,\n",
       " 8,\n",
       " 9,\n",
       " 10,\n",
       " 12,\n",
       " 16,\n",
       " 17,\n",
       " 18,\n",
       " 21,\n",
       " 22,\n",
       " 23,\n",
       " 24,\n",
       " 25,\n",
       " 26,\n",
       " 27,\n",
       " 28,\n",
       " 29,\n",
       " 32,\n",
       " 34,\n",
       " 35,\n",
       " 39,\n",
       " 40,\n",
       " 41,\n",
       " 43,\n",
       " 44,\n",
       " 45,\n",
       " 46,\n",
       " 47]"
      ]
     },
     "execution_count": 51,
     "metadata": {},
     "output_type": "execute_result"
    }
   ],
   "source": [
    "candi_fea_SBE"
   ]
  },
  {
   "cell_type": "code",
   "execution_count": 69,
   "id": "306a17e7-1cb2-4006-8bc6-eb07a127e537",
   "metadata": {},
   "outputs": [
    {
     "data": {
      "text/plain": [
       "'VHF'"
      ]
     },
     "execution_count": 69,
     "metadata": {},
     "output_type": "execute_result"
    }
   ],
   "source": [
    "np.array(techini_indicator)[48] "
   ]
  },
  {
   "cell_type": "markdown",
   "id": "58c9642b-1ed1-4eea-a7c0-ec3b1b3a07dc",
   "metadata": {},
   "source": [
    "# reliefF-svm "
   ]
  },
  {
   "cell_type": "code",
   "execution_count": 39,
   "id": "1a885617-5c26-42f0-aedb-733abb7e412b",
   "metadata": {},
   "outputs": [],
   "source": [
    "from skfeature.function.similarity_based import reliefF\n",
    "relief_fea_score=reliefF.reliefF(x_train,y_train)\n",
    "relief_candi_fea=list(reliefF.feature_ranking(relief_fea_score))[:17]"
   ]
  },
  {
   "cell_type": "code",
   "execution_count": 40,
   "id": "9e21ed44-dd44-4519-9d10-2468725eaea6",
   "metadata": {},
   "outputs": [
    {
     "data": {
      "text/plain": [
       "(array(['MOBV', 'VRSI', 'RSI', 'WR', 'RCCD', 'JDRS', 'BIAS', 'CDP', 'DPTB',\n",
       "        'DPO', 'VR', 'VHF', 'MA', 'VROC', 'J', 'BBI', 'D'], dtype='<U8'),\n",
       " 17)"
      ]
     },
     "execution_count": 40,
     "metadata": {},
     "output_type": "execute_result"
    }
   ],
   "source": [
    "np.array(techini_indicator)[relief_candi_fea],len(np.array(techini_indicator)[relief_candi_fea])"
   ]
  },
  {
   "cell_type": "code",
   "execution_count": 41,
   "id": "2bab3ad3-4607-4462-9ced-bfdc3a036f84",
   "metadata": {},
   "outputs": [],
   "source": [
    "estimator_SVM_relief=SVC(kernel='linear',C=0.1)\n",
    "estimator_SVM_relief.fit(x_train[:,relief_candi_fea],y_train)\n",
    "relief_SVM_result=estimator_SVM_relief.predict(x_test[:,relief_candi_fea])"
   ]
  },
  {
   "cell_type": "code",
   "execution_count": 42,
   "id": "11441800-68bd-4a69-9763-983b6937910a",
   "metadata": {},
   "outputs": [
    {
     "name": "stdout",
     "output_type": "stream",
     "text": [
      "(0.8235294117647058, 0.8, 0.8444444444444444, 0.8205128205128205, 0.810126582278481)\n"
     ]
    }
   ],
   "source": [
    "performan_relief_SVM=meansure_performance(relief_SVM_result)\n",
    "print(performan_relief_SVM)"
   ]
  },
  {
   "cell_type": "markdown",
   "id": "443eed99-d1a7-4f5f-b000-f649a8bf0119",
   "metadata": {},
   "source": [
    "# RFE-SVM"
   ]
  },
  {
   "cell_type": "code",
   "execution_count": 43,
   "id": "7f9ec8cb-ffaf-4f63-877e-3e409a9f379a",
   "metadata": {},
   "outputs": [],
   "source": [
    "from skfeature.function.similarity_based import reliefF\n",
    "from sklearn.svm import SVC\n",
    "from sklearn.model_selection import KFold\n",
    "from numpy import mean \n",
    "from sklearn.model_selection import cross_val_score\n",
    "class rfe_SVM:\n",
    "    def __init__(self,x_train,y_train,C):\n",
    "        self.X_train=x_train\n",
    "        self.Y_train=y_train\n",
    "        self.C=C\n",
    "    def featu_score(self,folds):\n",
    "        kf=KFold(n_splits=folds,shuffle=False)\n",
    "        estimator=SVC(kernel='linear',C=self.C)\n",
    "        rank_=[]\n",
    "        featu_num=self.X_train.shape[1]\n",
    "        candi_fea=[i for i in range(featu_num)]\n",
    "        i=featu_num\n",
    "        aver_lis=[i for i in range(featu_num)]\n",
    "        F_lis=[i for i in range(featu_num)]\n",
    "        aver=mean(cross_val_score(estimator,x_train,y_train,scoring=\"accuracy\",cv=kf,n_jobs=-1))\n",
    "        aver_lis[i-1]=aver\n",
    "        F1=mean(cross_val_score(estimator,x_train,y_train,scoring=\"f1\",cv=kf,n_jobs=-1))\n",
    "        F_lis[i-1]=F1\n",
    "        while True:\n",
    "            estimator.fit(self.X_train[:,candi_fea],self.Y_train)\n",
    "            rfe_score=(estimator.coef_)**2\n",
    "            index_=np.argmin(rfe_score)\n",
    "            remove_fea=candi_fea[index_]\n",
    "            candi_fea.remove(remove_fea)\n",
    "            i-=1\n",
    "            aver=mean(cross_val_score(estimator,x_train[:,candi_fea],y_train,scoring=\"accuracy\",cv=kf,n_jobs=-1))\n",
    "            F1=mean(cross_val_score(estimator,x_train[:,candi_fea],y_train,scoring=\"f1\",cv=kf,n_jobs=-1))\n",
    "            aver_lis[i-1]=aver\n",
    "            F_lis[i-1]=F1\n",
    "            if i==1:\n",
    "                break\n",
    "        return aver_lis,F_lis\n",
    "   \n",
    "    def featu_subset(self,featur_num):\n",
    "        kf=KFold(n_splits=5,shuffle=False)\n",
    "        estimator=SVC(kernel='linear',C=self.C)\n",
    "        rank_=[]\n",
    "        featu_num=self.X_train.shape[1]\n",
    "        candi_fea=[i for i in range(featu_num)]\n",
    "        while True:\n",
    "            estimator.fit(self.X_train[:,candi_fea],self.Y_train)\n",
    "            rfe_score=(estimator.coef_)**2\n",
    "            index_=np.argmin(rfe_score)\n",
    "            remove_fea=candi_fea[index_]\n",
    "            candi_fea.remove(remove_fea)\n",
    "            if len(candi_fea)==featur_num:\n",
    "                break\n",
    "        return candi_fea"
   ]
  },
  {
   "cell_type": "code",
   "execution_count": 44,
   "id": "45841f64-0937-4bda-9b3e-37a6be2c9976",
   "metadata": {},
   "outputs": [],
   "source": [
    "rfe_SVM_model=rfe_SVM(x_train,y_train,0.1)\n",
    "rfe_SVM_sele_featu_subset=rfe_SVM_model.featu_subset(17)"
   ]
  },
  {
   "cell_type": "code",
   "execution_count": 45,
   "id": "3e151470-1da9-4d6d-ae8e-eb7f507cf1f5",
   "metadata": {},
   "outputs": [
    {
     "data": {
      "text/plain": [
       "(array(['PSY', 'AR', 'BR', 'MOBV', 'BBI', 'MA', 'EXPMA', 'MACD', 'CCI',\n",
       "        'K', 'D', 'J', 'RSI', 'WR', 'ADTM', 'CDP', 'JDRS'], dtype='<U8'),\n",
       " 17)"
      ]
     },
     "execution_count": 45,
     "metadata": {},
     "output_type": "execute_result"
    }
   ],
   "source": [
    "np.array(techini_indicator)[rfe_SVM_sele_featu_subset],len(np.array(techini_indicator)[rfe_SVM_sele_featu_subset])"
   ]
  },
  {
   "cell_type": "code",
   "execution_count": 46,
   "id": "023bad33-c641-440f-a543-f6d389ee4e7b",
   "metadata": {},
   "outputs": [
    {
     "name": "stdout",
     "output_type": "stream",
     "text": [
      "(0.8294117647058824, 0.7875, 0.8666666666666667, 0.84, 0.8129032258064516)\n"
     ]
    }
   ],
   "source": [
    "estimator_SVM_rfe=SVC(kernel='linear',C=0.1)\n",
    "estimator_SVM_rfe.fit(x_train[:,rfe_SVM_sele_featu_subset],y_train)\n",
    "rfe_SVM_result=estimator_SVM_rfe.predict(x_test[:,rfe_SVM_sele_featu_subset])\n",
    "performan_rfe_SVM=meansure_performance(rfe_SVM_result)\n",
    "print(performan_rfe_SVM)"
   ]
  },
  {
   "cell_type": "markdown",
   "id": "b22d931d-1d4f-44c3-855b-62f77f9cb514",
   "metadata": {},
   "source": [
    "# SVM-RFE-RELIEF"
   ]
  },
  {
   "cell_type": "code",
   "execution_count": 47,
   "id": "a72da35e-3748-4aff-9a85-2eac1f855af3",
   "metadata": {},
   "outputs": [],
   "source": [
    "from skfeature.function.similarity_based import reliefF\n",
    "from sklearn.svm import SVC\n",
    "from sklearn.model_selection import KFold\n",
    "from numpy import mean \n",
    "from sklearn.model_selection import cross_val_score\n",
    "class rfe_relief_SVM:\n",
    "    def __init__(self,x_train,y_train,C):\n",
    "        self.X_train=x_train\n",
    "        self.Y_train=y_train\n",
    "        self.C=C\n",
    "    def featu_score(self,alpha,folds):\n",
    "        kf=KFold(n_splits=folds,shuffle=False)\n",
    "        estimator=SVC(kernel='linear',C=self.C)\n",
    "        rank_=[]\n",
    "        featu_num=self.X_train.shape[1]\n",
    "        candi_fea=[i for i in range(featu_num)]\n",
    "        i=featu_num\n",
    "        aver_lis=[i for i in range(featu_num)]\n",
    "        F_lis=[i for i in range(featu_num)]\n",
    "        aver=mean(cross_val_score(estimator,self.X_train,self.Y_train,scoring=\"accuracy\",cv=kf,n_jobs=-1))\n",
    "        aver_lis[i-1]=aver\n",
    "        F1=mean(cross_val_score(estimator,self.X_train,self.Y_train,scoring=\"f1\",cv=kf,n_jobs=-1))\n",
    "        F_lis[i-1]=F1\n",
    "        while True:\n",
    "            relief_score=(reliefF.reliefF(self.X_train[:,candi_fea],self.Y_train)).reshape(1,i)\n",
    "            #print(relief_score)\n",
    "            estimator.fit(self.X_train[:,candi_fea],self.Y_train)\n",
    "            rfe_score=(estimator.coef_)**2\n",
    "            #print(rfe_score)\n",
    "            total_score=alpha*relief_score+(1-alpha)*rfe_score\n",
    "            #print(total_score)\n",
    "            index_=np.argmin(total_score)\n",
    "            remove_fea=candi_fea[index_]\n",
    "            candi_fea.remove(remove_fea)\n",
    "            i-=1\n",
    "            aver=mean(cross_val_score(estimator,self.X_train[:,candi_fea],self.Y_train,scoring=\"accuracy\",cv=kf,n_jobs=-1))\n",
    "            F1=mean(cross_val_score(estimator,self.X_train[:,candi_fea],self.Y_train,scoring=\"f1\",cv=kf,n_jobs=-1))\n",
    "            aver_lis[i-1]=aver\n",
    "            F_lis[i-1]=F1\n",
    "            if i==1:\n",
    "                break\n",
    "        return aver_lis,F_lis\n",
    "    def sele_feature(self,alpha,optim_featur_num):\n",
    "        estimator=SVC(kernel='linear',C=self.C)\n",
    "        rank_=[]\n",
    "        featu_num=self.X_train.shape[1]\n",
    "        candi_fea=[i for i in range(featu_num)]\n",
    "        i=featu_num\n",
    "        while True:\n",
    "            relief_score=(reliefF.reliefF(self.X_train[:,candi_fea],self.Y_train)).reshape(1,i)\n",
    "            estimator.fit(self.X_train[:,candi_fea],self.Y_train)\n",
    "            rfe_score=(estimator.coef_)**2\n",
    "            total_score=alpha*relief_score+(1-alpha)*rfe_score\n",
    "            index_=np.argmin(total_score)\n",
    "            remove_fea=candi_fea[index_]\n",
    "            candi_fea.remove(remove_fea)\n",
    "            print(i)\n",
    "            i-=1\n",
    "            if len(candi_fea)==optim_featur_num:\n",
    "                return candi_fea"
   ]
  },
  {
   "cell_type": "code",
   "execution_count": 48,
   "id": "b19a7fe6-cb4b-475f-9d6f-7cf569067fe3",
   "metadata": {},
   "outputs": [
    {
     "name": "stdout",
     "output_type": "stream",
     "text": [
      "49\n",
      "48\n",
      "47\n",
      "46\n",
      "45\n",
      "44\n",
      "43\n",
      "42\n",
      "41\n",
      "40\n",
      "39\n",
      "38\n",
      "37\n",
      "36\n",
      "35\n",
      "34\n",
      "33\n",
      "32\n",
      "31\n",
      "30\n",
      "29\n",
      "28\n",
      "27\n",
      "26\n",
      "25\n",
      "24\n",
      "23\n",
      "22\n",
      "21\n",
      "20\n",
      "19\n",
      "18\n"
     ]
    }
   ],
   "source": [
    "## k=11, 0.85\n",
    "rfe_relief_SVM_model=rfe_relief_SVM(x_train,y_train,0.1)\n",
    "rfe_relief_SVM_sele_featu_subset=rfe_relief_SVM_model.sele_feature(0.35,17)"
   ]
  },
  {
   "cell_type": "code",
   "execution_count": 49,
   "id": "69f16b02-5986-4698-9724-1f9740d886f2",
   "metadata": {},
   "outputs": [
    {
     "data": {
      "text/plain": [
       "(array(['PSY', 'AR', 'BR', 'MOBV', 'BBI', 'MA', 'EXPMA', 'CCI', 'K', 'D',\n",
       "        'RSI', 'VRSI', 'WR', 'ADTM', 'CDP', 'JDRS', 'RCCD'], dtype='<U8'),\n",
       " 17)"
      ]
     },
     "execution_count": 49,
     "metadata": {},
     "output_type": "execute_result"
    }
   ],
   "source": [
    "np.array(techini_indicator)[rfe_relief_SVM_sele_featu_subset],len(np.array(techini_indicator)[rfe_relief_SVM_sele_featu_subset])"
   ]
  },
  {
   "cell_type": "code",
   "execution_count": 50,
   "id": "4bcc4c25-8b99-4333-be58-91d76a50abb6",
   "metadata": {},
   "outputs": [
    {
     "name": "stdout",
     "output_type": "stream",
     "text": [
      "(0.8470588235294118, 0.8, 0.8888888888888888, 0.8648648648648649, 0.8311688311688312)\n"
     ]
    }
   ],
   "source": [
    "estimator_SVM_rfe_reliefF=SVC(kernel='linear',C=0.1)\n",
    "estimator_SVM_rfe_reliefF.fit(x_train[:,rfe_relief_SVM_sele_featu_subset],y_train)\n",
    "rfe_reliefF_SVM_result=estimator_SVM_rfe_reliefF.predict(x_test[:,rfe_relief_SVM_sele_featu_subset])\n",
    "performan_rfe_reliefF_SVM=meansure_performance(rfe_reliefF_SVM_result)\n",
    "print(performan_rfe_reliefF_SVM)"
   ]
  },
  {
   "cell_type": "code",
   "execution_count": null,
   "id": "6591f4b3-ae0c-4f87-8f1f-ca72fbd4ee42",
   "metadata": {},
   "outputs": [],
   "source": []
  },
  {
   "cell_type": "code",
   "execution_count": null,
   "id": "0248a3b1-04cb-432f-904c-2fc7dbdf1278",
   "metadata": {},
   "outputs": [],
   "source": []
  }
 ],
 "metadata": {
  "kernelspec": {
   "display_name": "Python 3 (ipykernel)",
   "language": "python",
   "name": "python3"
  },
  "language_info": {
   "codemirror_mode": {
    "name": "ipython",
    "version": 3
   },
   "file_extension": ".py",
   "mimetype": "text/x-python",
   "name": "python",
   "nbconvert_exporter": "python",
   "pygments_lexer": "ipython3",
   "version": "3.11.7"
  }
 },
 "nbformat": 4,
 "nbformat_minor": 5
}
