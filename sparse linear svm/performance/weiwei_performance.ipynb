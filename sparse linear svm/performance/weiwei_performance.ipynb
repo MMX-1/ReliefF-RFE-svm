{
 "cells": [
  {
   "cell_type": "code",
   "execution_count": 25,
   "id": "95388ff8-53f8-490d-93ce-9adf638a9faf",
   "metadata": {},
   "outputs": [],
   "source": [
    "#性能测量\n",
    "def meansure_performance(y_predict_lis):\n",
    "    TP=0\n",
    "    FP=0\n",
    "    TN=0\n",
    "    FN=0\n",
    "    #测试样本数\n",
    "    sample_num=x_test.shape[0]\n",
    "    for i in range(sample_num):\n",
    "        y_predict=y_predict_lis[i]\n",
    "        if y_predict==1 and y_test[i]==1:\n",
    "            TP+=1\n",
    "        elif y_predict==-1 and y_test[i]==-1:\n",
    "            TN+=1\n",
    "        elif y_predict==1 and y_test[i]==-1:\n",
    "    #false poistive\n",
    "            FP+=1\n",
    "        elif y_predict==-1 and y_test[i]==1:\n",
    "    #false negative\n",
    "            FN+=1 \n",
    "    accuracy=(TP+TN)/(TP+FP+TN+FN)\n",
    "    recall=TP/(TP+FN)\n",
    "    specificity=TN/(TN+FP)\n",
    "    precision=TP/(TP+FP)\n",
    "    F_measuer=(2*precision*recall)/(precision+recall)\n",
    "    return accuracy,recall,specificity,precision,F_measuer"
   ]
  },
  {
   "cell_type": "code",
   "execution_count": 26,
   "id": "a9f2ab1f-f823-475c-a986-ae67ec003066",
   "metadata": {},
   "outputs": [],
   "source": [
    "from skfeature.function.similarity_based import reliefF\n",
    "from sklearn.svm import SVC\n",
    "from sklearn.model_selection import KFold\n",
    "from skfeature.function.statistical_based import CFS\n",
    "import pandas as pd\n",
    "import numpy as np\n",
    "data_rfe=pd.read_csv('norm_weiwei.csv')\n",
    "data_rfe_array=np.array(data_rfe)\n",
    "fea=data_rfe_array[:,:49]\n",
    "target=data_rfe_array[:,49]\n",
    "x_test=fea[:170,:]\n",
    "y_test=target[:170]\n",
    "x_train=fea[170:,:]\n",
    "y_train=target[170:]"
   ]
  },
  {
   "cell_type": "code",
   "execution_count": 27,
   "id": "a790b052-46b9-449d-9d7a-1c1988c6764e",
   "metadata": {},
   "outputs": [],
   "source": [
    "techini_indicator=data_rfe.columns.tolist()[:-1]"
   ]
  },
  {
   "cell_type": "markdown",
   "id": "172a56c8-560f-473d-a257-0f648ddd13ed",
   "metadata": {},
   "source": [
    "# SVM"
   ]
  },
  {
   "cell_type": "code",
   "execution_count": 28,
   "id": "480f58cf-fe52-435c-bb5f-b208e8438510",
   "metadata": {},
   "outputs": [
    {
     "name": "stdout",
     "output_type": "stream",
     "text": [
      "(0.7764705882352941, 0.7956989247311828, 0.7532467532467533, 0.7956989247311828, 0.7956989247311826)\n"
     ]
    }
   ],
   "source": [
    "#0.1\n",
    "from sklearn.svm import SVC\n",
    "estima_SVM=SVC(kernel='linear',C=0.5)\n",
    "estima_SVM.fit(x_train,y_train)\n",
    "SVM_result=estima_SVM.predict(x_test)\n",
    "performan_SVM=meansure_performance(SVM_result)\n",
    "print(performan_SVM)"
   ]
  },
  {
   "cell_type": "markdown",
   "id": "10f7d375-3162-4126-970e-f7614a51ab71",
   "metadata": {},
   "source": [
    "# CFS-SVM"
   ]
  },
  {
   "cell_type": "code",
   "execution_count": 29,
   "id": "20a2ae4c-4808-405e-ac2b-6e3d4517ee5d",
   "metadata": {},
   "outputs": [
    {
     "data": {
      "text/plain": [
       "[27, 1, 2, 3, 5, 8]"
      ]
     },
     "execution_count": 29,
     "metadata": {},
     "output_type": "execute_result"
    }
   ],
   "source": [
    "from sklearn.svm import LinearSVC\n",
    "from skfeature.function.statistical_based import CFS\n",
    "CFS_selected_feature = CFS.cfs(x_train,y_train)\n",
    "CFS_fea_sele=list(CFS_selected_feature)\n",
    "CFS_fea_sele"
   ]
  },
  {
   "cell_type": "code",
   "execution_count": 30,
   "id": "84028110-aa84-4f91-b1f1-b05166b2bb00",
   "metadata": {},
   "outputs": [
    {
     "data": {
      "text/plain": [
       "(array(['D', 'TAPI', 'VMA', 'VMACD', 'VSTD', 'VR'], dtype='<U8'), 6)"
      ]
     },
     "execution_count": 30,
     "metadata": {},
     "output_type": "execute_result"
    }
   ],
   "source": [
    "np.array(techini_indicator)[CFS_fea_sele],len(np.array(techini_indicator)[CFS_fea_sele])"
   ]
  },
  {
   "cell_type": "code",
   "execution_count": 31,
   "id": "231a05c0-deea-404d-a9d5-87ab05f3bebe",
   "metadata": {},
   "outputs": [],
   "source": [
    "estimator_SVM_CFS=SVC(kernel='linear',C=0.5)\n",
    "estimator_SVM_CFS.fit(x_train[:,CFS_fea_sele],y_train)\n",
    "CFS_SVM_result=estimator_SVM_CFS.predict(x_test[:,CFS_fea_sele])"
   ]
  },
  {
   "cell_type": "code",
   "execution_count": 32,
   "id": "ba00232b-0b3e-42f1-8699-cac95feb95c6",
   "metadata": {},
   "outputs": [
    {
     "name": "stdout",
     "output_type": "stream",
     "text": [
      "(0.5588235294117647, 0.956989247311828, 0.07792207792207792, 0.55625, 0.7035573122529645)\n"
     ]
    }
   ],
   "source": [
    "performan_CFS_SVM=meansure_performance(CFS_SVM_result)\n",
    "print(performan_CFS_SVM)"
   ]
  },
  {
   "cell_type": "markdown",
   "id": "09d243bd-d1b1-4d70-aa0d-5f67bd80390f",
   "metadata": {},
   "source": [
    "# sequencial-backward-elimination SVM"
   ]
  },
  {
   "cell_type": "code",
   "execution_count": 33,
   "id": "258ad5d1-02f7-4047-841f-13a0c6ba03dc",
   "metadata": {},
   "outputs": [],
   "source": [
    "\n",
    "from sklearn.metrics import accuracy_score\n",
    "from sklearn.model_selection import KFold\n",
    "from numpy import mean \n",
    "from sklearn.model_selection import cross_val_score\n",
    "class back_SVM:\n",
    "    def __init__(self,X_train,Y_train,c):\n",
    "        self.X_train=X_train\n",
    "        self.Y_train=Y_train\n",
    "        self.C=c\n",
    "    def SBE(self,folds):\n",
    "        fea_num=self.X_train.shape[1]\n",
    "        candi_fea=[i for i in range(fea_num)]\n",
    "        best_subset=[i for i in range(fea_num)]\n",
    "        model=SVC(kernel='linear',C=self.C)\n",
    "        Best_accuracy=mean(cross_val_score(model,self.X_train,self.Y_train,scoring=\"accuracy\",cv=folds,n_jobs=-1))\n",
    "        Success=True\n",
    "        while Success:\n",
    "            Success=False\n",
    "            for f in candi_fea:\n",
    "                candi_fea_copy=candi_fea.copy()\n",
    "                candi_fea_copy.remove(f)\n",
    "                x_sele=self.X_train[:,candi_fea_copy]\n",
    "                n_scores=cross_val_score(model,x_sele,self.Y_train,scoring=\"accuracy\",cv=folds,n_jobs=-1)\n",
    "                acc=mean(n_scores)\n",
    "                if acc>=Best_accuracy:\n",
    "                    #print(f)\n",
    "                    best_subset=candi_fea_copy\n",
    "                    Success=True\n",
    "                    Best_accuracy=acc\n",
    "            print(1)\n",
    "            if Success==True:\n",
    "                candi_fea=best_subset\n",
    "            print(len(candi_fea))\n",
    "        return best_subset\n",
    "                \n",
    "        \n",
    "        "
   ]
  },
  {
   "cell_type": "code",
   "execution_count": 34,
   "id": "34f618ab-36cc-47b9-ae9a-d4ac5b2f6b91",
   "metadata": {},
   "outputs": [
    {
     "name": "stdout",
     "output_type": "stream",
     "text": [
      "1\n",
      "48\n",
      "1\n",
      "47\n",
      "1\n",
      "46\n",
      "1\n",
      "45\n",
      "1\n",
      "44\n",
      "1\n",
      "44\n"
     ]
    }
   ],
   "source": [
    "estimator_SVM_back=back_SVM(x_train,y_train,0.5)\n",
    "candi_fea_SBE=estimator_SVM_back.SBE(5)"
   ]
  },
  {
   "cell_type": "code",
   "execution_count": 35,
   "id": "6b2243e0-d357-4a58-a514-8b6329c440a5",
   "metadata": {},
   "outputs": [],
   "source": [
    "estimator_SVM_SBE=SVC(kernel='linear',C=0.5)\n",
    "estimator_SVM_SBE.fit(x_train[:,candi_fea_SBE],y_train)\n",
    "SBE_SVM_result=estimator_SVM_SBE.predict(x_test[:,candi_fea_SBE])"
   ]
  },
  {
   "cell_type": "code",
   "execution_count": 36,
   "id": "43aae84b-d76b-47a8-a58a-6e4bd95947f5",
   "metadata": {},
   "outputs": [
    {
     "name": "stdout",
     "output_type": "stream",
     "text": [
      "(0.7941176470588235, 0.8064516129032258, 0.7792207792207793, 0.8152173913043478, 0.8108108108108107)\n"
     ]
    }
   ],
   "source": [
    "performan_SBE_SVM=meansure_performance(SBE_SVM_result)\n",
    "print(performan_SBE_SVM)"
   ]
  },
  {
   "cell_type": "code",
   "execution_count": 49,
   "id": "9a36e5df-845c-4fff-8cc5-9eeb85e1859a",
   "metadata": {},
   "outputs": [
    {
     "data": {
      "text/plain": [
       "(44,\n",
       " [0,\n",
       "  2,\n",
       "  3,\n",
       "  5,\n",
       "  6,\n",
       "  7,\n",
       "  8,\n",
       "  9,\n",
       "  10,\n",
       "  12,\n",
       "  13,\n",
       "  14,\n",
       "  15,\n",
       "  16,\n",
       "  18,\n",
       "  19,\n",
       "  20,\n",
       "  21,\n",
       "  22,\n",
       "  23,\n",
       "  24,\n",
       "  25,\n",
       "  26,\n",
       "  28,\n",
       "  29,\n",
       "  30,\n",
       "  31,\n",
       "  32,\n",
       "  33,\n",
       "  34,\n",
       "  35,\n",
       "  36,\n",
       "  37,\n",
       "  38,\n",
       "  39,\n",
       "  40,\n",
       "  41,\n",
       "  42,\n",
       "  43,\n",
       "  44,\n",
       "  45,\n",
       "  46,\n",
       "  47,\n",
       "  48])"
      ]
     },
     "execution_count": 49,
     "metadata": {},
     "output_type": "execute_result"
    }
   ],
   "source": [
    "len(candi_fea_SBE),candi_fea_SBE"
   ]
  },
  {
   "cell_type": "code",
   "execution_count": 54,
   "id": "f3e1d66c-c59c-4875-8897-a2599b9b145d",
   "metadata": {},
   "outputs": [
    {
     "data": {
      "text/plain": [
       "'D'"
      ]
     },
     "execution_count": 54,
     "metadata": {},
     "output_type": "execute_result"
    }
   ],
   "source": [
    "np.array(techini_indicator)[27]"
   ]
  },
  {
   "cell_type": "markdown",
   "id": "42861b53-d338-47f9-9860-0361842213c5",
   "metadata": {},
   "source": [
    "# reliefF-svm "
   ]
  },
  {
   "cell_type": "code",
   "execution_count": 37,
   "id": "2dc3bbc0-f2ac-4719-8e4b-31aaf2582c0c",
   "metadata": {},
   "outputs": [],
   "source": [
    "from skfeature.function.similarity_based import reliefF\n",
    "relief_fea_score=reliefF.reliefF(x_train,y_train)\n",
    "relief_candi_fea=list(reliefF.feature_ranking(relief_fea_score))[:12]"
   ]
  },
  {
   "cell_type": "code",
   "execution_count": 38,
   "id": "602fa81d-b708-4d8e-ac0f-6e4c581ea325",
   "metadata": {},
   "outputs": [
    {
     "data": {
      "text/plain": [
       "(array(['MOBV', 'RSI', 'WR', 'VRSI', 'QRR', 'DPO', 'BIAS', 'D', 'PSY',\n",
       "        'VROC', 'VR', 'TAPI'], dtype='<U8'),\n",
       " 12)"
      ]
     },
     "execution_count": 38,
     "metadata": {},
     "output_type": "execute_result"
    }
   ],
   "source": [
    "np.array(techini_indicator)[relief_candi_fea],len(np.array(techini_indicator)[relief_candi_fea])"
   ]
  },
  {
   "cell_type": "code",
   "execution_count": 39,
   "id": "8e502d06-390e-4041-9e19-8d479ec39933",
   "metadata": {},
   "outputs": [],
   "source": [
    "estimator_SVM_relief=SVC(kernel='linear',C=0.5)\n",
    "estimator_SVM_relief.fit(x_train[:,relief_candi_fea],y_train)\n",
    "relief_SVM_result=estimator_SVM_relief.predict(x_test[:,relief_candi_fea])"
   ]
  },
  {
   "cell_type": "code",
   "execution_count": 40,
   "id": "fcda9eef-081f-4865-8e0f-26d25b308891",
   "metadata": {},
   "outputs": [
    {
     "name": "stdout",
     "output_type": "stream",
     "text": [
      "(0.7764705882352941, 0.7849462365591398, 0.7662337662337663, 0.8021978021978022, 0.7934782608695653)\n"
     ]
    }
   ],
   "source": [
    "performan_relief_SVM=meansure_performance(relief_SVM_result)\n",
    "print(performan_relief_SVM)"
   ]
  },
  {
   "cell_type": "markdown",
   "id": "bbd34aea-89d6-4ca7-b027-0faae9eecab9",
   "metadata": {},
   "source": [
    "# RFE-SVM"
   ]
  },
  {
   "cell_type": "code",
   "execution_count": 41,
   "id": "95bf26e2-bd26-448c-881f-3402dc56d95c",
   "metadata": {},
   "outputs": [],
   "source": [
    "from skfeature.function.similarity_based import reliefF\n",
    "from sklearn.svm import SVC\n",
    "from sklearn.model_selection import KFold\n",
    "from numpy import mean \n",
    "from sklearn.model_selection import cross_val_score\n",
    "class rfe_SVM:\n",
    "    def __init__(self,x_train,y_train,C):\n",
    "        self.X_train=x_train\n",
    "        self.Y_train=y_train\n",
    "        self.C=C\n",
    "    def featu_score(self,folds):\n",
    "        kf=KFold(n_splits=folds,shuffle=False)\n",
    "        estimator=SVC(kernel='linear',C=self.C)\n",
    "        rank_=[]\n",
    "        featu_num=self.X_train.shape[1]\n",
    "        candi_fea=[i for i in range(featu_num)]\n",
    "        i=featu_num\n",
    "        aver_lis=[i for i in range(featu_num)]\n",
    "        F_lis=[i for i in range(featu_num)]\n",
    "        aver=mean(cross_val_score(estimator,x_train,y_train,scoring=\"accuracy\",cv=kf,n_jobs=-1))\n",
    "        aver_lis[i-1]=aver\n",
    "        F1=mean(cross_val_score(estimator,x_train,y_train,scoring=\"f1\",cv=kf,n_jobs=-1))\n",
    "        F_lis[i-1]=F1\n",
    "        while True:\n",
    "            estimator.fit(self.X_train[:,candi_fea],self.Y_train)\n",
    "            rfe_score=(estimator.coef_)**2\n",
    "            index_=np.argmin(rfe_score)\n",
    "            remove_fea=candi_fea[index_]\n",
    "            candi_fea.remove(remove_fea)\n",
    "            i-=1\n",
    "            aver=mean(cross_val_score(estimator,x_train[:,candi_fea],y_train,scoring=\"accuracy\",cv=kf,n_jobs=-1))\n",
    "            F1=mean(cross_val_score(estimator,x_train[:,candi_fea],y_train,scoring=\"f1\",cv=kf,n_jobs=-1))\n",
    "            aver_lis[i-1]=aver\n",
    "            F_lis[i-1]=F1\n",
    "            if i==1:\n",
    "                break\n",
    "        return aver_lis,F_lis\n",
    "   \n",
    "    def featu_subset(self,featur_num):\n",
    "        kf=KFold(n_splits=5,shuffle=False)\n",
    "        estimator=SVC(kernel='linear',C=self.C)\n",
    "        rank_=[]\n",
    "        featu_num=self.X_train.shape[1]\n",
    "        candi_fea=[i for i in range(featu_num)]\n",
    "        while True:\n",
    "            estimator.fit(self.X_train[:,candi_fea],self.Y_train)\n",
    "            rfe_score=(estimator.coef_)**2\n",
    "            index_=np.argmin(rfe_score)\n",
    "            remove_fea=candi_fea[index_]\n",
    "            candi_fea.remove(remove_fea)\n",
    "            if len(candi_fea)==featur_num:\n",
    "                break\n",
    "        return candi_fea"
   ]
  },
  {
   "cell_type": "code",
   "execution_count": 42,
   "id": "1fd274ae-b548-4322-9bab-7b3ea3b5df54",
   "metadata": {},
   "outputs": [],
   "source": [
    "rfe_SVM_model=rfe_SVM(x_train,y_train,0.5)\n",
    "rfe_SVM_sele_featu_subset=rfe_SVM_model.featu_subset(12)"
   ]
  },
  {
   "cell_type": "code",
   "execution_count": 43,
   "id": "68f2ba83-d2a6-4093-adb4-de72b7296490",
   "metadata": {},
   "outputs": [
    {
     "data": {
      "text/plain": [
       "(array(['MOBV', 'BBI', 'MA', 'EXPMA', 'MACD', 'DPO', 'K', 'J', 'RSI', 'WR',\n",
       "        'ADTM', 'CDP'], dtype='<U8'),\n",
       " 12)"
      ]
     },
     "execution_count": 43,
     "metadata": {},
     "output_type": "execute_result"
    }
   ],
   "source": [
    "np.array(techini_indicator)[rfe_SVM_sele_featu_subset],len(np.array(techini_indicator)[rfe_SVM_sele_featu_subset])"
   ]
  },
  {
   "cell_type": "code",
   "execution_count": 44,
   "id": "7a58eb99-4763-46d8-bcb8-c38c23fc496b",
   "metadata": {},
   "outputs": [
    {
     "name": "stdout",
     "output_type": "stream",
     "text": [
      "(0.8, 0.8279569892473119, 0.7662337662337663, 0.8105263157894737, 0.8191489361702128)\n"
     ]
    }
   ],
   "source": [
    "estimator_SVM_rfe=SVC(kernel='linear',C=0.5)\n",
    "estimator_SVM_rfe.fit(x_train[:,rfe_SVM_sele_featu_subset],y_train)\n",
    "rfe_SVM_result=estimator_SVM_rfe.predict(x_test[:,rfe_SVM_sele_featu_subset])\n",
    "performan_rfe_SVM=meansure_performance(rfe_SVM_result)\n",
    "print(performan_rfe_SVM)"
   ]
  },
  {
   "cell_type": "markdown",
   "id": "edfb85e2-f19a-45fb-b6cd-6b86a0e6af90",
   "metadata": {},
   "source": [
    "# SVM-RFE-RELIEF"
   ]
  },
  {
   "cell_type": "code",
   "execution_count": 45,
   "id": "c041f979-f4ec-4bab-ac41-5b445f188ac2",
   "metadata": {},
   "outputs": [],
   "source": [
    "from skfeature.function.similarity_based import reliefF\n",
    "from sklearn.svm import SVC\n",
    "from sklearn.model_selection import KFold\n",
    "from numpy import mean \n",
    "from sklearn.model_selection import cross_val_score\n",
    "class rfe_relief_SVM:\n",
    "    def __init__(self,x_train,y_train,C):\n",
    "        self.X_train=x_train\n",
    "        self.Y_train=y_train\n",
    "        self.C=C\n",
    "    def featu_score(self,alpha,folds):\n",
    "        kf=KFold(n_splits=folds,shuffle=False)\n",
    "        estimator=SVC(kernel='linear',C=self.C)\n",
    "        rank_=[]\n",
    "        featu_num=self.X_train.shape[1]\n",
    "        candi_fea=[i for i in range(featu_num)]\n",
    "        i=featu_num\n",
    "        aver_lis=[i for i in range(featu_num)]\n",
    "        F_lis=[i for i in range(featu_num)]\n",
    "        aver=mean(cross_val_score(estimator,self.X_train,self.Y_train,scoring=\"accuracy\",cv=kf,n_jobs=-1))\n",
    "        aver_lis[i-1]=aver\n",
    "        F1=mean(cross_val_score(estimator,self.X_train,self.Y_train,scoring=\"f1\",cv=kf,n_jobs=-1))\n",
    "        F_lis[i-1]=F1\n",
    "        while True:\n",
    "            relief_score=(reliefF.reliefF(self.X_train[:,candi_fea],self.Y_train)).reshape(1,i)\n",
    "            #print(relief_score)\n",
    "            estimator.fit(self.X_train[:,candi_fea],self.Y_train)\n",
    "            rfe_score=(estimator.coef_)**2\n",
    "            #print(rfe_score)\n",
    "            total_score=alpha*relief_score+(1-alpha)*rfe_score\n",
    "            #print(total_score)\n",
    "            index_=np.argmin(total_score)\n",
    "            remove_fea=candi_fea[index_]\n",
    "            candi_fea.remove(remove_fea)\n",
    "            i-=1\n",
    "            aver=mean(cross_val_score(estimator,self.X_train[:,candi_fea],self.Y_train,scoring=\"accuracy\",cv=kf,n_jobs=-1))\n",
    "            F1=mean(cross_val_score(estimator,self.X_train[:,candi_fea],self.Y_train,scoring=\"f1\",cv=kf,n_jobs=-1))\n",
    "            aver_lis[i-1]=aver\n",
    "            F_lis[i-1]=F1\n",
    "            if i==1:\n",
    "                break\n",
    "        return aver_lis,F_lis\n",
    "    def sele_feature(self,alpha,optim_featur_num):\n",
    "        estimator=SVC(kernel='linear',C=self.C)\n",
    "        rank_=[]\n",
    "        featu_num=self.X_train.shape[1]\n",
    "        candi_fea=[i for i in range(featu_num)]\n",
    "        i=featu_num\n",
    "        while True:\n",
    "            relief_score=(reliefF.reliefF(self.X_train[:,candi_fea],self.Y_train)).reshape(1,i)\n",
    "            estimator.fit(self.X_train[:,candi_fea],self.Y_train)\n",
    "            rfe_score=(estimator.coef_)**2\n",
    "            total_score=alpha*relief_score+(1-alpha)*rfe_score\n",
    "            index_=np.argmin(total_score)\n",
    "            remove_fea=candi_fea[index_]\n",
    "            candi_fea.remove(remove_fea)\n",
    "            print(i)\n",
    "            i-=1\n",
    "            if len(candi_fea)==optim_featur_num:\n",
    "                return candi_fea"
   ]
  },
  {
   "cell_type": "code",
   "execution_count": 46,
   "id": "da8a8d32-d241-4db6-85a8-13cea70e88ff",
   "metadata": {},
   "outputs": [
    {
     "name": "stdout",
     "output_type": "stream",
     "text": [
      "49\n",
      "48\n",
      "47\n",
      "46\n",
      "45\n",
      "44\n",
      "43\n",
      "42\n",
      "41\n",
      "40\n",
      "39\n",
      "38\n",
      "37\n",
      "36\n",
      "35\n",
      "34\n",
      "33\n",
      "32\n",
      "31\n",
      "30\n",
      "29\n",
      "28\n",
      "27\n",
      "26\n",
      "25\n",
      "24\n",
      "23\n",
      "22\n",
      "21\n",
      "20\n",
      "19\n",
      "18\n",
      "17\n",
      "16\n",
      "15\n",
      "14\n",
      "13\n"
     ]
    }
   ],
   "source": [
    "## k=11, 0.85\n",
    "rfe_relief_SVM_model=rfe_relief_SVM(x_train,y_train,0.5)\n",
    "rfe_relief_SVM_sele_featu_subset=rfe_relief_SVM_model.sele_feature(0.15,12)"
   ]
  },
  {
   "cell_type": "code",
   "execution_count": 47,
   "id": "0f7f7f15-42c9-4b56-b0d7-0cfc9a143212",
   "metadata": {},
   "outputs": [
    {
     "data": {
      "text/plain": [
       "(array(['MOBV', 'BBI', 'MA', 'EXPMA', 'MACD', 'DPO', 'K', 'J', 'RSI', 'WR',\n",
       "        'ADTM', 'CDP'], dtype='<U8'),\n",
       " 12)"
      ]
     },
     "execution_count": 47,
     "metadata": {},
     "output_type": "execute_result"
    }
   ],
   "source": [
    "np.array(techini_indicator)[rfe_relief_SVM_sele_featu_subset],len(np.array(techini_indicator)[rfe_relief_SVM_sele_featu_subset])"
   ]
  },
  {
   "cell_type": "code",
   "execution_count": 48,
   "id": "8ac54bf7-f98b-4d2c-a3b6-0b30d0754971",
   "metadata": {},
   "outputs": [
    {
     "name": "stdout",
     "output_type": "stream",
     "text": [
      "(0.8, 0.8279569892473119, 0.7662337662337663, 0.8105263157894737, 0.8191489361702128)\n"
     ]
    }
   ],
   "source": [
    "estimator_SVM_rfe_reliefF=SVC(kernel='linear',C=0.5)\n",
    "estimator_SVM_rfe_reliefF.fit(x_train[:,rfe_relief_SVM_sele_featu_subset],y_train)\n",
    "rfe_reliefF_SVM_result=estimator_SVM_rfe_reliefF.predict(x_test[:,rfe_relief_SVM_sele_featu_subset])\n",
    "performan_rfe_reliefF_SVM=meansure_performance(rfe_reliefF_SVM_result)\n",
    "print(performan_rfe_reliefF_SVM)"
   ]
  },
  {
   "cell_type": "code",
   "execution_count": null,
   "id": "79f7a682-b6f6-450a-8ff2-53b7fc794251",
   "metadata": {},
   "outputs": [],
   "source": []
  }
 ],
 "metadata": {
  "kernelspec": {
   "display_name": "Python 3 (ipykernel)",
   "language": "python",
   "name": "python3"
  },
  "language_info": {
   "codemirror_mode": {
    "name": "ipython",
    "version": 3
   },
   "file_extension": ".py",
   "mimetype": "text/x-python",
   "name": "python",
   "nbconvert_exporter": "python",
   "pygments_lexer": "ipython3",
   "version": "3.11.7"
  }
 },
 "nbformat": 4,
 "nbformat_minor": 5
}
