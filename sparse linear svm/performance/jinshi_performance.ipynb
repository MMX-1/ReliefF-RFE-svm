{
 "cells": [
  {
   "cell_type": "code",
   "execution_count": 1,
   "id": "8e334cd0-b3ff-41cf-bb13-81c7e70c56de",
   "metadata": {},
   "outputs": [],
   "source": [
    "#性能测量\n",
    "def meansure_performance(y_predict_lis):\n",
    "    TP=0\n",
    "    FP=0\n",
    "    TN=0\n",
    "    FN=0\n",
    "    #测试样本数\n",
    "    sample_num=x_test.shape[0]\n",
    "    for i in range(sample_num):\n",
    "        y_predict=y_predict_lis[i]\n",
    "        if y_predict==1 and y_test[i]==1:\n",
    "            TP+=1\n",
    "        elif y_predict==-1 and y_test[i]==-1:\n",
    "            TN+=1\n",
    "        elif y_predict==1 and y_test[i]==-1:\n",
    "    #false poistive\n",
    "            FP+=1\n",
    "        elif y_predict==-1 and y_test[i]==1:\n",
    "    #false negative\n",
    "            FN+=1 \n",
    "    accuracy=(TP+TN)/(TP+FP+TN+FN)\n",
    "    recall=TP/(TP+FN)\n",
    "    specificity=TN/(TN+FP)\n",
    "    precision=TP/(TP+FP)\n",
    "    F_measuer=(2*precision*recall)/(precision+recall)\n",
    "    return accuracy,recall,specificity,precision,F_measuer"
   ]
  },
  {
   "cell_type": "code",
   "execution_count": 2,
   "id": "fa605aea-2ad7-44f8-b854-ad3ad6eeaa88",
   "metadata": {},
   "outputs": [],
   "source": [
    "from skfeature.function.similarity_based import reliefF\n",
    "from sklearn.svm import SVC\n",
    "from sklearn.model_selection import KFold\n",
    "from skfeature.function.statistical_based import CFS\n",
    "import pandas as pd\n",
    "import numpy as np\n",
    "data_rfe=pd.read_csv('norm_jinshi.csv')\n",
    "data_rfe_array=np.array(data_rfe)\n",
    "fea=data_rfe_array[:,:49]\n",
    "target=data_rfe_array[:,49]\n",
    "x_test=fea[:170,:]\n",
    "y_test=target[:170]\n",
    "x_train=fea[170:,:]\n",
    "y_train=target[170:]"
   ]
  },
  {
   "cell_type": "code",
   "execution_count": 3,
   "id": "61209361-9cb0-4f28-862e-b2fb6d073097",
   "metadata": {},
   "outputs": [],
   "source": [
    "techini_indicator=data_rfe.columns.tolist()[:-1]"
   ]
  },
  {
   "cell_type": "markdown",
   "id": "8f47a881-b9e5-4947-9eb0-960aec54c292",
   "metadata": {},
   "source": [
    "# SVM"
   ]
  },
  {
   "cell_type": "code",
   "execution_count": 4,
   "id": "c33dbbe7-db81-4aab-be9a-548d8691d7fd",
   "metadata": {},
   "outputs": [
    {
     "name": "stdout",
     "output_type": "stream",
     "text": [
      "(0.8176470588235294, 0.7733333333333333, 0.8526315789473684, 0.8055555555555556, 0.7891156462585034)\n"
     ]
    }
   ],
   "source": [
    "#0.1\n",
    "from sklearn.svm import SVC\n",
    "estima_SVM=SVC(kernel='linear',C=1.5)\n",
    "estima_SVM.fit(x_train,y_train)\n",
    "SVM_result=estima_SVM.predict(x_test)\n",
    "performan_SVM=meansure_performance(SVM_result)\n",
    "print(performan_SVM)"
   ]
  },
  {
   "cell_type": "markdown",
   "id": "cc3bcb22-7f06-4955-bc3d-2a806bf365ca",
   "metadata": {},
   "source": [
    "# CFS-SVM"
   ]
  },
  {
   "cell_type": "code",
   "execution_count": 5,
   "id": "0ede1f5c-b6e9-4322-8b22-0c086856dc44",
   "metadata": {},
   "outputs": [
    {
     "data": {
      "text/plain": [
       "[31, 4, 26, 1, 2, 3, 5]"
      ]
     },
     "execution_count": 5,
     "metadata": {},
     "output_type": "execute_result"
    }
   ],
   "source": [
    "from sklearn.svm import LinearSVC\n",
    "from skfeature.function.statistical_based import CFS\n",
    "CFS_selected_feature = CFS.cfs(x_train,y_train)\n",
    "CFS_fea_sele=list(CFS_selected_feature)\n",
    "CFS_fea_sele"
   ]
  },
  {
   "cell_type": "code",
   "execution_count": 6,
   "id": "72897e3b-1b33-471c-8419-e6359f96fa56",
   "metadata": {},
   "outputs": [
    {
     "data": {
      "text/plain": [
       "(array(['VROC', 'VOSC', 'K', 'TAPI', 'VMA', 'VMACD', 'VSTD'], dtype='<U8'), 7)"
      ]
     },
     "execution_count": 6,
     "metadata": {},
     "output_type": "execute_result"
    }
   ],
   "source": [
    "np.array(techini_indicator)[CFS_fea_sele],len(np.array(techini_indicator)[CFS_fea_sele])"
   ]
  },
  {
   "cell_type": "code",
   "execution_count": 7,
   "id": "92288f53-a71c-4760-9a33-4af7a2edc7ab",
   "metadata": {},
   "outputs": [],
   "source": [
    "estimator_SVM_CFS=SVC(kernel='linear',C=1.5)\n",
    "estimator_SVM_CFS.fit(x_train[:,CFS_fea_sele],y_train)\n",
    "CFS_SVM_result=estimator_SVM_CFS.predict(x_test[:,CFS_fea_sele])"
   ]
  },
  {
   "cell_type": "code",
   "execution_count": 8,
   "id": "f4d6f058-2fa6-4c21-a20c-1be4de504993",
   "metadata": {},
   "outputs": [
    {
     "name": "stdout",
     "output_type": "stream",
     "text": [
      "(0.611764705882353, 0.36, 0.8105263157894737, 0.6, 0.45)\n"
     ]
    }
   ],
   "source": [
    "performan_CFS_SVM=meansure_performance(CFS_SVM_result)\n",
    "print(performan_CFS_SVM)"
   ]
  },
  {
   "cell_type": "markdown",
   "id": "186c3ade-3c54-4e2d-92e5-efef09f597af",
   "metadata": {},
   "source": [
    "# sequencial-backward-elimination SVM"
   ]
  },
  {
   "cell_type": "code",
   "execution_count": 9,
   "id": "215077a1-2ac8-46de-bfec-0150308f2310",
   "metadata": {},
   "outputs": [],
   "source": [
    "\n",
    "from sklearn.metrics import accuracy_score\n",
    "from sklearn.model_selection import KFold\n",
    "from numpy import mean \n",
    "from sklearn.model_selection import cross_val_score\n",
    "class back_SVM:\n",
    "    def __init__(self,X_train,Y_train,c):\n",
    "        self.X_train=X_train\n",
    "        self.Y_train=Y_train\n",
    "        self.C=c\n",
    "    def SBE(self,folds):\n",
    "        fea_num=self.X_train.shape[1]\n",
    "        candi_fea=[i for i in range(fea_num)]\n",
    "        best_subset=[i for i in range(fea_num)]\n",
    "        model=SVC(kernel='linear',C=self.C)\n",
    "        Best_accuracy=mean(cross_val_score(model,self.X_train,self.Y_train,scoring=\"accuracy\",cv=folds,n_jobs=-1))\n",
    "        Success=True\n",
    "        while Success:\n",
    "            Success=False\n",
    "            for f in candi_fea:\n",
    "                candi_fea_copy=candi_fea.copy()\n",
    "                candi_fea_copy.remove(f)\n",
    "                x_sele=self.X_train[:,candi_fea_copy]\n",
    "                n_scores=cross_val_score(model,x_sele,self.Y_train,scoring=\"accuracy\",cv=folds,n_jobs=-1)\n",
    "                acc=mean(n_scores)\n",
    "                if acc>=Best_accuracy:\n",
    "                    #print(f)\n",
    "                    best_subset=candi_fea_copy\n",
    "                    Success=True\n",
    "                    Best_accuracy=acc\n",
    "            print(1)\n",
    "            if Success==True:\n",
    "                candi_fea=best_subset\n",
    "            print(len(candi_fea))\n",
    "        return best_subset\n",
    "                \n",
    "        "
   ]
  },
  {
   "cell_type": "code",
   "execution_count": 10,
   "id": "5a4e8756-61ae-4bfd-879d-bdf0b68bcaab",
   "metadata": {},
   "outputs": [
    {
     "name": "stdout",
     "output_type": "stream",
     "text": [
      "1\n",
      "48\n",
      "1\n",
      "47\n",
      "1\n",
      "46\n",
      "1\n",
      "45\n",
      "1\n",
      "44\n",
      "1\n",
      "43\n",
      "1\n",
      "42\n",
      "1\n",
      "41\n",
      "1\n",
      "40\n",
      "1\n",
      "39\n",
      "1\n",
      "38\n",
      "1\n",
      "38\n"
     ]
    }
   ],
   "source": [
    "estimator_SVM_back=back_SVM(x_train,y_train,1.5)\n",
    "candi_fea_SBE=estimator_SVM_back.SBE(5)"
   ]
  },
  {
   "cell_type": "code",
   "execution_count": 11,
   "id": "bd2023a7-ae4f-4feb-86fb-225cdd501f58",
   "metadata": {},
   "outputs": [],
   "source": [
    "estimator_SVM_SBE=SVC(kernel='linear',C=1.5)\n",
    "estimator_SVM_SBE.fit(x_train[:,candi_fea_SBE],y_train)\n",
    "SBE_SVM_result=estimator_SVM_SBE.predict(x_test[:,candi_fea_SBE])"
   ]
  },
  {
   "cell_type": "code",
   "execution_count": 25,
   "id": "122fc6f1-4098-4b15-aac1-c1e66014cfb4",
   "metadata": {},
   "outputs": [
    {
     "name": "stdout",
     "output_type": "stream",
     "text": [
      "(0.8176470588235294, 0.8, 0.8315789473684211, 0.7894736842105263, 0.794701986754967) 38\n"
     ]
    }
   ],
   "source": [
    "performan_SBE_SVM=meansure_performance(SBE_SVM_result)\n",
    "print(performan_SBE_SVM,len(candi_fea_SBE))"
   ]
  },
  {
   "cell_type": "code",
   "execution_count": 26,
   "id": "07487688-d0ad-4276-905a-ee67ec2e17a3",
   "metadata": {},
   "outputs": [
    {
     "data": {
      "text/plain": [
       "[0,\n",
       " 2,\n",
       " 3,\n",
       " 6,\n",
       " 8,\n",
       " 9,\n",
       " 10,\n",
       " 11,\n",
       " 14,\n",
       " 15,\n",
       " 16,\n",
       " 17,\n",
       " 18,\n",
       " 19,\n",
       " 20,\n",
       " 21,\n",
       " 22,\n",
       " 23,\n",
       " 25,\n",
       " 26,\n",
       " 27,\n",
       " 30,\n",
       " 31,\n",
       " 32,\n",
       " 33,\n",
       " 34,\n",
       " 35,\n",
       " 36,\n",
       " 37,\n",
       " 38,\n",
       " 40,\n",
       " 41,\n",
       " 43,\n",
       " 44,\n",
       " 45,\n",
       " 46,\n",
       " 47,\n",
       " 48]"
      ]
     },
     "execution_count": 26,
     "metadata": {},
     "output_type": "execute_result"
    }
   ],
   "source": [
    "candi_fea_SBE"
   ]
  },
  {
   "cell_type": "code",
   "execution_count": 37,
   "id": "71cc8a46-6f49-4c21-b1e4-a842105e01d0",
   "metadata": {},
   "outputs": [
    {
     "data": {
      "text/plain": [
       "'RCCD'"
      ]
     },
     "execution_count": 37,
     "metadata": {},
     "output_type": "execute_result"
    }
   ],
   "source": [
    "np.array(techini_indicator)[42]"
   ]
  },
  {
   "cell_type": "markdown",
   "id": "ac21f99e-3d37-4e97-b4a4-fbc35925926c",
   "metadata": {},
   "source": [
    "# reliefF-svm "
   ]
  },
  {
   "cell_type": "code",
   "execution_count": 13,
   "id": "83fb4ef0-8f31-4ee9-bd61-901549088031",
   "metadata": {},
   "outputs": [],
   "source": [
    "from skfeature.function.similarity_based import reliefF\n",
    "relief_fea_score=reliefF.reliefF(x_train,y_train)\n",
    "relief_candi_fea=list(reliefF.feature_ranking(relief_fea_score))[:9]"
   ]
  },
  {
   "cell_type": "code",
   "execution_count": 14,
   "id": "8f5f6fef-280e-47b3-9c97-fd8ac0dd11da",
   "metadata": {},
   "outputs": [
    {
     "data": {
      "text/plain": [
       "(array(['MOBV', 'RSI', 'WR', 'VRSI', 'QRR', 'DPO', 'TAPI', 'BIAS', 'D'],\n",
       "       dtype='<U8'),\n",
       " 9)"
      ]
     },
     "execution_count": 14,
     "metadata": {},
     "output_type": "execute_result"
    }
   ],
   "source": [
    "np.array(techini_indicator)[relief_candi_fea],len(np.array(techini_indicator)[relief_candi_fea])"
   ]
  },
  {
   "cell_type": "code",
   "execution_count": 15,
   "id": "9e6a06cb-5d7e-42e5-8c13-0c51220ea843",
   "metadata": {},
   "outputs": [],
   "source": [
    "estimator_SVM_relief=SVC(kernel='linear',C=1.5)\n",
    "estimator_SVM_relief.fit(x_train[:,relief_candi_fea],y_train)\n",
    "relief_SVM_result=estimator_SVM_relief.predict(x_test[:,relief_candi_fea])"
   ]
  },
  {
   "cell_type": "code",
   "execution_count": 16,
   "id": "bd29a42e-3056-4ca5-9885-6a844f6ec6b6",
   "metadata": {},
   "outputs": [
    {
     "name": "stdout",
     "output_type": "stream",
     "text": [
      "(0.8117647058823529, 0.8, 0.8210526315789474, 0.7792207792207793, 0.7894736842105264)\n"
     ]
    }
   ],
   "source": [
    "performan_relief_SVM=meansure_performance(relief_SVM_result)\n",
    "print(performan_relief_SVM)"
   ]
  },
  {
   "cell_type": "markdown",
   "id": "9bcec58d-ff87-4fba-9cbd-44570b94c648",
   "metadata": {},
   "source": [
    "# RFE-SVM"
   ]
  },
  {
   "cell_type": "code",
   "execution_count": 17,
   "id": "102c424a-09c3-4033-9d69-2e999617ad48",
   "metadata": {},
   "outputs": [],
   "source": [
    "from skfeature.function.similarity_based import reliefF\n",
    "from sklearn.svm import SVC\n",
    "from sklearn.model_selection import KFold\n",
    "from numpy import mean \n",
    "from sklearn.model_selection import cross_val_score\n",
    "class rfe_SVM:\n",
    "    def __init__(self,x_train,y_train,C):\n",
    "        self.X_train=x_train\n",
    "        self.Y_train=y_train\n",
    "        self.C=C\n",
    "    def featu_score(self,folds):\n",
    "        kf=KFold(n_splits=folds,shuffle=False)\n",
    "        estimator=SVC(kernel='linear',C=self.C)\n",
    "        rank_=[]\n",
    "        featu_num=self.X_train.shape[1]\n",
    "        candi_fea=[i for i in range(featu_num)]\n",
    "        i=featu_num\n",
    "        aver_lis=[i for i in range(featu_num)]\n",
    "        F_lis=[i for i in range(featu_num)]\n",
    "        aver=mean(cross_val_score(estimator,x_train,y_train,scoring=\"accuracy\",cv=kf,n_jobs=-1))\n",
    "        aver_lis[i-1]=aver\n",
    "        F1=mean(cross_val_score(estimator,x_train,y_train,scoring=\"f1\",cv=kf,n_jobs=-1))\n",
    "        F_lis[i-1]=F1\n",
    "        while True:\n",
    "            estimator.fit(self.X_train[:,candi_fea],self.Y_train)\n",
    "            rfe_score=(estimator.coef_)**2\n",
    "            index_=np.argmin(rfe_score)\n",
    "            remove_fea=candi_fea[index_]\n",
    "            candi_fea.remove(remove_fea)\n",
    "            i-=1\n",
    "            aver=mean(cross_val_score(estimator,x_train[:,candi_fea],y_train,scoring=\"accuracy\",cv=kf,n_jobs=-1))\n",
    "            F1=mean(cross_val_score(estimator,x_train[:,candi_fea],y_train,scoring=\"f1\",cv=kf,n_jobs=-1))\n",
    "            aver_lis[i-1]=aver\n",
    "            F_lis[i-1]=F1\n",
    "            if i==1:\n",
    "                break\n",
    "        return aver_lis,F_lis\n",
    "   \n",
    "    def featu_subset(self,featur_num):\n",
    "        kf=KFold(n_splits=5,shuffle=False)\n",
    "        estimator=SVC(kernel='linear',C=self.C)\n",
    "        rank_=[]\n",
    "        featu_num=self.X_train.shape[1]\n",
    "        candi_fea=[i for i in range(featu_num)]\n",
    "        while True:\n",
    "            estimator.fit(self.X_train[:,candi_fea],self.Y_train)\n",
    "            rfe_score=(estimator.coef_)**2\n",
    "            index_=np.argmin(rfe_score)\n",
    "            remove_fea=candi_fea[index_]\n",
    "            candi_fea.remove(remove_fea)\n",
    "            if len(candi_fea)==featur_num:\n",
    "                break\n",
    "        return candi_fea"
   ]
  },
  {
   "cell_type": "code",
   "execution_count": 18,
   "id": "5c64d82f-4ea1-4cd3-a762-a0431b4ca0c3",
   "metadata": {},
   "outputs": [],
   "source": [
    "rfe_SVM_model=rfe_SVM(x_train,y_train,1.5)\n",
    "rfe_SVM_sele_featu_subset=rfe_SVM_model.featu_subset(9)"
   ]
  },
  {
   "cell_type": "code",
   "execution_count": 19,
   "id": "0f869c11-6229-4834-852b-1f627f331091",
   "metadata": {},
   "outputs": [
    {
     "data": {
      "text/plain": [
       "(array(['WAD', 'MOBV', 'BBI', 'MA', 'EXPMA', 'K', 'RSI', 'WR', 'CDP'],\n",
       "       dtype='<U8'),\n",
       " 9)"
      ]
     },
     "execution_count": 19,
     "metadata": {},
     "output_type": "execute_result"
    }
   ],
   "source": [
    "np.array(techini_indicator)[rfe_SVM_sele_featu_subset],len(np.array(techini_indicator)[rfe_SVM_sele_featu_subset])"
   ]
  },
  {
   "cell_type": "code",
   "execution_count": 20,
   "id": "ee847420-a4cb-46d7-9e7f-c4163428f13c",
   "metadata": {},
   "outputs": [
    {
     "name": "stdout",
     "output_type": "stream",
     "text": [
      "(0.8294117647058824, 0.7866666666666666, 0.8631578947368421, 0.8194444444444444, 0.802721088435374)\n"
     ]
    }
   ],
   "source": [
    "estimator_SVM_rfe=SVC(kernel='linear',C=1.5)\n",
    "estimator_SVM_rfe.fit(x_train[:,rfe_SVM_sele_featu_subset],y_train)\n",
    "rfe_SVM_result=estimator_SVM_rfe.predict(x_test[:,rfe_SVM_sele_featu_subset])\n",
    "performan_rfe_SVM=meansure_performance(rfe_SVM_result)\n",
    "print(performan_rfe_SVM)"
   ]
  },
  {
   "cell_type": "markdown",
   "id": "071d3381-7269-49e9-8fb7-e2692c527b2e",
   "metadata": {},
   "source": [
    " # SVM-RFE-RELIEF"
   ]
  },
  {
   "cell_type": "code",
   "execution_count": 21,
   "id": "92892b2b-3485-4c6b-b8d0-9d91613a8979",
   "metadata": {},
   "outputs": [],
   "source": [
    "from skfeature.function.similarity_based import reliefF\n",
    "from sklearn.svm import SVC\n",
    "from sklearn.model_selection import KFold\n",
    "from numpy import mean \n",
    "from sklearn.model_selection import cross_val_score\n",
    "class rfe_relief_SVM:\n",
    "    def __init__(self,x_train,y_train,C):\n",
    "        self.X_train=x_train\n",
    "        self.Y_train=y_train\n",
    "        self.C=C\n",
    "    def featu_score(self,alpha,folds):\n",
    "        kf=KFold(n_splits=folds,shuffle=False)\n",
    "        estimator=SVC(kernel='linear',C=self.C)\n",
    "        rank_=[]\n",
    "        featu_num=self.X_train.shape[1]\n",
    "        candi_fea=[i for i in range(featu_num)]\n",
    "        i=featu_num\n",
    "        aver_lis=[i for i in range(featu_num)]\n",
    "        F_lis=[i for i in range(featu_num)]\n",
    "        aver=mean(cross_val_score(estimator,self.X_train,self.Y_train,scoring=\"accuracy\",cv=kf,n_jobs=-1))\n",
    "        aver_lis[i-1]=aver\n",
    "        F1=mean(cross_val_score(estimator,self.X_train,self.Y_train,scoring=\"f1\",cv=kf,n_jobs=-1))\n",
    "        F_lis[i-1]=F1\n",
    "        while True:\n",
    "            relief_score=(reliefF.reliefF(self.X_train[:,candi_fea],self.Y_train)).reshape(1,i)\n",
    "            #print(relief_score)\n",
    "            estimator.fit(self.X_train[:,candi_fea],self.Y_train)\n",
    "            rfe_score=(estimator.coef_)**2\n",
    "            #print(rfe_score)\n",
    "            total_score=alpha*relief_score+(1-alpha)*rfe_score\n",
    "            #print(total_score)\n",
    "            index_=np.argmin(total_score)\n",
    "            remove_fea=candi_fea[index_]\n",
    "            candi_fea.remove(remove_fea)\n",
    "            i-=1\n",
    "            aver=mean(cross_val_score(estimator,self.X_train[:,candi_fea],self.Y_train,scoring=\"accuracy\",cv=kf,n_jobs=-1))\n",
    "            F1=mean(cross_val_score(estimator,self.X_train[:,candi_fea],self.Y_train,scoring=\"f1\",cv=kf,n_jobs=-1))\n",
    "            aver_lis[i-1]=aver\n",
    "            F_lis[i-1]=F1\n",
    "            if i==1:\n",
    "                break\n",
    "        return aver_lis,F_lis\n",
    "    def sele_feature(self,alpha,optim_featur_num):\n",
    "        estimator=SVC(kernel='linear',C=self.C)\n",
    "        rank_=[]\n",
    "        featu_num=self.X_train.shape[1]\n",
    "        candi_fea=[i for i in range(featu_num)]\n",
    "        i=featu_num\n",
    "        while True:\n",
    "            relief_score=(reliefF.reliefF(self.X_train[:,candi_fea],self.Y_train)).reshape(1,i)\n",
    "            estimator.fit(self.X_train[:,candi_fea],self.Y_train)\n",
    "            rfe_score=(estimator.coef_)**2\n",
    "            total_score=alpha*relief_score+(1-alpha)*rfe_score\n",
    "            index_=np.argmin(total_score)\n",
    "            remove_fea=candi_fea[index_]\n",
    "            candi_fea.remove(remove_fea)\n",
    "            print(i)\n",
    "            i-=1\n",
    "            if len(candi_fea)==optim_featur_num:\n",
    "                return candi_fea"
   ]
  },
  {
   "cell_type": "code",
   "execution_count": 22,
   "id": "25083ecc-2290-420f-8342-b17dcfabb8c0",
   "metadata": {},
   "outputs": [
    {
     "name": "stdout",
     "output_type": "stream",
     "text": [
      "49\n",
      "48\n",
      "47\n",
      "46\n",
      "45\n",
      "44\n",
      "43\n",
      "42\n",
      "41\n",
      "40\n",
      "39\n",
      "38\n",
      "37\n",
      "36\n",
      "35\n",
      "34\n",
      "33\n",
      "32\n",
      "31\n",
      "30\n",
      "29\n",
      "28\n",
      "27\n",
      "26\n",
      "25\n",
      "24\n",
      "23\n",
      "22\n",
      "21\n",
      "20\n",
      "19\n",
      "18\n",
      "17\n",
      "16\n",
      "15\n",
      "14\n",
      "13\n",
      "12\n",
      "11\n",
      "10\n"
     ]
    }
   ],
   "source": [
    "## k=11, 0.85\n",
    "rfe_relief_SVM_model=rfe_relief_SVM(x_train,y_train,1.5)\n",
    "rfe_relief_SVM_sele_featu_subset=rfe_relief_SVM_model.sele_feature(0.65,9)"
   ]
  },
  {
   "cell_type": "code",
   "execution_count": 23,
   "id": "ef4b0416-bac8-4067-8d94-9931320ef357",
   "metadata": {},
   "outputs": [
    {
     "data": {
      "text/plain": [
       "(array(['MOBV', 'BBI', 'MA', 'EXPMA', 'K', 'D', 'RSI', 'WR', 'CDP'],\n",
       "       dtype='<U8'),\n",
       " 9)"
      ]
     },
     "execution_count": 23,
     "metadata": {},
     "output_type": "execute_result"
    }
   ],
   "source": [
    "np.array(techini_indicator)[rfe_relief_SVM_sele_featu_subset],len(np.array(techini_indicator)[rfe_relief_SVM_sele_featu_subset])"
   ]
  },
  {
   "cell_type": "code",
   "execution_count": 24,
   "id": "d6a52785-04da-4e65-85aa-89e529908282",
   "metadata": {},
   "outputs": [
    {
     "name": "stdout",
     "output_type": "stream",
     "text": [
      "(0.8294117647058824, 0.8266666666666667, 0.8315789473684211, 0.7948717948717948, 0.8104575163398693)\n"
     ]
    }
   ],
   "source": [
    "estimator_SVM_rfe_reliefF=SVC(kernel='linear',C=1.5)\n",
    "estimator_SVM_rfe_reliefF.fit(x_train[:,rfe_relief_SVM_sele_featu_subset],y_train)\n",
    "rfe_reliefF_SVM_result=estimator_SVM_rfe_reliefF.predict(x_test[:,rfe_relief_SVM_sele_featu_subset])\n",
    "performan_rfe_reliefF_SVM=meansure_performance(rfe_reliefF_SVM_result)\n",
    "print(performan_rfe_reliefF_SVM)"
   ]
  },
  {
   "cell_type": "code",
   "execution_count": null,
   "id": "18fa9655-8366-447e-8539-cb71faa68a0b",
   "metadata": {},
   "outputs": [],
   "source": []
  },
  {
   "cell_type": "code",
   "execution_count": null,
   "id": "9756acd4-c1e2-4272-8768-ffa4e6916724",
   "metadata": {},
   "outputs": [],
   "source": []
  }
 ],
 "metadata": {
  "kernelspec": {
   "display_name": "Python 3 (ipykernel)",
   "language": "python",
   "name": "python3"
  },
  "language_info": {
   "codemirror_mode": {
    "name": "ipython",
    "version": 3
   },
   "file_extension": ".py",
   "mimetype": "text/x-python",
   "name": "python",
   "nbconvert_exporter": "python",
   "pygments_lexer": "ipython3",
   "version": "3.11.7"
  }
 },
 "nbformat": 4,
 "nbformat_minor": 5
}
