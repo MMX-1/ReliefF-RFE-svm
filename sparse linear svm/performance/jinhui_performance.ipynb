{
 "cells": [
  {
   "cell_type": "code",
   "execution_count": 1,
   "id": "e69461fd-dc83-4499-a1e1-65d8eb01d5c3",
   "metadata": {},
   "outputs": [],
   "source": [
    "#性能测量\n",
    "def meansure_performance(y_predict_lis):\n",
    "    TP=0\n",
    "    FP=0\n",
    "    TN=0\n",
    "    FN=0\n",
    "    #测试样本数\n",
    "    sample_num=x_test.shape[0]\n",
    "    for i in range(sample_num):\n",
    "        y_predict=y_predict_lis[i]\n",
    "        if y_predict==1 and y_test[i]==1:\n",
    "            TP+=1\n",
    "        elif y_predict==-1 and y_test[i]==-1:\n",
    "            TN+=1\n",
    "        elif y_predict==1 and y_test[i]==-1:\n",
    "    #false poistive\n",
    "            FP+=1\n",
    "        elif y_predict==-1 and y_test[i]==1:\n",
    "    #false negative\n",
    "            FN+=1 \n",
    "    accuracy=(TP+TN)/(TP+FP+TN+FN)\n",
    "    recall=TP/(TP+FN)\n",
    "    specificity=TN/(TN+FP)\n",
    "    precision=TP/(TP+FP)\n",
    "    F_measuer=(2*precision*recall)/(precision+recall)\n",
    "    return accuracy,recall,specificity,precision,F_measuer"
   ]
  },
  {
   "cell_type": "code",
   "execution_count": 2,
   "id": "45228644-1ec0-4d40-885d-e5e72f3ab264",
   "metadata": {},
   "outputs": [],
   "source": [
    "from skfeature.function.similarity_based import reliefF\n",
    "from sklearn.svm import SVC\n",
    "from sklearn.model_selection import KFold\n",
    "from skfeature.function.statistical_based import CFS\n",
    "import pandas as pd\n",
    "import numpy as np\n",
    "data_rfe=pd.read_csv('norm_jinhuijiu.csv')\n",
    "data_rfe_array=np.array(data_rfe)\n",
    "fea=data_rfe_array[:,:49]\n",
    "target=data_rfe_array[:,49]\n",
    "x_test=fea[:170,:]\n",
    "y_test=target[:170]\n",
    "x_train=fea[170:,:]\n",
    "y_train=target[170:]"
   ]
  },
  {
   "cell_type": "code",
   "execution_count": 3,
   "id": "ef25e965-a887-4a4e-8f1a-7a8bb89668bd",
   "metadata": {},
   "outputs": [],
   "source": [
    "techini_indicator=data_rfe.columns.tolist()[:-1]"
   ]
  },
  {
   "cell_type": "markdown",
   "id": "d0c5d147-bdcf-4cd3-aa85-794e59dec81b",
   "metadata": {},
   "source": [
    "# SVM"
   ]
  },
  {
   "cell_type": "code",
   "execution_count": 57,
   "id": "0553e098-1347-4e19-bdd3-745f8d373442",
   "metadata": {},
   "outputs": [
    {
     "name": "stdout",
     "output_type": "stream",
     "text": [
      "(0.8294117647058824, 0.8157894736842105, 0.8404255319148937, 0.8051948051948052, 0.8104575163398693)\n"
     ]
    }
   ],
   "source": [
    "from sklearn.svm import SVC\n",
    "estima_SVM=SVC(kernel='linear',C=0.0039)\n",
    "estima_SVM.fit(x_train,y_train)\n",
    "SVM_result=estima_SVM.predict(x_test)\n",
    "performan_SVM=meansure_performance(SVM_result)\n",
    "print(performan_SVM)"
   ]
  },
  {
   "cell_type": "markdown",
   "id": "1f9d7d3c-1f4c-44f3-92d7-8e2c06f29dcb",
   "metadata": {},
   "source": [
    " # CFS-SVM"
   ]
  },
  {
   "cell_type": "code",
   "execution_count": 58,
   "id": "4395242e-e007-45e1-9d8b-ef54a9e29556",
   "metadata": {},
   "outputs": [
    {
     "data": {
      "text/plain": [
       "[8, 31, 28, 1, 2, 3]"
      ]
     },
     "execution_count": 58,
     "metadata": {},
     "output_type": "execute_result"
    }
   ],
   "source": [
    "\n",
    "from skfeature.function.statistical_based import CFS\n",
    "CFS_selected_feature = CFS.cfs(x_train,y_train)\n",
    "CFS_fea_sele=list(CFS_selected_feature)\n",
    "CFS_fea_sele"
   ]
  },
  {
   "cell_type": "code",
   "execution_count": 59,
   "id": "527dc22a-fea6-4f3b-a3dc-2623c8bb5c4d",
   "metadata": {},
   "outputs": [
    {
     "data": {
      "text/plain": [
       "(array(['VR', 'VROC', 'J', 'TAPI', 'VMA', 'VMACD'], dtype='<U8'), 6)"
      ]
     },
     "execution_count": 59,
     "metadata": {},
     "output_type": "execute_result"
    }
   ],
   "source": [
    "np.array(techini_indicator)[CFS_fea_sele],len(np.array(techini_indicator)[CFS_fea_sele])"
   ]
  },
  {
   "cell_type": "code",
   "execution_count": 60,
   "id": "b82bed9c-a94c-4e05-8a00-3329a40a2834",
   "metadata": {},
   "outputs": [],
   "source": [
    "estimator_SVM_CFS=SVC(kernel='linear',C=0.0039)\n",
    "estimator_SVM_CFS.fit(x_train[:,CFS_fea_sele],y_train)\n",
    "CFS_SVM_result=estimator_SVM_CFS.predict(x_test[:,CFS_fea_sele])"
   ]
  },
  {
   "cell_type": "code",
   "execution_count": 61,
   "id": "6e584e48-550d-4b78-a9bd-56be272e08aa",
   "metadata": {},
   "outputs": [
    {
     "name": "stdout",
     "output_type": "stream",
     "text": [
      "(0.5647058823529412, 0.3815789473684211, 0.7127659574468085, 0.5178571428571429, 0.4393939393939394)\n"
     ]
    }
   ],
   "source": [
    "performan_CFS_SVM=meansure_performance(CFS_SVM_result)\n",
    "print(performan_CFS_SVM)"
   ]
  },
  {
   "cell_type": "markdown",
   "id": "d9297b43-c3f0-4b04-82ee-f87735981161",
   "metadata": {},
   "source": [
    "# sequencial-backward-elimination SVM"
   ]
  },
  {
   "cell_type": "code",
   "execution_count": 62,
   "id": "0f38f000-0550-4036-be2e-c79b45afc1e6",
   "metadata": {},
   "outputs": [],
   "source": [
    "\n",
    "from sklearn.metrics import accuracy_score\n",
    "from sklearn.model_selection import KFold\n",
    "from numpy import mean \n",
    "from sklearn.model_selection import cross_val_score\n",
    "class back_SVM:\n",
    "    def __init__(self,X_train,Y_train,c):\n",
    "        self.X_train=X_train\n",
    "        self.Y_train=Y_train\n",
    "        self.C=c\n",
    "    def SBE(self,folds):\n",
    "        fea_num=self.X_train.shape[1]\n",
    "        candi_fea=[i for i in range(fea_num)]\n",
    "        best_subset=[i for i in range(fea_num)]\n",
    "        model=SVC(kernel='linear',C=self.C)\n",
    "        Best_accuracy=mean(cross_val_score(model,self.X_train,self.Y_train,scoring=\"accuracy\",cv=folds,n_jobs=-1))\n",
    "        Success=True\n",
    "        while Success:\n",
    "            Success=False\n",
    "            for f in candi_fea:\n",
    "                candi_fea_copy=candi_fea.copy()\n",
    "                candi_fea_copy.remove(f)\n",
    "                x_sele=self.X_train[:,candi_fea_copy]\n",
    "                n_scores=cross_val_score(model,x_sele,self.Y_train,scoring=\"accuracy\",cv=folds,n_jobs=-1)\n",
    "                acc=mean(n_scores)\n",
    "                if acc>=Best_accuracy:\n",
    "                    #print(f)\n",
    "                    best_subset=candi_fea_copy\n",
    "                    Success=True\n",
    "                    Best_accuracy=acc\n",
    "            print(1)\n",
    "            if Success==True:\n",
    "                candi_fea=best_subset\n",
    "            print(len(candi_fea))\n",
    "        return best_subset\n",
    "                \n",
    "        "
   ]
  },
  {
   "cell_type": "code",
   "execution_count": 63,
   "id": "189d06f5-3195-46e1-99ea-75d88da667f6",
   "metadata": {},
   "outputs": [
    {
     "name": "stdout",
     "output_type": "stream",
     "text": [
      "1\n",
      "48\n",
      "1\n",
      "47\n",
      "1\n",
      "46\n",
      "1\n",
      "45\n",
      "1\n",
      "44\n",
      "1\n",
      "43\n",
      "1\n",
      "42\n",
      "1\n",
      "42\n"
     ]
    }
   ],
   "source": [
    "estimator_SVM_back=back_SVM(x_train,y_train,0.0039)\n",
    "candi_fea_SBE=estimator_SVM_back.SBE(5)"
   ]
  },
  {
   "cell_type": "code",
   "execution_count": 64,
   "id": "20b3c943-3533-4202-859d-eeb5e813ed6a",
   "metadata": {},
   "outputs": [
    {
     "data": {
      "text/plain": [
       "(array(['VMA', 'VMACD', 'VOSC', 'VSTD', 'CR', 'PSY', 'VR', 'AR', 'BR',\n",
       "        'WAD', 'MOBV', 'PVT', 'WVAD', 'BBI', 'EXPMA', 'MACD', 'MTM',\n",
       "        'PRICEOSC', 'BIAS', 'CCI', 'DBCD', 'DPO', 'K', 'J', 'RSI', 'SRDM',\n",
       "        'VROC', 'VRSI', 'WR', 'ADTM', 'CDP', 'DPTB', 'JDQS', 'JDRS', 'MI',\n",
       "        'MICD', 'RCCD', 'SRMI', 'ATR', 'CVLT', 'STD', 'VHF'], dtype='<U8'),\n",
       " 42)"
      ]
     },
     "execution_count": 64,
     "metadata": {},
     "output_type": "execute_result"
    }
   ],
   "source": [
    "np.array(techini_indicator)[candi_fea_SBE],len(np.array(techini_indicator)[candi_fea_SBE])"
   ]
  },
  {
   "cell_type": "code",
   "execution_count": 65,
   "id": "5c1183ef-47e6-45ca-9a49-232070f691be",
   "metadata": {},
   "outputs": [
    {
     "data": {
      "text/plain": [
       "[2,\n",
       " 3,\n",
       " 4,\n",
       " 5,\n",
       " 6,\n",
       " 7,\n",
       " 8,\n",
       " 9,\n",
       " 10,\n",
       " 11,\n",
       " 12,\n",
       " 13,\n",
       " 14,\n",
       " 15,\n",
       " 17,\n",
       " 18,\n",
       " 19,\n",
       " 20,\n",
       " 22,\n",
       " 23,\n",
       " 24,\n",
       " 25,\n",
       " 26,\n",
       " 28,\n",
       " 29,\n",
       " 30,\n",
       " 31,\n",
       " 32,\n",
       " 33,\n",
       " 34,\n",
       " 35,\n",
       " 36,\n",
       " 37,\n",
       " 38,\n",
       " 39,\n",
       " 40,\n",
       " 42,\n",
       " 43,\n",
       " 44,\n",
       " 45,\n",
       " 47,\n",
       " 48]"
      ]
     },
     "execution_count": 65,
     "metadata": {},
     "output_type": "execute_result"
    }
   ],
   "source": [
    "candi_fea_SBE"
   ]
  },
  {
   "cell_type": "code",
   "execution_count": 66,
   "id": "e1fc41e6-852f-4383-8311-84f0ec6b9f54",
   "metadata": {},
   "outputs": [
    {
     "data": {
      "text/plain": [
       "('MA', 'TRIX', 'D', 'RC')"
      ]
     },
     "execution_count": 66,
     "metadata": {},
     "output_type": "execute_result"
    }
   ],
   "source": [
    "np.array(techini_indicator)[16],np.array(techini_indicator)[21],np.array(techini_indicator)[27],np.array(techini_indicator)[41]"
   ]
  },
  {
   "cell_type": "code",
   "execution_count": 88,
   "id": "869edecb-cbfd-4d66-9ff4-748ff26a441e",
   "metadata": {},
   "outputs": [
    {
     "data": {
      "text/plain": [
       "'MASS'"
      ]
     },
     "execution_count": 88,
     "metadata": {},
     "output_type": "execute_result"
    }
   ],
   "source": [
    "np.array(techini_indicator)[46]"
   ]
  },
  {
   "cell_type": "code",
   "execution_count": 68,
   "id": "bb4c30e4-813c-4681-b37b-257d9203bcbb",
   "metadata": {},
   "outputs": [],
   "source": [
    "estimator_SVM_SBE=SVC(kernel='linear',C=0.0039)\n",
    "estimator_SVM_SBE.fit(x_train[:,candi_fea_SBE],y_train)\n",
    "SBE_SVM_result=estimator_SVM_SBE.predict(x_test[:,candi_fea_SBE])"
   ]
  },
  {
   "cell_type": "code",
   "execution_count": 69,
   "id": "c9f42574-eef7-4ded-989b-739b09235be2",
   "metadata": {},
   "outputs": [
    {
     "name": "stdout",
     "output_type": "stream",
     "text": [
      "(0.8235294117647058, 0.8026315789473685, 0.8404255319148937, 0.8026315789473685, 0.8026315789473685)\n"
     ]
    }
   ],
   "source": [
    "performan_SBE_SVM=meansure_performance(SBE_SVM_result)\n",
    "print(performan_SBE_SVM)"
   ]
  },
  {
   "cell_type": "markdown",
   "id": "700b6432-4c6f-4042-bfba-83e27dfdeb0b",
   "metadata": {},
   "source": [
    "# reliefF-svm "
   ]
  },
  {
   "cell_type": "code",
   "execution_count": 70,
   "id": "d8453da6-5797-4714-9db5-5b090d5289f6",
   "metadata": {},
   "outputs": [],
   "source": [
    "from skfeature.function.similarity_based import reliefF\n",
    "relief_fea_score=reliefF.reliefF(x_train,y_train)\n",
    "relief_candi_fea=list(reliefF.feature_ranking(relief_fea_score))[:13]"
   ]
  },
  {
   "cell_type": "code",
   "execution_count": 71,
   "id": "94c19c92-8f69-44a2-a953-0a48e74d8f7f",
   "metadata": {},
   "outputs": [
    {
     "data": {
      "text/plain": [
       "(array(['MOBV', 'VRSI', 'QRR', 'RSI', 'WR', 'DPO', 'BIAS', 'VROC', 'PVT',\n",
       "        'TAPI', 'WAD', 'VR', 'PSY'], dtype='<U8'),\n",
       " 13)"
      ]
     },
     "execution_count": 71,
     "metadata": {},
     "output_type": "execute_result"
    }
   ],
   "source": [
    "np.array(techini_indicator)[relief_candi_fea],len(np.array(techini_indicator)[relief_candi_fea])"
   ]
  },
  {
   "cell_type": "code",
   "execution_count": 72,
   "id": "7c84613e-f2ab-466e-8abb-b4006962ac5b",
   "metadata": {},
   "outputs": [],
   "source": [
    "estimator_SVM_relief=SVC(kernel='linear',C=0.0039)\n",
    "estimator_SVM_relief.fit(x_train[:,relief_candi_fea],y_train)\n",
    "relief_SVM_result=estimator_SVM_relief.predict(x_test[:,relief_candi_fea])"
   ]
  },
  {
   "cell_type": "code",
   "execution_count": 73,
   "id": "da923078-3ac1-4190-9bf9-c6a7317aa660",
   "metadata": {},
   "outputs": [
    {
     "name": "stdout",
     "output_type": "stream",
     "text": [
      "(0.8235294117647058, 0.7894736842105263, 0.851063829787234, 0.8108108108108109, 0.8)\n"
     ]
    }
   ],
   "source": [
    "performan_relief_SVM=meansure_performance(relief_SVM_result)\n",
    "print(performan_relief_SVM)"
   ]
  },
  {
   "cell_type": "markdown",
   "id": "72eddb2b-d34b-4f63-9c68-9a5997c96cea",
   "metadata": {},
   "source": [
    "# RFE-SVM"
   ]
  },
  {
   "cell_type": "code",
   "execution_count": 74,
   "id": "42dad562-730b-42d8-81a3-0a1b95fefc54",
   "metadata": {},
   "outputs": [],
   "source": [
    "from skfeature.function.similarity_based import reliefF\n",
    "from sklearn.svm import SVC\n",
    "from sklearn.model_selection import KFold\n",
    "from numpy import mean \n",
    "from sklearn.model_selection import cross_val_score\n",
    "class rfe_SVM:\n",
    "    def __init__(self,x_train,y_train,C):\n",
    "        self.X_train=x_train\n",
    "        self.Y_train=y_train\n",
    "        self.C=C\n",
    "    def featu_score(self,folds):\n",
    "        kf=KFold(n_splits=folds,shuffle=False)\n",
    "        estimator=SVC(kernel='linear',C=self.C)\n",
    "        rank_=[]\n",
    "        featu_num=self.X_train.shape[1]\n",
    "        candi_fea=[i for i in range(featu_num)]\n",
    "        i=featu_num\n",
    "        aver_lis=[i for i in range(featu_num)]\n",
    "        F_lis=[i for i in range(featu_num)]\n",
    "        aver=mean(cross_val_score(estimator,self.X_train,self.Y_train,scoring=\"accuracy\",cv=kf,n_jobs=-1))\n",
    "        aver_lis[i-1]=aver\n",
    "        F1=mean(cross_val_score(estimator,self.X_train,self.Y_train,scoring=\"f1\",cv=kf,n_jobs=-1))\n",
    "        F_lis[i-1]=F1\n",
    "        while True:\n",
    "            estimator.fit(self.X_train[:,candi_fea],self.Y_train)\n",
    "            rfe_score=(estimator.coef_)**2\n",
    "            index_=np.argmin(rfe_score)\n",
    "            remove_fea=candi_fea[index_]\n",
    "            candi_fea.remove(remove_fea)\n",
    "            i-=1\n",
    "            aver=mean(cross_val_score(estimator,self.X_train[:,candi_fea],self.Y_train,scoring=\"accuracy\",cv=kf,n_jobs=-1))\n",
    "            F1=mean(cross_val_score(estimator,self.X_train[:,candi_fea],self.Y_train,scoring=\"f1\",cv=kf,n_jobs=-1))\n",
    "            aver_lis[i-1]=aver\n",
    "            F_lis[i-1]=F1\n",
    "            if i==1:\n",
    "                break\n",
    "        return aver_lis,F_lis\n",
    "   \n",
    "    def featu_subset(self,featur_num):\n",
    "        kf=KFold(n_splits=5,shuffle=False)\n",
    "        estimator=SVC(kernel='linear',C=self.C)\n",
    "        rank_=[]\n",
    "        featu_num=self.X_train.shape[1]\n",
    "        candi_fea=[i for i in range(featu_num)]\n",
    "        while True:\n",
    "            estimator.fit(self.X_train[:,candi_fea],self.Y_train)\n",
    "            rfe_score=(estimator.coef_)**2\n",
    "            index_=np.argmin(rfe_score)\n",
    "            remove_fea=candi_fea[index_]\n",
    "            candi_fea.remove(remove_fea)\n",
    "            if len(candi_fea)==featur_num:\n",
    "                break\n",
    "        return candi_fea"
   ]
  },
  {
   "cell_type": "code",
   "execution_count": 75,
   "id": "98092aff-d69d-4a50-b7cc-13edb30ca9de",
   "metadata": {},
   "outputs": [],
   "source": [
    "rfe_SVM_model=rfe_SVM(x_train,y_train,0.0039)\n",
    "rfe_SVM_sele_featu_subset=rfe_SVM_model.featu_subset(13)"
   ]
  },
  {
   "cell_type": "code",
   "execution_count": 76,
   "id": "304231f3-02e2-4870-8d9d-de4f219848c7",
   "metadata": {},
   "outputs": [
    {
     "data": {
      "text/plain": [
       "(array(['QRR', 'PSY', 'AR', 'MOBV', 'MACD', 'DBCD', 'K', 'D', 'RSI', 'WR',\n",
       "        'ADTM', 'JDQS', 'JDRS'], dtype='<U8'),\n",
       " 13)"
      ]
     },
     "execution_count": 76,
     "metadata": {},
     "output_type": "execute_result"
    }
   ],
   "source": [
    "np.array(techini_indicator)[rfe_SVM_sele_featu_subset],len(np.array(techini_indicator)[rfe_SVM_sele_featu_subset])"
   ]
  },
  {
   "cell_type": "code",
   "execution_count": 77,
   "id": "8a0407b3-8dd1-42cc-8e16-55d1d797d1ca",
   "metadata": {},
   "outputs": [],
   "source": [
    "estimator_SVM_rfe=SVC(kernel='linear',C=0.0039)\n",
    "estimator_SVM_rfe.fit(x_train[:,rfe_SVM_sele_featu_subset],y_train)\n",
    "rfe_SVM_result=estimator_SVM_rfe.predict(x_test[:,rfe_SVM_sele_featu_subset])"
   ]
  },
  {
   "cell_type": "code",
   "execution_count": 78,
   "id": "36891e51-eb34-4bdf-b3ee-448f0cc9590f",
   "metadata": {},
   "outputs": [
    {
     "name": "stdout",
     "output_type": "stream",
     "text": [
      "(0.8470588235294118, 0.7894736842105263, 0.8936170212765957, 0.8571428571428571, 0.8219178082191781)\n"
     ]
    }
   ],
   "source": [
    "performan_rfe_SVM=meansure_performance(rfe_SVM_result)\n",
    "print(performan_rfe_SVM)"
   ]
  },
  {
   "cell_type": "markdown",
   "id": "29cbb1bd-3886-4ba3-a44a-79edafb24a5f",
   "metadata": {},
   "source": [
    "# SVM-RFE-RELIEF"
   ]
  },
  {
   "cell_type": "code",
   "execution_count": 8,
   "id": "abc46a1a-353b-442f-8468-0055bac04165",
   "metadata": {},
   "outputs": [],
   "source": [
    "from skfeature.function.similarity_based import reliefF\n",
    "from sklearn.svm import SVC\n",
    "from sklearn.model_selection import KFold\n",
    "from numpy import mean \n",
    "from sklearn.model_selection import cross_val_score\n",
    "class rfe_relief_SVM:\n",
    "    def __init__(self,x_train,y_train,C):\n",
    "        self.X_train=x_train\n",
    "        self.Y_train=y_train\n",
    "        self.C=C\n",
    "    def featu_score(self,alpha,folds):\n",
    "        kf=KFold(n_splits=folds,shuffle=False)\n",
    "        estimator=SVC(kernel='linear',C=self.C)\n",
    "        rank_=[]\n",
    "        featu_num=self.X_train.shape[1]\n",
    "        candi_fea=[i for i in range(featu_num)]\n",
    "        i=featu_num\n",
    "        aver_lis=[i for i in range(featu_num)]\n",
    "        F_lis=[i for i in range(featu_num)]\n",
    "        aver=mean(cross_val_score(estimator,self.X_train,self.Y_train,scoring=\"accuracy\",cv=kf,n_jobs=-1))\n",
    "        aver_lis[i-1]=aver\n",
    "        F1=mean(cross_val_score(estimator,self.X_train,self.Y_train,scoring=\"f1\",cv=kf,n_jobs=-1))\n",
    "        F_lis[i-1]=F1\n",
    "        while True:\n",
    "            relief_score=(reliefF.reliefF(self.X_train[:,candi_fea],self.Y_train)).reshape(1,i)\n",
    "            #print(relief_score)\n",
    "            estimator.fit(self.X_train[:,candi_fea],self.Y_train)\n",
    "            rfe_score=(estimator.coef_)**2\n",
    "            #print(rfe_score)\n",
    "            total_score=alpha*relief_score+(1-alpha)*rfe_score\n",
    "            #print(total_score)\n",
    "            index_=np.argmin(total_score)\n",
    "            remove_fea=candi_fea[index_]\n",
    "            candi_fea.remove(remove_fea)\n",
    "            i-=1\n",
    "            aver=mean(cross_val_score(estimator,self.X_train[:,candi_fea],self.Y_train,scoring=\"accuracy\",cv=kf,n_jobs=-1))\n",
    "            F1=mean(cross_val_score(estimator,self.X_train[:,candi_fea],self.Y_train,scoring=\"f1\",cv=kf,n_jobs=-1))\n",
    "            aver_lis[i-1]=aver\n",
    "            F_lis[i-1]=F1\n",
    "            if i==1:\n",
    "                break\n",
    "        return aver_lis,F_lis\n",
    "    def sele_feature(self,alpha,optim_featur_num):\n",
    "        estimator=SVC(kernel='linear',C=self.C)\n",
    "        rank_=[]\n",
    "        featu_num=self.X_train.shape[1]\n",
    "        candi_fea=[i for i in range(featu_num)]\n",
    "        i=featu_num\n",
    "        while True:\n",
    "            relief_score=(reliefF.reliefF(self.X_train[:,candi_fea],self.Y_train)).reshape(1,i)\n",
    "            estimator.fit(self.X_train[:,candi_fea],self.Y_train)\n",
    "            rfe_score=(estimator.coef_)**2\n",
    "            total_score=alpha*relief_score+(1-alpha)*rfe_score\n",
    "            index_=np.argmin(total_score)\n",
    "            remove_fea=candi_fea[index_]\n",
    "            candi_fea.remove(remove_fea)\n",
    "            i-=1\n",
    "            if len(candi_fea)==optim_featur_num:\n",
    "                return candi_fea"
   ]
  },
  {
   "cell_type": "code",
   "execution_count": 80,
   "id": "62fe70dd-518b-447c-a72b-3fda3403c496",
   "metadata": {},
   "outputs": [],
   "source": [
    "# k=4# k=5, 0.8\n",
    "rfe_relief_SVM_model=rfe_relief_SVM(x_train,y_train,0.0039)\n",
    "rfe_relief_SVM_sele_featu_subset=rfe_relief_SVM_model.sele_feature(0.35,13)"
   ]
  },
  {
   "cell_type": "code",
   "execution_count": 81,
   "id": "9e60df30-3e5a-4d16-82c7-1c10990e42f7",
   "metadata": {},
   "outputs": [
    {
     "data": {
      "text/plain": [
       "(array(['QRR', 'PSY', 'MOBV', 'MACD', 'BIAS', 'K', 'D', 'RSI', 'VRSI',\n",
       "        'WR', 'ADTM', 'CDP', 'JDQS'], dtype='<U8'),\n",
       " 13)"
      ]
     },
     "execution_count": 81,
     "metadata": {},
     "output_type": "execute_result"
    }
   ],
   "source": [
    "np.array(techini_indicator)[rfe_relief_SVM_sele_featu_subset],len(np.array(techini_indicator)[rfe_relief_SVM_sele_featu_subset])"
   ]
  },
  {
   "cell_type": "code",
   "execution_count": 82,
   "id": "32202067-9b9b-4d12-98b8-ba451c341b40",
   "metadata": {},
   "outputs": [
    {
     "name": "stdout",
     "output_type": "stream",
     "text": [
      "(0.8470588235294118, 0.8026315789473685, 0.8829787234042553, 0.8472222222222222, 0.8243243243243243)\n"
     ]
    }
   ],
   "source": [
    "estimator_SVM_rfe_reliefF=SVC(kernel='linear',C=0.0039)\n",
    "estimator_SVM_rfe_reliefF.fit(x_train[:,rfe_relief_SVM_sele_featu_subset],y_train)\n",
    "rfe_reliefF_SVM_result=estimator_SVM_rfe_reliefF.predict(x_test[:,rfe_relief_SVM_sele_featu_subset])\n",
    "performan_rfe_reliefF_SVM=meansure_performance(rfe_reliefF_SVM_result)\n",
    "print(performan_rfe_reliefF_SVM)"
   ]
  },
  {
   "cell_type": "code",
   "execution_count": null,
   "id": "220f72ce-aec0-4c56-8ba1-ba6a77d9246c",
   "metadata": {},
   "outputs": [],
   "source": []
  },
  {
   "cell_type": "code",
   "execution_count": null,
   "id": "648ec98f-37c6-47a7-9d40-f6c491559ab9",
   "metadata": {},
   "outputs": [],
   "source": []
  }
 ],
 "metadata": {
  "kernelspec": {
   "display_name": "Python 3 (ipykernel)",
   "language": "python",
   "name": "python3"
  },
  "language_info": {
   "codemirror_mode": {
    "name": "ipython",
    "version": 3
   },
   "file_extension": ".py",
   "mimetype": "text/x-python",
   "name": "python",
   "nbconvert_exporter": "python",
   "pygments_lexer": "ipython3",
   "version": "3.11.7"
  }
 },
 "nbformat": 4,
 "nbformat_minor": 5
}
