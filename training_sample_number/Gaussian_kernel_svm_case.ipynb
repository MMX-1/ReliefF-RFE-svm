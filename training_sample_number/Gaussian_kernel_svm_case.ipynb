{
 "cells": [
  {
   "cell_type": "code",
   "execution_count": 18,
   "id": "e69c0eeb-4810-4731-876a-f0e254d1cc14",
   "metadata": {},
   "outputs": [],
   "source": [
    "#性能测量\n",
    "def meansure_performance(y_predict_lis):\n",
    "    TP=0\n",
    "    FP=0\n",
    "    TN=0\n",
    "    FN=0\n",
    "    #测试样本数\n",
    "    sample_num=x_test.shape[0]\n",
    "    for i in range(sample_num):\n",
    "        y_predict=y_predict_lis[i]\n",
    "        if y_predict==1 and y_test[i]==1:\n",
    "            TP+=1\n",
    "        elif y_predict==-1 and y_test[i]==-1:\n",
    "            TN+=1\n",
    "        elif y_predict==1 and y_test[i]==-1:\n",
    "    #false poistive\n",
    "            FP+=1\n",
    "        elif y_predict==-1 and y_test[i]==1:\n",
    "    #false negative\n",
    "            FN+=1 \n",
    "    accuracy=(TP+TN)/(TP+FP+TN+FN)\n",
    "    recall=TP/(TP+FN)\n",
    "    specificity=TN/(TN+FP)\n",
    "    precision=TP/(TP+FP)\n",
    "    F_measuer=(2*precision*recall)/(precision+recall)\n",
    "    return accuracy,recall,specificity,precision,F_measuer"
   ]
  },
  {
   "cell_type": "code",
   "execution_count": 19,
   "id": "5e35c0ef-6c80-41b7-9639-77df47d3f0e2",
   "metadata": {},
   "outputs": [],
   "source": [
    "from skfeature.function.similarity_based import reliefF\n",
    "from sklearn.svm import SVC\n",
    "from sklearn.model_selection import KFold\n",
    "from numpy import mean \n",
    "from sklearn.model_selection import cross_val_score\n",
    "class rfe_relief_SVM:\n",
    "    def __init__(self,x_train,y_train,c,gamma):\n",
    "        self.X_train=x_train\n",
    "        self.Y_train=y_train\n",
    "        self.C=c\n",
    "        self.Gamma=gamma\n",
    "    def featu_score(self,alpha,folds):\n",
    "        #kf=KFold(n_splits=folds,shuffle=False)\n",
    "        estimator=SVC(C=self.C, kernel='rbf',gamma=self.Gamma)\n",
    "        rank_=[]\n",
    "        featu_num=self.X_train.shape[1]\n",
    "        candi_fea=[j for j in range(featu_num)]\n",
    "        i=featu_num\n",
    "        aver_lis=[j for j in range(featu_num)]\n",
    "        F_lis=[j for j in range(featu_num)]\n",
    "        aver=mean(cross_val_score(estimator,x_train,y_train,scoring=\"accuracy\",cv=folds,n_jobs=-1))\n",
    "        aver_lis[i-1]=aver\n",
    "        F1=mean(cross_val_score(estimator,x_train,y_train,scoring=\"f1\",cv=folds,n_jobs=-1))\n",
    "        F_lis[i-1]=F1\n",
    "        while True:\n",
    "            relief_score=(reliefF.reliefF(self.X_train[:,candi_fea],self.Y_train)).reshape(1,i)\n",
    "            #print(relief_score)\n",
    "            estimator.fit(self.X_train[:,candi_fea],self.Y_train)\n",
    "            suppor_index=estimator.support_\n",
    "            support_num=len(suppor_index)\n",
    "            support_vector=estimator.support_vectors_\n",
    "            dual_coef=estimator.dual_coef_[0]\n",
    "            rfe_score=[i for i in range(len(candi_fea))]\n",
    "            z=np.exp(-self.Gamma*np.sum(support_vector*support_vector,axis=1))\n",
    "            matrix_z=np.outer(z, z)\n",
    "            y_matrix=np.outer(self.Y_train[suppor_index],self.Y_train[suppor_index])\n",
    "            H_matrix=np.exp(2*self.Gamma*support_vector@support_vector.T)*matrix_z*y_matrix\n",
    "            orig_loss=np.dot(np.dot(dual_coef*self.Y_train[suppor_index],H_matrix),dual_coef*self.Y_train[suppor_index])\n",
    "            k=0\n",
    "            for fea in candi_fea:\n",
    "                copy_support_vector=self.X_train[suppor_index,:]\n",
    "                candi_fea_copy=candi_fea.copy()\n",
    "                #print(len(candi_fea_copy))\n",
    "                candi_fea_copy.remove(fea)\n",
    "                removed_support_vector=copy_support_vector[:,candi_fea_copy]\n",
    "                z1=np.exp(-self.Gamma*np.sum(removed_support_vector*removed_support_vector,axis=1))\n",
    "                matrix_z1=np.outer(z1, z1)\n",
    "                H_matrix1=np.exp(2*self.Gamma*removed_support_vector@removed_support_vector.T)*matrix_z1*y_matrix\n",
    "                after_loss=np.dot(np.dot(dual_coef*self.Y_train[suppor_index],H_matrix1),dual_coef*self.Y_train[suppor_index])\n",
    "                scor_fea=np.abs(orig_loss-after_loss)/2\n",
    "                rfe_score[k]=scor_fea\n",
    "                k=k+1     \n",
    "            total_score=alpha*relief_score+(1-alpha)*np.array(rfe_score)\n",
    "            #print(total_score)\n",
    "            index_=np.argmin(total_score)\n",
    "            remove_fea=candi_fea[index_]\n",
    "            candi_fea.remove(remove_fea)\n",
    "            i-=1\n",
    "            aver=mean(cross_val_score(estimator,self.X_train[:,candi_fea],self.Y_train,scoring=\"accuracy\",cv=folds,n_jobs=-1))\n",
    "            F1=mean(cross_val_score(estimator,self.X_train[:,candi_fea],self.Y_train,scoring=\"f1\",cv=folds,n_jobs=-1))\n",
    "            aver_lis[i-1]=aver\n",
    "            F_lis[i-1]=F1\n",
    "            if i==1:\n",
    "                break\n",
    "        return aver_lis,F_lis\n",
    "    def sele_feature(self,alpha,optim_featur_num):\n",
    "        estimator=SVC(C=self.C, kernel='rbf',gamma=self.Gamma)\n",
    "        rank_=[]\n",
    "        featu_num=self.X_train.shape[1]\n",
    "        candi_fea=[i for i in range(featu_num)]\n",
    "        i=featu_num\n",
    "        while True:\n",
    "            if len(candi_fea)==optim_featur_num:\n",
    "                return candi_fea\n",
    "            relief_score=(reliefF.reliefF(self.X_train[:,candi_fea],self.Y_train)).reshape(1,i)\n",
    "            estimator.fit(self.X_train[:,candi_fea],self.Y_train)\n",
    "            suppor_index=estimator.support_\n",
    "            support_num=len(suppor_index)\n",
    "            support_vector=estimator.support_vectors_\n",
    "            dual_coef=estimator.dual_coef_[0]\n",
    "            rfe_score=[i for i in range(len(candi_fea))]\n",
    "            z=np.exp(-self.Gamma*np.sum(support_vector*support_vector,axis=1))\n",
    "            matrix_z=np.outer(z, z)\n",
    "            y_matrix=np.outer(self.Y_train[suppor_index],self.Y_train[suppor_index])\n",
    "            H_matrix=np.exp(2*self.Gamma*support_vector@support_vector.T)*matrix_z*y_matrix\n",
    "            orig_loss=np.dot(np.dot(dual_coef*self.Y_train[suppor_index],H_matrix),dual_coef*self.Y_train[suppor_index])\n",
    "            k=0\n",
    "            for fea in candi_fea:\n",
    "                copy_support_vector=self.X_train[suppor_index,:]\n",
    "                candi_fea_copy=candi_fea.copy()\n",
    "                #print(len(candi_fea_copy))\n",
    "                candi_fea_copy.remove(fea)\n",
    "                removed_support_vector=copy_support_vector[:,candi_fea_copy]\n",
    "                z1=np.exp(-self.Gamma*np.sum(removed_support_vector*removed_support_vector,axis=1))\n",
    "                matrix_z1=np.outer(z1, z1)\n",
    "                H_matrix1=np.exp(2*self.Gamma*removed_support_vector@removed_support_vector.T)*matrix_z1*y_matrix\n",
    "                after_loss=np.dot(np.dot(dual_coef*self.Y_train[suppor_index],H_matrix1),dual_coef*self.Y_train[suppor_index])\n",
    "                scor_fea=np.abs(orig_loss-after_loss)/2\n",
    "                rfe_score[k]=scor_fea\n",
    "                k=k+1     \n",
    "            total_score=alpha*relief_score+(1-alpha)*np.array(rfe_score)\n",
    "            #print(total_score)\n",
    "            index_=np.argmin(total_score)\n",
    "            remove_fea=candi_fea[index_]\n",
    "            candi_fea.remove(remove_fea)\n",
    "            #print(i)\n",
    "            i-=1\n",
    "            "
   ]
  },
  {
   "cell_type": "markdown",
   "id": "50e717ed-b64e-46ea-abdd-7eac3f089f21",
   "metadata": {},
   "source": [
    "# 白云"
   ]
  },
  {
   "cell_type": "code",
   "execution_count": 21,
   "id": "a4b38799-24a6-48a9-9d35-2d602e843328",
   "metadata": {},
   "outputs": [],
   "source": [
    "from skfeature.function.similarity_based import reliefF\n",
    "from sklearn.svm import SVC\n",
    "from sklearn.model_selection import KFold\n",
    "from skfeature.function.statistical_based import CFS\n",
    "import pandas as pd\n",
    "import numpy as np\n",
    "data_rfe=pd.read_csv('norm_baiyunshan.csv')\n",
    "data_rfe_array=np.array(data_rfe)\n",
    "fea=data_rfe_array[:,:49]\n",
    "target=data_rfe_array[:,49]\n",
    "baiyun_accuracy=[i for i in range(10)]\n",
    "baiyun_F_measure=[i for i in range(10)]\n",
    "sample=[1929,1729,1529,1329,1129,929,729,529,329,129]"
   ]
  },
  {
   "cell_type": "code",
   "execution_count": 22,
   "id": "28621906-0f12-43c3-95dd-4c1d1092cc23",
   "metadata": {},
   "outputs": [
    {
     "name": "stdout",
     "output_type": "stream",
     "text": [
      "0\n",
      "1\n",
      "2\n",
      "3\n",
      "4\n",
      "5\n",
      "6\n",
      "7\n",
      "8\n",
      "9\n"
     ]
    }
   ],
   "source": [
    "t=0\n",
    "for i in sample:\n",
    "    x_test=fea[:i,:]\n",
    "    y_test=target[:i]\n",
    "    x_train=fea[i:,:]\n",
    "    y_train=target[i:]\n",
    "    rfe_relief_SVM_model=rfe_relief_SVM(x_train,y_train,0.1,0.1)\n",
    "    rfe_relief_SVM_sele_featu_subset=rfe_relief_SVM_model.sele_feature(0.15,10)\n",
    "    estimator_SVM_rfe_reliefF=SVC(C=0.1, kernel='rbf',gamma=0.1)\n",
    "    estimator_SVM_rfe_reliefF.fit(x_train[:,rfe_relief_SVM_sele_featu_subset],y_train)\n",
    "    rfe_reliefF_SVM_result=estimator_SVM_rfe_reliefF.predict(x_test[:,rfe_relief_SVM_sele_featu_subset])\n",
    "    performan_rfe_reliefF_SVM=meansure_performance(rfe_reliefF_SVM_result)\n",
    "    baiyun_accuracy[t]=performan_rfe_reliefF_SVM[0]\n",
    "    baiyun_F_measure[t]=performan_rfe_reliefF_SVM[4]\n",
    "    print(t)\n",
    "    t=t+1"
   ]
  },
  {
   "cell_type": "markdown",
   "id": "87bbdea4-2f85-4615-91c0-1b8a1387d44c",
   "metadata": {},
   "source": [
    "# 贵州"
   ]
  },
  {
   "cell_type": "code",
   "execution_count": 23,
   "id": "895b9b58-94d0-4e2f-9103-582db85662ca",
   "metadata": {},
   "outputs": [],
   "source": [
    "from skfeature.function.similarity_based import reliefF\n",
    "from sklearn.svm import SVC\n",
    "from sklearn.model_selection import KFold\n",
    "from skfeature.function.statistical_based import CFS\n",
    "import pandas as pd\n",
    "import numpy as np\n",
    "data_rfe=pd.read_csv('norm_guizhou.csv')\n",
    "data_rfe_array=np.array(data_rfe)\n",
    "fea=data_rfe_array[:,:49]\n",
    "target=data_rfe_array[:,49]\n",
    "guizhou_accuracy=[i for i in range(10)]\n",
    "guizhou_F_measure=[i for i in range(10)]\n",
    "sample=[1929,1729,1529,1329,1129,929,729,529,329,129]"
   ]
  },
  {
   "cell_type": "code",
   "execution_count": 24,
   "id": "7af7ad6c-2aaa-44e7-a7e1-5819965e2bbb",
   "metadata": {},
   "outputs": [
    {
     "name": "stdout",
     "output_type": "stream",
     "text": [
      "0\n",
      "1\n",
      "2\n",
      "3\n",
      "4\n",
      "5\n",
      "6\n",
      "7\n",
      "8\n",
      "9\n"
     ]
    }
   ],
   "source": [
    "t=0\n",
    "for i in sample:\n",
    "    x_test=fea[:i,:]\n",
    "    y_test=target[:i]\n",
    "    x_train=fea[i:,:]\n",
    "    y_train=target[i:]\n",
    "    rfe_relief_SVM_model=rfe_relief_SVM(x_train,y_train,0.1,0.1)\n",
    "    rfe_relief_SVM_sele_featu_subset=rfe_relief_SVM_model.sele_feature(0.15,10)\n",
    "    estimator_SVM_rfe_reliefF=SVC(C=0.1, kernel='rbf',gamma=0.1)\n",
    "    estimator_SVM_rfe_reliefF.fit(x_train[:,rfe_relief_SVM_sele_featu_subset],y_train)\n",
    "    rfe_reliefF_SVM_result=estimator_SVM_rfe_reliefF.predict(x_test[:,rfe_relief_SVM_sele_featu_subset])\n",
    "    performan_rfe_reliefF_SVM=meansure_performance(rfe_reliefF_SVM_result)\n",
    "    guizhou_accuracy[t]=performan_rfe_reliefF_SVM[0]\n",
    "    guizhou_F_measure[t]=performan_rfe_reliefF_SVM[4]\n",
    "    print(t)\n",
    "    t=t+1"
   ]
  },
  {
   "cell_type": "code",
   "execution_count": 39,
   "id": "f0a9292d-c7e2-4180-99e6-f78a158789fd",
   "metadata": {},
   "outputs": [
    {
     "data": {
      "text/plain": [
       "[0.7413167444271643,\n",
       " 0.7622903412377097,\n",
       " 0.7547416612164813,\n",
       " 0.7501881113619263,\n",
       " 0.7573073516386183,\n",
       " 0.7588805166846071,\n",
       " 0.7434842249657064,\n",
       " 0.7296786389413988,\n",
       " 0.7416413373860182,\n",
       " 0.7441860465116279]"
      ]
     },
     "execution_count": 39,
     "metadata": {},
     "output_type": "execute_result"
    }
   ],
   "source": [
    "guizhou_accuracy"
   ]
  },
  {
   "cell_type": "markdown",
   "id": "acb9f44d-44ec-40c4-915a-a5ce4f837fbd",
   "metadata": {},
   "source": [
    "# jinhui"
   ]
  },
  {
   "cell_type": "code",
   "execution_count": 25,
   "id": "10bf98f1-3e57-4913-ac06-8f5b1ee08626",
   "metadata": {},
   "outputs": [],
   "source": [
    "from skfeature.function.similarity_based import reliefF\n",
    "from sklearn.svm import SVC\n",
    "from sklearn.model_selection import KFold\n",
    "from skfeature.function.statistical_based import CFS\n",
    "import pandas as pd\n",
    "import numpy as np\n",
    "data_rfe=pd.read_csv('norm_jinhuijiu.csv')\n",
    "data_rfe_array=np.array(data_rfe)\n",
    "fea=data_rfe_array[:,:49]\n",
    "target=data_rfe_array[:,49]\n",
    "jinhui_accuracy=[i for i in range(10)]\n",
    "jinhui_F_measure=[i for i in range(10)]\n",
    "sample=[1929,1729,1529,1329,1129,929,729,529,329,129]"
   ]
  },
  {
   "cell_type": "code",
   "execution_count": 26,
   "id": "15b80dff-a54c-4440-b162-da4a0a60fcbf",
   "metadata": {},
   "outputs": [
    {
     "name": "stdout",
     "output_type": "stream",
     "text": [
      "0\n",
      "1\n",
      "2\n",
      "3\n",
      "4\n",
      "5\n",
      "6\n",
      "7\n",
      "8\n",
      "9\n"
     ]
    }
   ],
   "source": [
    "t=0\n",
    "for i in sample:\n",
    "    x_test=fea[:i,:]\n",
    "    y_test=target[:i]\n",
    "    x_train=fea[i:,:]\n",
    "    y_train=target[i:]\n",
    "    rfe_relief_SVM_model=rfe_relief_SVM(x_train,y_train,0.1,0.1)\n",
    "    rfe_relief_SVM_sele_featu_subset=rfe_relief_SVM_model.sele_feature(0.15,10)\n",
    "    estimator_SVM_rfe_reliefF=SVC(C=0.1, kernel='rbf',gamma=0.1)\n",
    "    estimator_SVM_rfe_reliefF.fit(x_train[:,rfe_relief_SVM_sele_featu_subset],y_train)\n",
    "    rfe_reliefF_SVM_result=estimator_SVM_rfe_reliefF.predict(x_test[:,rfe_relief_SVM_sele_featu_subset])\n",
    "    performan_rfe_reliefF_SVM=meansure_performance(rfe_reliefF_SVM_result)\n",
    "    jinhui_accuracy[t]=performan_rfe_reliefF_SVM[0]\n",
    "    jinhui_F_measure[t]=performan_rfe_reliefF_SVM[4]\n",
    "    print(t)\n",
    "    t=t+1"
   ]
  },
  {
   "cell_type": "code",
   "execution_count": 40,
   "id": "5c4d6911-9c57-4ec6-8081-46433fd1c5bd",
   "metadata": {},
   "outputs": [
    {
     "data": {
      "text/plain": [
       "[0.6111975116640747,\n",
       " 0.7090803932909197,\n",
       " 0.724002616088947,\n",
       " 0.764484574868322,\n",
       " 0.8104517271922055,\n",
       " 0.8180839612486545,\n",
       " 0.8148148148148148,\n",
       " 0.8185255198487713,\n",
       " 0.8085106382978723,\n",
       " 0.875968992248062]"
      ]
     },
     "execution_count": 40,
     "metadata": {},
     "output_type": "execute_result"
    }
   ],
   "source": [
    "jinhui_accuracy"
   ]
  },
  {
   "cell_type": "markdown",
   "id": "04d71b50-e501-46fb-b9fc-0191986bf518",
   "metadata": {},
   "source": [
    "# jinshi"
   ]
  },
  {
   "cell_type": "code",
   "execution_count": 27,
   "id": "b5ea9072-c47a-4ee0-aa53-a365bbca10ea",
   "metadata": {},
   "outputs": [],
   "source": [
    "from skfeature.function.similarity_based import reliefF\n",
    "from sklearn.svm import SVC\n",
    "from sklearn.model_selection import KFold\n",
    "from skfeature.function.statistical_based import CFS\n",
    "import pandas as pd\n",
    "import numpy as np\n",
    "data_rfe=pd.read_csv('norm_jinshi.csv')\n",
    "data_rfe_array=np.array(data_rfe)\n",
    "fea=data_rfe_array[:,:49]\n",
    "target=data_rfe_array[:,49]\n",
    "jinshi_accuracy=[i for i in range(10)]\n",
    "jinshi_F_measure=[i for i in range(10)]\n",
    "sample=[1929,1729,1529,1329,1129,929,729,529,329,129]"
   ]
  },
  {
   "cell_type": "code",
   "execution_count": 28,
   "id": "0e45137c-2669-4a55-91cf-f87e4013ad58",
   "metadata": {},
   "outputs": [
    {
     "name": "stdout",
     "output_type": "stream",
     "text": [
      "0\n",
      "1\n",
      "2\n",
      "3\n",
      "4\n",
      "5\n",
      "6\n",
      "7\n",
      "8\n",
      "9\n"
     ]
    }
   ],
   "source": [
    "t=0\n",
    "for i in sample:\n",
    "    x_test=fea[:i,:]\n",
    "    y_test=target[:i]\n",
    "    x_train=fea[i:,:]\n",
    "    y_train=target[i:]\n",
    "    rfe_relief_SVM_model=rfe_relief_SVM(x_train,y_train,0.1,0.1)\n",
    "    rfe_relief_SVM_sele_featu_subset=rfe_relief_SVM_model.sele_feature(0.15,10)\n",
    "    estimator_SVM_rfe_reliefF=SVC(C=0.1, kernel='rbf',gamma=0.1)\n",
    "    estimator_SVM_rfe_reliefF.fit(x_train[:,rfe_relief_SVM_sele_featu_subset],y_train)\n",
    "    rfe_reliefF_SVM_result=estimator_SVM_rfe_reliefF.predict(x_test[:,rfe_relief_SVM_sele_featu_subset])\n",
    "    performan_rfe_reliefF_SVM=meansure_performance(rfe_reliefF_SVM_result)\n",
    "    jinshi_accuracy[t]=performan_rfe_reliefF_SVM[0]\n",
    "    jinshi_F_measure[t]=performan_rfe_reliefF_SVM[4]\n",
    "    print(t)\n",
    "    t=t+1"
   ]
  },
  {
   "cell_type": "code",
   "execution_count": 41,
   "id": "5691a15c-f044-475a-98ea-01f0004a2744",
   "metadata": {},
   "outputs": [
    {
     "data": {
      "text/plain": [
       "[0.5090720580611716,\n",
       " 0.7628687102371313,\n",
       " 0.7920209287115761,\n",
       " 0.8126410835214447,\n",
       " 0.804251550044287,\n",
       " 0.8083961248654468,\n",
       " 0.803840877914952,\n",
       " 0.7977315689981096,\n",
       " 0.8237082066869301,\n",
       " 0.8449612403100775]"
      ]
     },
     "execution_count": 41,
     "metadata": {},
     "output_type": "execute_result"
    }
   ],
   "source": [
    "jinshi_accuracy"
   ]
  },
  {
   "cell_type": "markdown",
   "id": "aa573458-518a-46db-b4ba-1e35506a2556",
   "metadata": {},
   "source": [
    "# laobai"
   ]
  },
  {
   "cell_type": "code",
   "execution_count": 29,
   "id": "437e9088-1120-498b-a36c-06e5d84e1805",
   "metadata": {},
   "outputs": [],
   "source": [
    "from skfeature.function.similarity_based import reliefF\n",
    "from sklearn.svm import SVC\n",
    "from sklearn.model_selection import KFold\n",
    "from skfeature.function.statistical_based import CFS\n",
    "import pandas as pd\n",
    "import numpy as np\n",
    "data_rfe=pd.read_csv('norm_laobai.csv')\n",
    "data_rfe_array=np.array(data_rfe)\n",
    "fea=data_rfe_array[:,:49]\n",
    "target=data_rfe_array[:,49]\n",
    "laobai_accuracy=[i for i in range(10)]\n",
    "laobai_F_measure=[i for i in range(10)]\n",
    "sample=[1929,1729,1529,1329,1129,929,729,529,329,129]"
   ]
  },
  {
   "cell_type": "code",
   "execution_count": 30,
   "id": "dd7af221-2dab-470c-a376-faceebefdd2d",
   "metadata": {},
   "outputs": [
    {
     "name": "stdout",
     "output_type": "stream",
     "text": [
      "0\n",
      "1\n",
      "2\n",
      "3\n",
      "4\n",
      "5\n",
      "6\n",
      "7\n",
      "8\n",
      "9\n"
     ]
    }
   ],
   "source": [
    "t=0\n",
    "for i in sample:\n",
    "    x_test=fea[:i,:]\n",
    "    y_test=target[:i]\n",
    "    x_train=fea[i:,:]\n",
    "    y_train=target[i:]\n",
    "    rfe_relief_SVM_model=rfe_relief_SVM(x_train,y_train,0.1,0.1)\n",
    "    rfe_relief_SVM_sele_featu_subset=rfe_relief_SVM_model.sele_feature(0.15,10)\n",
    "    estimator_SVM_rfe_reliefF=SVC(C=0.1, kernel='rbf',gamma=0.1)\n",
    "    estimator_SVM_rfe_reliefF.fit(x_train[:,rfe_relief_SVM_sele_featu_subset],y_train)\n",
    "    rfe_reliefF_SVM_result=estimator_SVM_rfe_reliefF.predict(x_test[:,rfe_relief_SVM_sele_featu_subset])\n",
    "    performan_rfe_reliefF_SVM=meansure_performance(rfe_reliefF_SVM_result)\n",
    "    laobai_accuracy[t]=performan_rfe_reliefF_SVM[0]\n",
    "    laobai_F_measure[t]=performan_rfe_reliefF_SVM[4]\n",
    "    print(t)\n",
    "    t=t+1"
   ]
  },
  {
   "cell_type": "code",
   "execution_count": 42,
   "id": "c3597009-c592-4279-8b29-189866b6a20f",
   "metadata": {},
   "outputs": [
    {
     "data": {
      "text/plain": [
       "[0.45049248315189216,\n",
       " 0.626951995373048,\n",
       " 0.7338129496402878,\n",
       " 0.746425884123401,\n",
       " 0.7936226749335695,\n",
       " 0.8159311087190527,\n",
       " 0.8285322359396433,\n",
       " 0.7958412098298677,\n",
       " 0.7993920972644377,\n",
       " 0.8294573643410853]"
      ]
     },
     "execution_count": 42,
     "metadata": {},
     "output_type": "execute_result"
    }
   ],
   "source": [
    "laobai_accuracy"
   ]
  },
  {
   "cell_type": "markdown",
   "id": "21bb314e-6e39-4002-8c47-d8ca8e2236e5",
   "metadata": {},
   "source": [
    "# shanxi"
   ]
  },
  {
   "cell_type": "code",
   "execution_count": 31,
   "id": "bc7aa5ef-d848-45a2-8a9e-ca0bc9bf1a68",
   "metadata": {},
   "outputs": [],
   "source": [
    "from skfeature.function.similarity_based import reliefF\n",
    "from sklearn.svm import SVC\n",
    "from sklearn.model_selection import KFold\n",
    "from skfeature.function.statistical_based import CFS\n",
    "import pandas as pd\n",
    "import numpy as np\n",
    "data_rfe=pd.read_csv('norm_shanxi.csv')\n",
    "data_rfe_array=np.array(data_rfe)\n",
    "fea=data_rfe_array[:,:49]\n",
    "target=data_rfe_array[:,49]\n",
    "shanxi_accuracy=[i for i in range(10)]\n",
    "shanxi_F_measure=[i for i in range(10)]\n",
    "sample=[1929,1729,1529,1329,1129,929,729,529,329,129]"
   ]
  },
  {
   "cell_type": "code",
   "execution_count": 32,
   "id": "ce4bd390-0e0f-429f-9613-a58f6a55c765",
   "metadata": {},
   "outputs": [
    {
     "name": "stdout",
     "output_type": "stream",
     "text": [
      "0\n",
      "1\n",
      "2\n",
      "3\n",
      "4\n",
      "5\n",
      "6\n",
      "7\n",
      "8\n",
      "9\n"
     ]
    }
   ],
   "source": [
    "t=0\n",
    "for i in sample:\n",
    "    x_test=fea[:i,:]\n",
    "    y_test=target[:i]\n",
    "    x_train=fea[i:,:]\n",
    "    y_train=target[i:]\n",
    "    rfe_relief_SVM_model=rfe_relief_SVM(x_train,y_train,0.1,0.1)\n",
    "    rfe_relief_SVM_sele_featu_subset=rfe_relief_SVM_model.sele_feature(0.15,10)\n",
    "    estimator_SVM_rfe_reliefF=SVC(C=0.1, kernel='rbf',gamma=0.1)\n",
    "    estimator_SVM_rfe_reliefF.fit(x_train[:,rfe_relief_SVM_sele_featu_subset],y_train)\n",
    "    rfe_reliefF_SVM_result=estimator_SVM_rfe_reliefF.predict(x_test[:,rfe_relief_SVM_sele_featu_subset])\n",
    "    performan_rfe_reliefF_SVM=meansure_performance(rfe_reliefF_SVM_result)\n",
    "    shanxi_accuracy[t]=performan_rfe_reliefF_SVM[0]\n",
    "    shanxi_F_measure[t]=performan_rfe_reliefF_SVM[4]\n",
    "    print(t)\n",
    "    t=t+1"
   ]
  },
  {
   "cell_type": "markdown",
   "id": "eccc260f-b079-4753-b2b1-dab94aa2c21e",
   "metadata": {},
   "source": [
    "# tongren"
   ]
  },
  {
   "cell_type": "code",
   "execution_count": 33,
   "id": "110fd592-d29b-4851-83ba-66782ac0cd2a",
   "metadata": {},
   "outputs": [],
   "source": [
    "from skfeature.function.similarity_based import reliefF\n",
    "from sklearn.svm import SVC\n",
    "from sklearn.model_selection import KFold\n",
    "from skfeature.function.statistical_based import CFS\n",
    "import pandas as pd\n",
    "import numpy as np\n",
    "data_rfe=pd.read_csv('norm_tongren.csv')\n",
    "data_rfe_array=np.array(data_rfe)\n",
    "fea=data_rfe_array[:,:49]\n",
    "target=data_rfe_array[:,49]\n",
    "tongren_accuracy=[i for i in range(10)]\n",
    "tongren_F_measure=[i for i in range(10)]\n",
    "sample=[1929,1729,1529,1329,1129,929,729,529,329,129]"
   ]
  },
  {
   "cell_type": "code",
   "execution_count": 34,
   "id": "001e2077-a2ca-4931-a113-584a840d88f4",
   "metadata": {},
   "outputs": [
    {
     "name": "stdout",
     "output_type": "stream",
     "text": [
      "0\n",
      "1\n",
      "2\n",
      "3\n",
      "4\n",
      "5\n",
      "6\n",
      "7\n",
      "8\n",
      "9\n"
     ]
    }
   ],
   "source": [
    "t=0\n",
    "for i in sample:\n",
    "    x_test=fea[:i,:]\n",
    "    y_test=target[:i]\n",
    "    x_train=fea[i:,:]\n",
    "    y_train=target[i:]\n",
    "    rfe_relief_SVM_model=rfe_relief_SVM(x_train,y_train,0.1,0.1)\n",
    "    rfe_relief_SVM_sele_featu_subset=rfe_relief_SVM_model.sele_feature(0.15,10)\n",
    "    estimator_SVM_rfe_reliefF=SVC(C=0.1, kernel='rbf',gamma=0.1)\n",
    "    estimator_SVM_rfe_reliefF.fit(x_train[:,rfe_relief_SVM_sele_featu_subset],y_train)\n",
    "    rfe_reliefF_SVM_result=estimator_SVM_rfe_reliefF.predict(x_test[:,rfe_relief_SVM_sele_featu_subset])\n",
    "    performan_rfe_reliefF_SVM=meansure_performance(rfe_reliefF_SVM_result)\n",
    "    tongren_accuracy[t]=performan_rfe_reliefF_SVM[0]\n",
    "    tongren_F_measure[t]=performan_rfe_reliefF_SVM[4]\n",
    "    print(t)\n",
    "    t=t+1"
   ]
  },
  {
   "cell_type": "markdown",
   "id": "546dcce7-860f-43d0-8650-31756092e90c",
   "metadata": {},
   "source": [
    "# weiwei"
   ]
  },
  {
   "cell_type": "code",
   "execution_count": 35,
   "id": "5230361b-c27b-4e89-8d6c-1010c757f6c8",
   "metadata": {},
   "outputs": [],
   "source": [
    "from skfeature.function.similarity_based import reliefF\n",
    "from sklearn.svm import SVC\n",
    "from sklearn.model_selection import KFold\n",
    "from skfeature.function.statistical_based import CFS\n",
    "import pandas as pd\n",
    "import numpy as np\n",
    "data_rfe=pd.read_csv('norm_weiwei.csv')\n",
    "data_rfe_array=np.array(data_rfe)\n",
    "fea=data_rfe_array[:,:49]\n",
    "target=data_rfe_array[:,49]\n",
    "weiwei_accuracy=[i for i in range(10)]\n",
    "weiwei_F_measure=[i for i in range(10)]\n",
    "sample=[1929,1729,1529,1329,1129,929,729,529,329,129]"
   ]
  },
  {
   "cell_type": "code",
   "execution_count": 36,
   "id": "02831b8b-6d52-45ea-b558-79e7894ca384",
   "metadata": {},
   "outputs": [
    {
     "name": "stdout",
     "output_type": "stream",
     "text": [
      "0\n",
      "1\n",
      "2\n",
      "3\n",
      "4\n",
      "5\n",
      "6\n",
      "7\n",
      "8\n",
      "9\n"
     ]
    }
   ],
   "source": [
    "t=0\n",
    "for i in sample:\n",
    "    x_test=fea[:i,:]\n",
    "    y_test=target[:i]\n",
    "    x_train=fea[i:,:]\n",
    "    y_train=target[i:]\n",
    "    rfe_relief_SVM_model=rfe_relief_SVM(x_train,y_train,0.1,0.1)\n",
    "    rfe_relief_SVM_sele_featu_subset=rfe_relief_SVM_model.sele_feature(0.15,10)\n",
    "    estimator_SVM_rfe_reliefF=SVC(C=0.1, kernel='rbf',gamma=0.1)\n",
    "    estimator_SVM_rfe_reliefF.fit(x_train[:,rfe_relief_SVM_sele_featu_subset],y_train)\n",
    "    rfe_reliefF_SVM_result=estimator_SVM_rfe_reliefF.predict(x_test[:,rfe_relief_SVM_sele_featu_subset])\n",
    "    performan_rfe_reliefF_SVM=meansure_performance(rfe_reliefF_SVM_result)\n",
    "    weiwei_accuracy[t]=performan_rfe_reliefF_SVM[0]\n",
    "    weiwei_F_measure[t]=performan_rfe_reliefF_SVM[4]\n",
    "    print(t)\n",
    "    t=t+1"
   ]
  },
  {
   "cell_type": "markdown",
   "id": "f6822ae4-06bf-496f-bcb2-dfdd0e9ef7a8",
   "metadata": {},
   "source": [
    "# yanghe"
   ]
  },
  {
   "cell_type": "code",
   "execution_count": 37,
   "id": "042f56d5-10ca-4782-828f-42708dfcb066",
   "metadata": {},
   "outputs": [],
   "source": [
    "from skfeature.function.similarity_based import reliefF\n",
    "from sklearn.svm import SVC\n",
    "from sklearn.model_selection import KFold\n",
    "from skfeature.function.statistical_based import CFS\n",
    "import pandas as pd\n",
    "import numpy as np\n",
    "data_rfe=pd.read_csv('norm_yanghe.csv')\n",
    "data_rfe_array=np.array(data_rfe)\n",
    "fea=data_rfe_array[:,:49]\n",
    "target=data_rfe_array[:,49]\n",
    "yanghe_accuracy=[i for i in range(10)]\n",
    "yanghe_F_measure=[i for i in range(10)]\n",
    "sample=[1929,1729,1529,1329,1129,929,729,529,329,129]"
   ]
  },
  {
   "cell_type": "code",
   "execution_count": 38,
   "id": "6a9dca8e-a198-435c-a423-882221083271",
   "metadata": {},
   "outputs": [
    {
     "name": "stdout",
     "output_type": "stream",
     "text": [
      "0\n",
      "1\n",
      "2\n",
      "3\n",
      "4\n",
      "5\n",
      "6\n",
      "7\n",
      "8\n",
      "9\n"
     ]
    }
   ],
   "source": [
    "t=0\n",
    "for i in sample:\n",
    "    x_test=fea[:i,:]\n",
    "    y_test=target[:i]\n",
    "    x_train=fea[i:,:]\n",
    "    y_train=target[i:]\n",
    "    rfe_relief_SVM_model=rfe_relief_SVM(x_train,y_train,0.1,0.1)\n",
    "    rfe_relief_SVM_sele_featu_subset=rfe_relief_SVM_model.sele_feature(0.15,10)\n",
    "    estimator_SVM_rfe_reliefF=SVC(C=0.1, kernel='rbf',gamma=0.1)\n",
    "    estimator_SVM_rfe_reliefF.fit(x_train[:,rfe_relief_SVM_sele_featu_subset],y_train)\n",
    "    rfe_reliefF_SVM_result=estimator_SVM_rfe_reliefF.predict(x_test[:,rfe_relief_SVM_sele_featu_subset])\n",
    "    performan_rfe_reliefF_SVM=meansure_performance(rfe_reliefF_SVM_result)\n",
    "    yanghe_accuracy[t]=performan_rfe_reliefF_SVM[0]\n",
    "    yanghe_F_measure[t]=performan_rfe_reliefF_SVM[4]\n",
    "    print(t)\n",
    "    t=t+1"
   ]
  },
  {
   "cell_type": "code",
   "execution_count": 45,
   "id": "19d7f68e-1d0c-40b4-8d43-9b5f489de247",
   "metadata": {},
   "outputs": [],
   "source": [
    "Gassian_kernel_svm_accuracy=[]\n",
    "Gassian_kernel_svm_accuracy.append(baiyun_accuracy)\n",
    "Gassian_kernel_svm_accuracy.append(guizhou_accuracy)\n",
    "Gassian_kernel_svm_accuracy.append(jinhui_accuracy)\n",
    "Gassian_kernel_svm_accuracy.append(jinshi_accuracy)\n",
    "Gassian_kernel_svm_accuracy.append(laobai_accuracy)\n",
    "Gassian_kernel_svm_accuracy.append(shanxi_accuracy)\n",
    "Gassian_kernel_svm_accuracy.append(tongren_accuracy)\n",
    "Gassian_kernel_svm_accuracy.append(weiwei_accuracy)\n",
    "Gassian_kernel_svm_accuracy.append(yanghe_accuracy)"
   ]
  },
  {
   "cell_type": "code",
   "execution_count": 54,
   "id": "a977a0dc-cb41-4253-8c3d-f175b749dceb",
   "metadata": {},
   "outputs": [],
   "source": [
    "colu=[200,400,600,800,1000,1200,1400,1600,1800,2000]\n",
    "Gassian_kernel_svm_acurracy_dataframe=pd.DataFrame(columns=colu,data=np.array(Gassian_kernel_svm_accuracy))\n",
    "Gassian_kernel_svm_acurracy_dataframe.to_csv(\"Gaussian_kernel_svm_accuracy.csv\")"
   ]
  },
  {
   "cell_type": "code",
   "execution_count": 51,
   "id": "e0c01256-b5b9-4383-b634-e230108b0240",
   "metadata": {},
   "outputs": [],
   "source": [
    "Gassian_kernel_svm_F_measure=[]\n",
    "Gassian_kernel_svm_F_measure.append(baiyun_F_measure)\n",
    "Gassian_kernel_svm_F_measure.append(guizhou_F_measure)\n",
    "Gassian_kernel_svm_F_measure.append(jinhui_F_measure)\n",
    "Gassian_kernel_svm_F_measure.append(jinshi_F_measure)\n",
    "Gassian_kernel_svm_F_measure.append(laobai_F_measure)\n",
    "Gassian_kernel_svm_F_measure.append(shanxi_F_measure)\n",
    "Gassian_kernel_svm_F_measure.append(tongren_F_measure)\n",
    "Gassian_kernel_svm_F_measure.append(weiwei_F_measure)\n",
    "Gassian_kernel_svm_F_measure.append(yanghe_F_measure)"
   ]
  },
  {
   "cell_type": "code",
   "execution_count": 55,
   "id": "648c337a-4fae-4c17-bf3e-7576de289d0d",
   "metadata": {},
   "outputs": [],
   "source": [
    "colu=[200,400,600,800,1000,1200,1400,1600,1800,2000]\n",
    "Gassian_kernel_svm_F_measure_dataframe=pd.DataFrame(columns=colu,data=np.array(Gassian_kernel_svm_F_measure))\n",
    "Gassian_kernel_svm_F_measure_dataframe.to_csv(\"Gaussian_kernel_svm_F_measure.csv\")"
   ]
  },
  {
   "cell_type": "code",
   "execution_count": null,
   "id": "d944a605-c492-47bf-9d79-06279d03766f",
   "metadata": {},
   "outputs": [],
   "source": []
  }
 ],
 "metadata": {
  "kernelspec": {
   "display_name": "Python 3 (ipykernel)",
   "language": "python",
   "name": "python3"
  },
  "language_info": {
   "codemirror_mode": {
    "name": "ipython",
    "version": 3
   },
   "file_extension": ".py",
   "mimetype": "text/x-python",
   "name": "python",
   "nbconvert_exporter": "python",
   "pygments_lexer": "ipython3",
   "version": "3.11.7"
  }
 },
 "nbformat": 4,
 "nbformat_minor": 5
}
