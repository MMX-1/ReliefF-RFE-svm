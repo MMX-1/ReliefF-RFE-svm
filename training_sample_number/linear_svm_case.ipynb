{
 "cells": [
  {
   "cell_type": "code",
   "execution_count": 47,
   "id": "735b537f-068f-42d2-8030-841f9109e8e5",
   "metadata": {},
   "outputs": [],
   "source": [
    "#性能测量\n",
    "def meansure_performance(y_predict_lis):\n",
    "    TP=0\n",
    "    FP=0\n",
    "    TN=0\n",
    "    FN=0\n",
    "    #测试样本数\n",
    "    sample_num=x_test.shape[0]\n",
    "    for i in range(sample_num):\n",
    "        y_predict=y_predict_lis[i]\n",
    "        if y_predict==1 and y_test[i]==1:\n",
    "            TP+=1\n",
    "        elif y_predict==-1 and y_test[i]==-1:\n",
    "            TN+=1\n",
    "        elif y_predict==1 and y_test[i]==-1:\n",
    "    #false poistive\n",
    "            FP+=1\n",
    "        elif y_predict==-1 and y_test[i]==1:\n",
    "    #false negative\n",
    "            FN+=1 \n",
    "    accuracy=(TP+TN)/(TP+FP+TN+FN)\n",
    "    recall=TP/(TP+FN)\n",
    "    specificity=TN/(TN+FP)\n",
    "    precision=TP/(TP+FP)\n",
    "    F_measuer=(2*precision*recall)/(precision+recall)\n",
    "    return accuracy,recall,specificity,precision,F_measuer"
   ]
  },
  {
   "cell_type": "code",
   "execution_count": 48,
   "id": "cbd00109-f172-48e3-9ca0-851533d2df85",
   "metadata": {},
   "outputs": [],
   "source": [
    "from skfeature.function.similarity_based import reliefF\n",
    "from sklearn.svm import SVC\n",
    "from sklearn.model_selection import KFold\n",
    "from numpy import mean \n",
    "from sklearn.model_selection import cross_val_score\n",
    "class rfe_relief_SVM:\n",
    "    def __init__(self,x_train,y_train,C):\n",
    "        self.X_train=x_train\n",
    "        self.Y_train=y_train\n",
    "        self.C=C\n",
    "    def featu_score(self,alpha,folds):\n",
    "        kf=KFold(n_splits=folds,shuffle=False)\n",
    "        estimator=SVC(kernel='linear',C=self.C)\n",
    "        rank_=[]\n",
    "        featu_num=self.X_train.shape[1]\n",
    "        candi_fea=[i for i in range(featu_num)]\n",
    "        i=featu_num\n",
    "        aver_lis=[i for i in range(featu_num)]\n",
    "        F_lis=[i for i in range(featu_num)]\n",
    "        aver=mean(cross_val_score(estimator,self.X_train,self.Y_train,scoring=\"accuracy\",cv=kf,n_jobs=-1))\n",
    "        aver_lis[i-1]=aver\n",
    "        F1=mean(cross_val_score(estimator,self.X_train,self.Y_train,scoring=\"f1\",cv=kf,n_jobs=-1))\n",
    "        F_lis[i-1]=F1\n",
    "        while True:\n",
    "            relief_score=(reliefF.reliefF(self.X_train[:,candi_fea],self.Y_train)).reshape(1,i)\n",
    "            #print(relief_score)\n",
    "            estimator.fit(self.X_train[:,candi_fea],self.Y_train)\n",
    "            rfe_score=(estimator.coef_)**2\n",
    "            #print(rfe_score)\n",
    "            total_score=alpha*relief_score+(1-alpha)*rfe_score\n",
    "            #print(total_score)\n",
    "            index_=np.argmin(total_score)\n",
    "            remove_fea=candi_fea[index_]\n",
    "            candi_fea.remove(remove_fea)\n",
    "            i-=1\n",
    "            aver=mean(cross_val_score(estimator,self.X_train[:,candi_fea],self.Y_train,scoring=\"accuracy\",cv=kf,n_jobs=-1))\n",
    "            F1=mean(cross_val_score(estimator,self.X_train[:,candi_fea],self.Y_train,scoring=\"f1\",cv=kf,n_jobs=-1))\n",
    "            aver_lis[i-1]=aver\n",
    "            F_lis[i-1]=F1\n",
    "            if i==1:\n",
    "                break\n",
    "        return aver_lis,F_lis\n",
    "    def sele_feature(self,alpha,optim_featur_num):\n",
    "        estimator=SVC(kernel='linear',C=self.C)\n",
    "        rank_=[]\n",
    "        featu_num=self.X_train.shape[1]\n",
    "        candi_fea=[i for i in range(featu_num)]\n",
    "        i=featu_num\n",
    "        while True:\n",
    "            relief_score=(reliefF.reliefF(self.X_train[:,candi_fea],self.Y_train)).reshape(1,i)\n",
    "            estimator.fit(self.X_train[:,candi_fea],self.Y_train)\n",
    "            rfe_score=(estimator.coef_)**2\n",
    "            total_score=alpha*relief_score+(1-alpha)*rfe_score\n",
    "            index_=np.argmin(total_score)\n",
    "            remove_fea=candi_fea[index_]\n",
    "            candi_fea.remove(remove_fea)\n",
    "            i-=1\n",
    "            if len(candi_fea)==optim_featur_num:\n",
    "                return candi_fea"
   ]
  },
  {
   "cell_type": "markdown",
   "id": "e19d62f9-118f-49f2-8908-78dd245a83ae",
   "metadata": {},
   "source": [
    "# 白云"
   ]
  },
  {
   "cell_type": "code",
   "execution_count": 49,
   "id": "8efd5c80-aeba-480e-9d49-5e02d2f653d9",
   "metadata": {},
   "outputs": [],
   "source": [
    "from skfeature.function.similarity_based import reliefF\n",
    "from sklearn.svm import SVC\n",
    "from sklearn.model_selection import KFold\n",
    "from skfeature.function.statistical_based import CFS\n",
    "import pandas as pd\n",
    "import numpy as np\n",
    "data_rfe=pd.read_csv('norm_baiyunshan.csv')\n",
    "data_rfe_array=np.array(data_rfe)\n",
    "fea=data_rfe_array[:,:49]\n",
    "target=data_rfe_array[:,49]\n",
    "baiyun_accuracy=[i for i in range(10)]\n",
    "baiyun_F_measure=[i for i in range(10)]\n",
    "sample=[1929,1729,1529,1329,1129,929,729,529,329,129]"
   ]
  },
  {
   "cell_type": "code",
   "execution_count": 50,
   "id": "afd89a1d-4ac4-47ab-8e0c-b7a52d95686e",
   "metadata": {},
   "outputs": [],
   "source": [
    "\n",
    "t=0\n",
    "for i in sample:\n",
    "    x_test=fea[:i,:]\n",
    "    y_test=target[:i]\n",
    "    x_train=fea[i:,:]\n",
    "    y_train=target[i:]\n",
    "    rfe_relief_SVM_model=rfe_relief_SVM(x_train,y_train,0.1)\n",
    "    rfe_relief_SVM_sele_featu_subset=rfe_relief_SVM_model.sele_feature(0.15,10)\n",
    "    estimator_SVM_rfe_reliefF=SVC(kernel='linear',C=0.1)\n",
    "    estimator_SVM_rfe_reliefF.fit(x_train[:,rfe_relief_SVM_sele_featu_subset],y_train)\n",
    "    rfe_reliefF_SVM_result=estimator_SVM_rfe_reliefF.predict(x_test[:,rfe_relief_SVM_sele_featu_subset])\n",
    "    performan_rfe_reliefF_SVM=meansure_performance(rfe_reliefF_SVM_result)\n",
    "    baiyun_accuracy[t]=performan_rfe_reliefF_SVM[0]\n",
    "    baiyun_F_measure[t]=performan_rfe_reliefF_SVM[4]\n",
    "    t=t+1"
   ]
  },
  {
   "cell_type": "code",
   "execution_count": null,
   "id": "3d706481-ceb7-499b-9d99-cc3148417fff",
   "metadata": {},
   "outputs": [],
   "source": []
  },
  {
   "cell_type": "code",
   "execution_count": null,
   "id": "bf5d1ebb-c209-4218-8dc0-14e2ba7829fa",
   "metadata": {},
   "outputs": [],
   "source": []
  },
  {
   "cell_type": "markdown",
   "id": "601f4a4c-3439-4ae5-b76f-07c934d9ef87",
   "metadata": {},
   "source": [
    "# 贵州"
   ]
  },
  {
   "cell_type": "code",
   "execution_count": 51,
   "id": "ca6cb820-cee4-4099-8fff-fc113cbf448e",
   "metadata": {},
   "outputs": [],
   "source": [
    "from skfeature.function.similarity_based import reliefF\n",
    "from sklearn.svm import SVC\n",
    "from sklearn.model_selection import KFold\n",
    "from skfeature.function.statistical_based import CFS\n",
    "import pandas as pd\n",
    "import numpy as np\n",
    "data_rfe=pd.read_csv('norm_guizhou.csv')\n",
    "data_rfe_array=np.array(data_rfe)\n",
    "fea=data_rfe_array[:,:49]\n",
    "target=data_rfe_array[:,49]\n",
    "guizhou_accuracy=[i for i in range(10)]\n",
    "guizhou_F_measure=[i for i in range(10)]\n",
    "sample=[1929,1729,1529,1329,1129,929,729,529,329,129]"
   ]
  },
  {
   "cell_type": "code",
   "execution_count": 52,
   "id": "0cbf22bc-c611-45dc-88bc-ec95eff0b14e",
   "metadata": {},
   "outputs": [],
   "source": [
    "t=0\n",
    "for i in sample:\n",
    "    x_test=fea[:i,:]\n",
    "    y_test=target[:i]\n",
    "    x_train=fea[i:,:]\n",
    "    y_train=target[i:]\n",
    "    rfe_relief_SVM_model=rfe_relief_SVM(x_train,y_train,0.1)\n",
    "    rfe_relief_SVM_sele_featu_subset=rfe_relief_SVM_model.sele_feature(0.15,10)\n",
    "    estimator_SVM_rfe_reliefF=SVC(kernel='linear',C=0.1)\n",
    "    estimator_SVM_rfe_reliefF.fit(x_train[:,rfe_relief_SVM_sele_featu_subset],y_train)\n",
    "    rfe_reliefF_SVM_result=estimator_SVM_rfe_reliefF.predict(x_test[:,rfe_relief_SVM_sele_featu_subset])\n",
    "    performan_rfe_reliefF_SVM=meansure_performance(rfe_reliefF_SVM_result)\n",
    "    guizhou_accuracy[t]=performan_rfe_reliefF_SVM[0]\n",
    "    guizhou_F_measure[t]=performan_rfe_reliefF_SVM[4]\n",
    "    t=t+1"
   ]
  },
  {
   "cell_type": "markdown",
   "id": "024a31b2-e21a-4bcc-975e-993fbb18ee7c",
   "metadata": {},
   "source": [
    "# jinhui"
   ]
  },
  {
   "cell_type": "code",
   "execution_count": 53,
   "id": "738021f2-dc9e-421d-9d20-684bf6e11cbe",
   "metadata": {},
   "outputs": [],
   "source": [
    "from skfeature.function.similarity_based import reliefF\n",
    "from sklearn.svm import SVC\n",
    "from sklearn.model_selection import KFold\n",
    "from skfeature.function.statistical_based import CFS\n",
    "import pandas as pd\n",
    "import numpy as np\n",
    "data_rfe=pd.read_csv('norm_jinhuijiu.csv')\n",
    "data_rfe_array=np.array(data_rfe)\n",
    "fea=data_rfe_array[:,:49]\n",
    "target=data_rfe_array[:,49]\n",
    "jinhui_accuracy=[i for i in range(10)]\n",
    "jinhui_F_measure=[i for i in range(10)]\n",
    "sample=[1929,1729,1529,1329,1129,929,729,529,329,129]"
   ]
  },
  {
   "cell_type": "code",
   "execution_count": 54,
   "id": "df5f78ed-bd70-421e-8e68-dde6e271c4f3",
   "metadata": {},
   "outputs": [],
   "source": [
    "t=0\n",
    "for i in sample:\n",
    "    x_test=fea[:i,:]\n",
    "    y_test=target[:i]\n",
    "    x_train=fea[i:,:]\n",
    "    y_train=target[i:]\n",
    "    rfe_relief_SVM_model=rfe_relief_SVM(x_train,y_train,0.1)\n",
    "    rfe_relief_SVM_sele_featu_subset=rfe_relief_SVM_model.sele_feature(0.15,10)\n",
    "    estimator_SVM_rfe_reliefF=SVC(kernel='linear',C=0.1)\n",
    "    estimator_SVM_rfe_reliefF.fit(x_train[:,rfe_relief_SVM_sele_featu_subset],y_train)\n",
    "    rfe_reliefF_SVM_result=estimator_SVM_rfe_reliefF.predict(x_test[:,rfe_relief_SVM_sele_featu_subset])\n",
    "    performan_rfe_reliefF_SVM=meansure_performance(rfe_reliefF_SVM_result)\n",
    "    jinhui_accuracy[t]=performan_rfe_reliefF_SVM[0]\n",
    "    jinhui_F_measure[t]=performan_rfe_reliefF_SVM[4]\n",
    "    t=t+1"
   ]
  },
  {
   "cell_type": "markdown",
   "id": "7a8e32ca-7ddf-4e5b-82af-582cff82c0a4",
   "metadata": {},
   "source": [
    "# jinshi"
   ]
  },
  {
   "cell_type": "code",
   "execution_count": 55,
   "id": "4140eebb-4bed-4a65-a828-bf6c28e7eea4",
   "metadata": {},
   "outputs": [],
   "source": [
    "from skfeature.function.similarity_based import reliefF\n",
    "from sklearn.svm import SVC\n",
    "from sklearn.model_selection import KFold\n",
    "from skfeature.function.statistical_based import CFS\n",
    "import pandas as pd\n",
    "import numpy as np\n",
    "data_rfe=pd.read_csv('norm_jinshi.csv')\n",
    "data_rfe_array=np.array(data_rfe)\n",
    "fea=data_rfe_array[:,:49]\n",
    "target=data_rfe_array[:,49]\n",
    "jinshi_accuracy=[i for i in range(10)]\n",
    "jinshi_F_measure=[i for i in range(10)]\n",
    "sample=[1929,1729,1529,1329,1129,929,729,529,329,129]"
   ]
  },
  {
   "cell_type": "code",
   "execution_count": 56,
   "id": "f031ee2e-c6cc-473c-b412-2c73ff4e14bb",
   "metadata": {},
   "outputs": [],
   "source": [
    "t=0\n",
    "for i in sample:\n",
    "    x_test=fea[:i,:]\n",
    "    y_test=target[:i]\n",
    "    x_train=fea[i:,:]\n",
    "    y_train=target[i:]\n",
    "    rfe_relief_SVM_model=rfe_relief_SVM(x_train,y_train,0.1)\n",
    "    rfe_relief_SVM_sele_featu_subset=rfe_relief_SVM_model.sele_feature(0.15,10)\n",
    "    estimator_SVM_rfe_reliefF=SVC(kernel='linear',C=0.1)\n",
    "    estimator_SVM_rfe_reliefF.fit(x_train[:,rfe_relief_SVM_sele_featu_subset],y_train)\n",
    "    rfe_reliefF_SVM_result=estimator_SVM_rfe_reliefF.predict(x_test[:,rfe_relief_SVM_sele_featu_subset])\n",
    "    performan_rfe_reliefF_SVM=meansure_performance(rfe_reliefF_SVM_result)\n",
    "    jinshi_accuracy[t]=performan_rfe_reliefF_SVM[0]\n",
    "    jinshi_F_measure[t]=performan_rfe_reliefF_SVM[4]\n",
    "    t=t+1"
   ]
  },
  {
   "cell_type": "markdown",
   "id": "642b938a-7c88-47a7-8547-7a9f0aea930f",
   "metadata": {},
   "source": [
    "# laobai"
   ]
  },
  {
   "cell_type": "code",
   "execution_count": 57,
   "id": "5ec2c38c-6d19-404f-ba5e-1721284e16b8",
   "metadata": {},
   "outputs": [],
   "source": [
    "from skfeature.function.similarity_based import reliefF\n",
    "from sklearn.svm import SVC\n",
    "from sklearn.model_selection import KFold\n",
    "from skfeature.function.statistical_based import CFS\n",
    "import pandas as pd\n",
    "import numpy as np\n",
    "data_rfe=pd.read_csv('norm_laobai.csv')\n",
    "data_rfe_array=np.array(data_rfe)\n",
    "fea=data_rfe_array[:,:49]\n",
    "target=data_rfe_array[:,49]\n",
    "laobai_accuracy=[i for i in range(10)]\n",
    "laobai_F_measure=[i for i in range(10)]\n",
    "sample=[1929,1729,1529,1329,1129,929,729,529,329,129]"
   ]
  },
  {
   "cell_type": "code",
   "execution_count": 58,
   "id": "9c1f8db3-9c8d-4dd8-9cfb-0b2391ec986d",
   "metadata": {},
   "outputs": [],
   "source": [
    "t=0\n",
    "for i in sample:\n",
    "    x_test=fea[:i,:]\n",
    "    y_test=target[:i]\n",
    "    x_train=fea[i:,:]\n",
    "    y_train=target[i:]\n",
    "    rfe_relief_SVM_model=rfe_relief_SVM(x_train,y_train,0.1)\n",
    "    rfe_relief_SVM_sele_featu_subset=rfe_relief_SVM_model.sele_feature(0.15,10)\n",
    "    estimator_SVM_rfe_reliefF=SVC(kernel='linear',C=0.1)\n",
    "    estimator_SVM_rfe_reliefF.fit(x_train[:,rfe_relief_SVM_sele_featu_subset],y_train)\n",
    "    rfe_reliefF_SVM_result=estimator_SVM_rfe_reliefF.predict(x_test[:,rfe_relief_SVM_sele_featu_subset])\n",
    "    performan_rfe_reliefF_SVM=meansure_performance(rfe_reliefF_SVM_result)\n",
    "    laobai_accuracy[t]=performan_rfe_reliefF_SVM[0]\n",
    "    laobai_F_measure[t]=performan_rfe_reliefF_SVM[4]\n",
    "    t=t+1"
   ]
  },
  {
   "cell_type": "markdown",
   "id": "8a67ef53-ffec-41a2-b603-a9f91446f068",
   "metadata": {},
   "source": [
    "# shanxi"
   ]
  },
  {
   "cell_type": "code",
   "execution_count": 59,
   "id": "ff47d305-71d1-44e4-be8b-be0174b5b7e5",
   "metadata": {},
   "outputs": [],
   "source": [
    "from skfeature.function.similarity_based import reliefF\n",
    "from sklearn.svm import SVC\n",
    "from sklearn.model_selection import KFold\n",
    "from skfeature.function.statistical_based import CFS\n",
    "import pandas as pd\n",
    "import numpy as np\n",
    "data_rfe=pd.read_csv('norm_shanxi.csv')\n",
    "data_rfe_array=np.array(data_rfe)\n",
    "fea=data_rfe_array[:,:49]\n",
    "target=data_rfe_array[:,49]\n",
    "shanxi_accuracy=[i for i in range(10)]\n",
    "shanxi_F_measure=[i for i in range(10)]\n",
    "sample=[1929,1729,1529,1329,1129,929,729,529,329,129]"
   ]
  },
  {
   "cell_type": "code",
   "execution_count": 60,
   "id": "33c7dfa9-1a8d-4278-b721-c78004db16a5",
   "metadata": {},
   "outputs": [],
   "source": [
    "t=0\n",
    "for i in sample:\n",
    "    x_test=fea[:i,:]\n",
    "    y_test=target[:i]\n",
    "    x_train=fea[i:,:]\n",
    "    y_train=target[i:]\n",
    "    rfe_relief_SVM_model=rfe_relief_SVM(x_train,y_train,0.1)\n",
    "    rfe_relief_SVM_sele_featu_subset=rfe_relief_SVM_model.sele_feature(0.15,10)\n",
    "    estimator_SVM_rfe_reliefF=SVC(kernel='linear',C=0.1)\n",
    "    estimator_SVM_rfe_reliefF.fit(x_train[:,rfe_relief_SVM_sele_featu_subset],y_train)\n",
    "    rfe_reliefF_SVM_result=estimator_SVM_rfe_reliefF.predict(x_test[:,rfe_relief_SVM_sele_featu_subset])\n",
    "    performan_rfe_reliefF_SVM=meansure_performance(rfe_reliefF_SVM_result)\n",
    "    shanxi_accuracy[t]=performan_rfe_reliefF_SVM[0]\n",
    "    shanxi_F_measure[t]=performan_rfe_reliefF_SVM[4]\n",
    "    t=t+1"
   ]
  },
  {
   "cell_type": "markdown",
   "id": "c2240bc3-bd92-4d7f-9233-bb8f6c6e93cd",
   "metadata": {},
   "source": [
    "# tongren"
   ]
  },
  {
   "cell_type": "code",
   "execution_count": 61,
   "id": "3aa06aad-1f73-47fc-8797-b0cd4fd5f4a1",
   "metadata": {},
   "outputs": [],
   "source": [
    "from skfeature.function.similarity_based import reliefF\n",
    "from sklearn.svm import SVC\n",
    "from sklearn.model_selection import KFold\n",
    "from skfeature.function.statistical_based import CFS\n",
    "import pandas as pd\n",
    "import numpy as np\n",
    "data_rfe=pd.read_csv('norm_tongren.csv')\n",
    "data_rfe_array=np.array(data_rfe)\n",
    "fea=data_rfe_array[:,:49]\n",
    "target=data_rfe_array[:,49]\n",
    "tongren_accuracy=[i for i in range(10)]\n",
    "tongren_F_measure=[i for i in range(10)]\n",
    "sample=[1929,1729,1529,1329,1129,929,729,529,329,129]"
   ]
  },
  {
   "cell_type": "code",
   "execution_count": 62,
   "id": "9cc14bab-9645-4a83-bb01-bec0e05eed4c",
   "metadata": {},
   "outputs": [],
   "source": [
    "t=0\n",
    "for i in sample:\n",
    "    x_test=fea[:i,:]\n",
    "    y_test=target[:i]\n",
    "    x_train=fea[i:,:]\n",
    "    y_train=target[i:]\n",
    "    rfe_relief_SVM_model=rfe_relief_SVM(x_train,y_train,0.1)\n",
    "    rfe_relief_SVM_sele_featu_subset=rfe_relief_SVM_model.sele_feature(0.15,10)\n",
    "    estimator_SVM_rfe_reliefF=SVC(kernel='linear',C=0.1)\n",
    "    estimator_SVM_rfe_reliefF.fit(x_train[:,rfe_relief_SVM_sele_featu_subset],y_train)\n",
    "    rfe_reliefF_SVM_result=estimator_SVM_rfe_reliefF.predict(x_test[:,rfe_relief_SVM_sele_featu_subset])\n",
    "    performan_rfe_reliefF_SVM=meansure_performance(rfe_reliefF_SVM_result)\n",
    "    tongren_accuracy[t]=performan_rfe_reliefF_SVM[0]\n",
    "    tongren_F_measure[t]=performan_rfe_reliefF_SVM[4]\n",
    "    t=t+1"
   ]
  },
  {
   "cell_type": "markdown",
   "id": "0efb7f7e-7523-4b0b-82f7-603f6b037019",
   "metadata": {},
   "source": [
    "# weiwei"
   ]
  },
  {
   "cell_type": "code",
   "execution_count": 63,
   "id": "0a6a760b-eb8a-403e-a6cc-1e35daff8b57",
   "metadata": {},
   "outputs": [],
   "source": [
    "from skfeature.function.similarity_based import reliefF\n",
    "from sklearn.svm import SVC\n",
    "from sklearn.model_selection import KFold\n",
    "from skfeature.function.statistical_based import CFS\n",
    "import pandas as pd\n",
    "import numpy as np\n",
    "data_rfe=pd.read_csv('norm_weiwei.csv')\n",
    "data_rfe_array=np.array(data_rfe)\n",
    "fea=data_rfe_array[:,:49]\n",
    "target=data_rfe_array[:,49]\n",
    "weiwei_accuracy=[i for i in range(10)]\n",
    "weiwei_F_measure=[i for i in range(10)]\n",
    "sample=[1929,1729,1529,1329,1129,929,729,529,329,129]"
   ]
  },
  {
   "cell_type": "code",
   "execution_count": 64,
   "id": "24c30b02-e383-420a-979b-258fd56166e3",
   "metadata": {},
   "outputs": [],
   "source": [
    "t=0\n",
    "for i in sample:\n",
    "    x_test=fea[:i,:]\n",
    "    y_test=target[:i]\n",
    "    x_train=fea[i:,:]\n",
    "    y_train=target[i:]\n",
    "    rfe_relief_SVM_model=rfe_relief_SVM(x_train,y_train,0.1)\n",
    "    rfe_relief_SVM_sele_featu_subset=rfe_relief_SVM_model.sele_feature(0.15,10)\n",
    "    estimator_SVM_rfe_reliefF=SVC(kernel='linear',C=0.1)\n",
    "    estimator_SVM_rfe_reliefF.fit(x_train[:,rfe_relief_SVM_sele_featu_subset],y_train)\n",
    "    rfe_reliefF_SVM_result=estimator_SVM_rfe_reliefF.predict(x_test[:,rfe_relief_SVM_sele_featu_subset])\n",
    "    performan_rfe_reliefF_SVM=meansure_performance(rfe_reliefF_SVM_result)\n",
    "    weiwei_accuracy[t]=performan_rfe_reliefF_SVM[0]\n",
    "    weiwei_F_measure[t]=performan_rfe_reliefF_SVM[4]\n",
    "    t=t+1"
   ]
  },
  {
   "cell_type": "markdown",
   "id": "86c6900f-4767-41a1-925a-557266d42fdc",
   "metadata": {},
   "source": [
    "# yanghe"
   ]
  },
  {
   "cell_type": "code",
   "execution_count": 65,
   "id": "007b2bc2-4b3f-488d-ad12-e0741464af0c",
   "metadata": {},
   "outputs": [],
   "source": [
    "from skfeature.function.similarity_based import reliefF\n",
    "from sklearn.svm import SVC\n",
    "from sklearn.model_selection import KFold\n",
    "from skfeature.function.statistical_based import CFS\n",
    "import pandas as pd\n",
    "import numpy as np\n",
    "data_rfe=pd.read_csv('norm_yanghe.csv')\n",
    "data_rfe_array=np.array(data_rfe)\n",
    "fea=data_rfe_array[:,:49]\n",
    "target=data_rfe_array[:,49]\n",
    "yanghe_accuracy=[i for i in range(10)]\n",
    "yanghe_F_measure=[i for i in range(10)]\n",
    "sample=[1929,1729,1529,1329,1129,929,729,529,329,129]"
   ]
  },
  {
   "cell_type": "code",
   "execution_count": 66,
   "id": "333503f6-f90f-49c9-8a9a-aa10e3ab828d",
   "metadata": {},
   "outputs": [],
   "source": [
    "t=0\n",
    "for i in sample:\n",
    "    x_test=fea[:i,:]\n",
    "    y_test=target[:i]\n",
    "    x_train=fea[i:,:]\n",
    "    y_train=target[i:]\n",
    "    rfe_relief_SVM_model=rfe_relief_SVM(x_train,y_train,0.1)\n",
    "    rfe_relief_SVM_sele_featu_subset=rfe_relief_SVM_model.sele_feature(0.15,10)\n",
    "    estimator_SVM_rfe_reliefF=SVC(kernel='linear',C=0.1)\n",
    "    estimator_SVM_rfe_reliefF.fit(x_train[:,rfe_relief_SVM_sele_featu_subset],y_train)\n",
    "    rfe_reliefF_SVM_result=estimator_SVM_rfe_reliefF.predict(x_test[:,rfe_relief_SVM_sele_featu_subset])\n",
    "    performan_rfe_reliefF_SVM=meansure_performance(rfe_reliefF_SVM_result)\n",
    "    yanghe_accuracy[t]=performan_rfe_reliefF_SVM[0]\n",
    "    yanghe_F_measure[t]=performan_rfe_reliefF_SVM[4]\n",
    "    t=t+1"
   ]
  },
  {
   "cell_type": "code",
   "execution_count": 67,
   "id": "9296199d-adb0-47c8-bf8b-911d35088043",
   "metadata": {},
   "outputs": [],
   "source": [
    "linear_kernel_svm_accuracy=[]\n",
    "linear_kernel_svm_accuracy.append(baiyun_accuracy)\n",
    "linear_kernel_svm_accuracy.append(guizhou_accuracy)\n",
    "linear_kernel_svm_accuracy.append(jinhui_accuracy)\n",
    "linear_kernel_svm_accuracy.append(jinshi_accuracy)\n",
    "linear_kernel_svm_accuracy.append(laobai_accuracy)\n",
    "linear_kernel_svm_accuracy.append(shanxi_accuracy)\n",
    "linear_kernel_svm_accuracy.append(tongren_accuracy)\n",
    "linear_kernel_svm_accuracy.append(weiwei_accuracy)\n",
    "linear_kernel_svm_accuracy.append(yanghe_accuracy)"
   ]
  },
  {
   "cell_type": "code",
   "execution_count": 68,
   "id": "a7e9d813-8d07-4edd-b3df-4e4c064b3814",
   "metadata": {},
   "outputs": [],
   "source": [
    "colu=[200,400,600,800,1000,1200,1400,1600,1800,2000]\n",
    "linear_kernel_svm_acurracy_dataframe=pd.DataFrame(columns=colu,data=np.array(linear_kernel_svm_accuracy))\n",
    "linear_kernel_svm_acurracy_dataframe.to_csv(\"linear_kernel_svm_accuracy.csv\")"
   ]
  },
  {
   "cell_type": "code",
   "execution_count": 69,
   "id": "260b23af-ede1-4681-9af1-a8297309b9e6",
   "metadata": {},
   "outputs": [],
   "source": [
    "linear_kernel_svm_F_measure=[]\n",
    "linear_kernel_svm_F_measure.append(baiyun_F_measure)\n",
    "linear_kernel_svm_F_measure.append(guizhou_F_measure)\n",
    "linear_kernel_svm_F_measure.append(jinhui_F_measure)\n",
    "linear_kernel_svm_F_measure.append(jinshi_F_measure)\n",
    "linear_kernel_svm_F_measure.append(laobai_F_measure)\n",
    "linear_kernel_svm_F_measure.append(shanxi_F_measure)\n",
    "linear_kernel_svm_F_measure.append(tongren_F_measure)\n",
    "linear_kernel_svm_F_measure.append(weiwei_F_measure)\n",
    "linear_kernel_svm_F_measure.append(yanghe_F_measure)"
   ]
  },
  {
   "cell_type": "code",
   "execution_count": 70,
   "id": "d5a8c2f2-4c2e-4109-b6e0-a412c5e184d7",
   "metadata": {},
   "outputs": [],
   "source": [
    "colu=[200,400,600,800,1000,1200,1400,1600,1800,2000]\n",
    "linear_kernel_svm_F_measure_dataframe=pd.DataFrame(columns=colu,data=np.array(linear_kernel_svm_F_measure))\n",
    "linear_kernel_svm_F_measure_dataframe.to_csv(\"linear_kernel_svm_F_measure.csv\")"
   ]
  },
  {
   "cell_type": "code",
   "execution_count": null,
   "id": "26aa3e33-45f9-4f16-8fd2-5cc2ece89ca4",
   "metadata": {},
   "outputs": [],
   "source": []
  }
 ],
 "metadata": {
  "kernelspec": {
   "display_name": "Python 3 (ipykernel)",
   "language": "python",
   "name": "python3"
  },
  "language_info": {
   "codemirror_mode": {
    "name": "ipython",
    "version": 3
   },
   "file_extension": ".py",
   "mimetype": "text/x-python",
   "name": "python",
   "nbconvert_exporter": "python",
   "pygments_lexer": "ipython3",
   "version": "3.11.7"
  }
 },
 "nbformat": 4,
 "nbformat_minor": 5
}
