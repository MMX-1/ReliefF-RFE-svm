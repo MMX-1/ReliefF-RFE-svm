{
 "cells": [
  {
   "cell_type": "code",
   "execution_count": 31,
   "id": "5edb4b4d-b0d2-41a6-9e0d-a1fabf3cc47f",
   "metadata": {},
   "outputs": [],
   "source": [
    "#性能测量\n",
    "def meansure_performance(y_predict_lis):\n",
    "    TP=0\n",
    "    FP=0\n",
    "    TN=0\n",
    "    FN=0\n",
    "    #测试样本数\n",
    "    sample_num=x_test.shape[0]\n",
    "    for i in range(sample_num):\n",
    "        y_predict=y_predict_lis[i]\n",
    "        if y_predict==1 and y_test[i]==1:\n",
    "            TP+=1\n",
    "        elif y_predict==-1 and y_test[i]==-1:\n",
    "            TN+=1\n",
    "        elif y_predict==1 and y_test[i]==-1:\n",
    "    #false poistive\n",
    "            FP+=1\n",
    "        elif y_predict==-1 and y_test[i]==1:\n",
    "    #false negative\n",
    "            FN+=1 \n",
    "    accuracy=(TP+TN)/(TP+FP+TN+FN)\n",
    "    recall=TP/(TP+FN)\n",
    "    specificity=TN/(TN+FP)\n",
    "    precision=TP/(TP+FP)\n",
    "    F_measuer=(2*precision*recall)/(precision+recall)\n",
    "    return accuracy,recall,specificity,precision,F_measuer"
   ]
  },
  {
   "cell_type": "code",
   "execution_count": 32,
   "id": "a099952c-5276-427a-af5c-0b1d5fb81ae1",
   "metadata": {},
   "outputs": [],
   "source": [
    "from skfeature.function.similarity_based import reliefF\n",
    "from sklearn.svm import SVC\n",
    "from sklearn.model_selection import KFold\n",
    "from skfeature.function.statistical_based import CFS\n",
    "import pandas as pd\n",
    "import numpy as np\n",
    "data_rfe=pd.read_csv('norm_jinshi.csv')\n",
    "data_rfe_array=np.array(data_rfe)\n",
    "fea=data_rfe_array[:,:49]\n",
    "target=data_rfe_array[:,49]\n",
    "x_test=fea[:170,:]\n",
    "y_test=target[:170]\n",
    "x_train=fea[170:,:]\n",
    "y_train=target[170:]"
   ]
  },
  {
   "cell_type": "code",
   "execution_count": 33,
   "id": "097806bf-7954-4b23-b7a6-d2014c14b179",
   "metadata": {},
   "outputs": [],
   "source": [
    "techini_indicator=data_rfe.columns.tolist()[:-1]"
   ]
  },
  {
   "cell_type": "markdown",
   "id": "fa21c6ce-02ce-4439-bc0a-49cfd8f3ed1d",
   "metadata": {},
   "source": [
    "# SVC"
   ]
  },
  {
   "cell_type": "code",
   "execution_count": 34,
   "id": "02168353-cc42-4ec9-8566-42873d27cc61",
   "metadata": {},
   "outputs": [
    {
     "name": "stdout",
     "output_type": "stream",
     "text": [
      "(0.8176470588235294, 0.84, 0.8, 0.7682926829268293, 0.8025477707006369)\n"
     ]
    }
   ],
   "source": [
    "estimator_SVC=SVC(C=1.5, kernel='rbf',gamma=0.1)\n",
    "estimator_SVC.fit(x_train,y_train)\n",
    "SVC_result= estimator_SVC.predict(x_test)\n",
    "performan_SVC=meansure_performance(SVC_result)\n",
    "print(performan_SVC)"
   ]
  },
  {
   "cell_type": "markdown",
   "id": "d44460f5-1a3f-4801-95f3-0771e2e580a0",
   "metadata": {},
   "source": [
    "# CFS-SVM"
   ]
  },
  {
   "cell_type": "code",
   "execution_count": 35,
   "id": "19f7239e-8daf-4285-9b54-093bdd0250e2",
   "metadata": {},
   "outputs": [
    {
     "data": {
      "text/plain": [
       "[31, 4, 26, 1, 2, 3, 5]"
      ]
     },
     "execution_count": 35,
     "metadata": {},
     "output_type": "execute_result"
    }
   ],
   "source": [
    "CFS_selected_feature = CFS.cfs(x_train,y_train)\n",
    "CFS_fea_sele=list(CFS_selected_feature)\n",
    "CFS_fea_sele"
   ]
  },
  {
   "cell_type": "code",
   "execution_count": 36,
   "id": "3f43c9c0-0ae6-4de0-b037-fcfeed8d17b9",
   "metadata": {},
   "outputs": [
    {
     "data": {
      "text/plain": [
       "(array(['VROC', 'VOSC', 'K', 'TAPI', 'VMA', 'VMACD', 'VSTD'], dtype='<U8'), 7)"
      ]
     },
     "execution_count": 36,
     "metadata": {},
     "output_type": "execute_result"
    }
   ],
   "source": [
    "np.array(techini_indicator)[CFS_fea_sele],len(np.array(techini_indicator)[CFS_fea_sele])"
   ]
  },
  {
   "cell_type": "code",
   "execution_count": 37,
   "id": "d60fbc0b-685f-47e7-8e11-fbd7a942ca61",
   "metadata": {},
   "outputs": [],
   "source": [
    "estimator_SVM_CFS=SVC(C=1.5, kernel='rbf',gamma=0.1)\n",
    "estimator_SVM_CFS.fit(x_train[:,CFS_fea_sele],y_train)\n",
    "CFS_SVM_result=estimator_SVM_CFS.predict(x_test[:,CFS_fea_sele])"
   ]
  },
  {
   "cell_type": "code",
   "execution_count": 38,
   "id": "dc3e7e4f-ba51-4ca3-8e5c-fb3663765b52",
   "metadata": {},
   "outputs": [
    {
     "name": "stdout",
     "output_type": "stream",
     "text": [
      "(0.5764705882352941, 0.25333333333333335, 0.8315789473684211, 0.5428571428571428, 0.34545454545454546)\n"
     ]
    }
   ],
   "source": [
    "performan_CFS_SVM=meansure_performance(CFS_SVM_result)\n",
    "print(performan_CFS_SVM)"
   ]
  },
  {
   "cell_type": "markdown",
   "id": "7eda2fb4-3d50-458c-972f-c48d020ac2f3",
   "metadata": {},
   "source": [
    "# sequencial-backward-elimination SVM"
   ]
  },
  {
   "cell_type": "code",
   "execution_count": 39,
   "id": "f47eb520-498a-4989-b523-78930d567172",
   "metadata": {},
   "outputs": [],
   "source": [
    "from sklearn.metrics import accuracy_score\n",
    "from sklearn.model_selection import KFold\n",
    "from numpy import mean \n",
    "from sklearn.model_selection import cross_val_score\n",
    "class back_SVM:\n",
    "    def __init__(self,X_train,Y_train,c,gamma):\n",
    "        self.X_train=X_train\n",
    "        self.Y_train=Y_train\n",
    "        self.C=c\n",
    "        self.Gamma=gamma\n",
    "    def SBE(self,folds):\n",
    "        fea_num=self.X_train.shape[1]\n",
    "        candi_fea=[i for i in range(fea_num)]\n",
    "        fea=[i for i in range(fea_num)]\n",
    "        best_subset=[i for i in range(fea_num)]\n",
    "        model=SVC(C=self.C, kernel='rbf',gamma=self.Gamma)\n",
    "        Best_accuracy=mean(cross_val_score(model,self.X_train,self.Y_train,scoring=\"accuracy\",cv=folds,n_jobs=-1))\n",
    "        Success=True\n",
    "        while Success:\n",
    "            Success=False\n",
    "            for f in candi_fea:\n",
    "                candi_fea_copy=candi_fea.copy()\n",
    "                candi_fea_copy.remove(f)\n",
    "                x_sele=self.X_train[:,candi_fea_copy]\n",
    "                n_scores=cross_val_score(model,x_sele,self.Y_train,scoring=\"accuracy\",cv=folds,n_jobs=-1)\n",
    "                acc=mean(n_scores)\n",
    "                if acc>=Best_accuracy:\n",
    "                    #print(f)\n",
    "                    best_subset=candi_fea_copy\n",
    "                    Success=True\n",
    "                    Best_accuracy=acc\n",
    "            print(1)\n",
    "            if Success==True:\n",
    "                candi_fea=best_subset\n",
    "            print(len(candi_fea))\n",
    "        return best_subset\n",
    "                "
   ]
  },
  {
   "cell_type": "code",
   "execution_count": 40,
   "id": "aa6f739c-6c2f-4822-a45a-c4c279087901",
   "metadata": {},
   "outputs": [
    {
     "name": "stdout",
     "output_type": "stream",
     "text": [
      "1\n",
      "48\n",
      "1\n",
      "47\n",
      "1\n",
      "46\n",
      "1\n",
      "45\n",
      "1\n",
      "44\n",
      "1\n",
      "43\n",
      "1\n",
      "42\n",
      "1\n",
      "41\n",
      "1\n",
      "40\n",
      "1\n",
      "39\n",
      "1\n",
      "38\n",
      "1\n",
      "37\n",
      "1\n",
      "36\n",
      "1\n",
      "35\n",
      "1\n",
      "34\n",
      "1\n",
      "33\n",
      "1\n",
      "32\n",
      "1\n",
      "31\n",
      "1\n",
      "30\n",
      "1\n",
      "29\n",
      "1\n",
      "28\n",
      "1\n",
      "27\n",
      "1\n",
      "26\n",
      "1\n",
      "25\n",
      "1\n",
      "25\n"
     ]
    }
   ],
   "source": [
    "estimator_SVM_back=back_SVM(x_train,y_train,1.5,0.1)\n",
    "candi_fea_SBE=estimator_SVM_back.SBE(5)"
   ]
  },
  {
   "cell_type": "code",
   "execution_count": 41,
   "id": "41b3b01e-7f6a-4f9b-a293-d161d7d43d8c",
   "metadata": {},
   "outputs": [
    {
     "data": {
      "text/plain": [
       "(array(['TAPI', 'VMACD', 'CR', 'PSY', 'VR', 'AR', 'BR', 'MOBV', 'MACD',\n",
       "        'CCI', 'DBCD', 'DPO', 'K', 'RSI', 'SRDM', 'VRSI', 'WR', 'ADTM',\n",
       "        'DPTB', 'JDQS', 'JDRS', 'MI', 'MICD', 'SRMI', 'VHF'], dtype='<U8'),\n",
       " 25)"
      ]
     },
     "execution_count": 41,
     "metadata": {},
     "output_type": "execute_result"
    }
   ],
   "source": [
    "np.array(techini_indicator)[candi_fea_SBE],len(np.array(techini_indicator)[candi_fea_SBE])"
   ]
  },
  {
   "cell_type": "code",
   "execution_count": 42,
   "id": "a0931194-e990-4a3c-8f78-5ee899b26283",
   "metadata": {},
   "outputs": [
    {
     "name": "stdout",
     "output_type": "stream",
     "text": [
      "(0.8117647058823529, 0.8133333333333334, 0.8105263157894737, 0.7721518987341772, 0.7922077922077922)\n"
     ]
    }
   ],
   "source": [
    "estimator_SVM_SBE=SVC(C=1.5, kernel='rbf',gamma=0.1)\n",
    "estimator_SVM_SBE.fit(x_train[:,candi_fea_SBE],y_train)\n",
    "SBE_SVM_result=estimator_SVM_SBE.predict(x_test[:,candi_fea_SBE])\n",
    "performan_SBE_SVM=meansure_performance(SBE_SVM_result)\n",
    "print(performan_SBE_SVM)"
   ]
  },
  {
   "cell_type": "markdown",
   "id": "6a88da8c-6957-4bf2-bad3-68da949a403d",
   "metadata": {},
   "source": [
    "# reliefF-svm "
   ]
  },
  {
   "cell_type": "code",
   "execution_count": 43,
   "id": "970f03fc-41b8-4f70-bf4a-37805405e820",
   "metadata": {},
   "outputs": [],
   "source": [
    "from skfeature.function.similarity_based import reliefF\n",
    "relief_fea_score=reliefF.reliefF(x_train,y_train)\n",
    "relief_candi_fea=list(reliefF.feature_ranking(relief_fea_score))[:4]"
   ]
  },
  {
   "cell_type": "code",
   "execution_count": 44,
   "id": "b782ef55-5bf4-49ed-9019-ffd5f24e6c73",
   "metadata": {},
   "outputs": [
    {
     "data": {
      "text/plain": [
       "(array(['MOBV', 'RSI', 'WR', 'VRSI'], dtype='<U8'), 4)"
      ]
     },
     "execution_count": 44,
     "metadata": {},
     "output_type": "execute_result"
    }
   ],
   "source": [
    "np.array(techini_indicator)[relief_candi_fea],len(np.array(techini_indicator)[relief_candi_fea])"
   ]
  },
  {
   "cell_type": "code",
   "execution_count": 45,
   "id": "a95fa63c-0b5c-4a50-b125-2ff9dc6c8413",
   "metadata": {},
   "outputs": [
    {
     "name": "stdout",
     "output_type": "stream",
     "text": [
      "(0.8058823529411765, 0.7866666666666666, 0.8210526315789474, 0.7763157894736842, 0.7814569536423841)\n"
     ]
    }
   ],
   "source": [
    "# 0.5\n",
    "estimator_SVM_relief=SVC(C=1.5, kernel='rbf',gamma=0.1)\n",
    "estimator_SVM_relief.fit(x_train[:,relief_candi_fea],y_train)\n",
    "relief_SVM_result=estimator_SVM_relief.predict(x_test[:,relief_candi_fea])\n",
    "performan_relief_SVM=meansure_performance(relief_SVM_result)\n",
    "print(performan_relief_SVM)"
   ]
  },
  {
   "cell_type": "markdown",
   "id": "22e8365e-388b-49e3-8168-9856027319e9",
   "metadata": {},
   "source": [
    "# RFE-SVM"
   ]
  },
  {
   "cell_type": "code",
   "execution_count": 46,
   "id": "1faee531-0737-45f8-9f76-d74c97a9e9b0",
   "metadata": {},
   "outputs": [],
   "source": [
    "from skfeature.function.similarity_based import reliefF\n",
    "from sklearn.svm import SVC\n",
    "from sklearn.model_selection import KFold\n",
    "from numpy import mean \n",
    "from sklearn.model_selection import cross_val_score\n",
    "class rfe_SVM:\n",
    "    def __init__(self,x_train,y_train,c,gamma):\n",
    "        self.X_train=x_train\n",
    "        self.Y_train=y_train\n",
    "        self.C=c\n",
    "        self.Gamma=gamma\n",
    "    def featu_score(self,folds):\n",
    "        estimator=SVC(C=self.C, kernel='rbf',gamma=self.Gamma)\n",
    "        rank_=[]\n",
    "        featu_num=self.X_train.shape[1]\n",
    "        candi_fea=[j for j in range(featu_num)]\n",
    "        i=featu_num\n",
    "        aver_lis=[j for j in range(featu_num)]\n",
    "        F_lis=[j for j in range(featu_num)]\n",
    "        aver=mean(cross_val_score(estimator,self.X_train,self.Y_train,scoring=\"accuracy\",cv=folds,n_jobs=-1))\n",
    "        aver_lis[i-1]=aver\n",
    "        F1=mean(cross_val_score(estimator,self.X_train,self.Y_train,scoring=\"f1\",cv=folds,n_jobs=-1))\n",
    "        F_lis[i-1]=F1\n",
    "        while True:\n",
    "            estimator.fit(self.X_train[:,candi_fea],self.Y_train)\n",
    "            suppor_index=estimator.support_\n",
    "            support_num=len(suppor_index)\n",
    "            support_vector=estimator.support_vectors_\n",
    "            dual_coef=estimator.dual_coef_[0]\n",
    "            rfe_score=[i for i in range(len(candi_fea))]\n",
    "            z=np.exp(-self.Gamma*np.sum(support_vector*support_vector,axis=1))\n",
    "            matrix_z=np.outer(z, z)\n",
    "            y_matrix=np.outer(self.Y_train[suppor_index],self.Y_train[suppor_index])\n",
    "            H_matrix=np.exp(2*self.Gamma*support_vector@support_vector.T)*matrix_z*y_matrix\n",
    "            orig_loss=np.dot(np.dot(dual_coef*self.Y_train[suppor_index],H_matrix),dual_coef*self.Y_train[suppor_index])\n",
    "            k=0\n",
    "            for fea in candi_fea:\n",
    "                copy_support_vector=self.X_train[suppor_index,:]\n",
    "                candi_fea_copy=candi_fea.copy()\n",
    "                candi_fea_copy.remove(fea)\n",
    "                removed_support_vector=copy_support_vector[:,candi_fea_copy]\n",
    "                z1=np.exp(-self.Gamma*np.sum(removed_support_vector*removed_support_vector,axis=1))\n",
    "                matrix_z1=np.outer(z1, z1)\n",
    "                H_matrix1=np.exp(2*self.Gamma*removed_support_vector@removed_support_vector.T)*matrix_z1*y_matrix\n",
    "                after_loss=np.dot(np.dot(dual_coef*self.Y_train[suppor_index],H_matrix1),dual_coef*self.Y_train[suppor_index])\n",
    "                scor_fea=np.abs(orig_loss-after_loss)/2\n",
    "                rfe_score[k]=scor_fea\n",
    "                k=k+1     \n",
    "            index_=np.argmin(rfe_score)\n",
    "            remove_fea=candi_fea[index_]\n",
    "            candi_fea.remove(remove_fea)\n",
    "            i-=1\n",
    "            aver=mean(cross_val_score(estimator,self.X_train[:,candi_fea],self.Y_train,scoring=\"accuracy\",cv=folds,n_jobs=-1))\n",
    "            F1=mean(cross_val_score(estimator,self.X_train[:,candi_fea],self.Y_train,scoring=\"f1\",cv=folds,n_jobs=-1))\n",
    "            aver_lis[i-1]=aver\n",
    "            F_lis[i-1]=F1\n",
    "            if i==1:\n",
    "                break\n",
    "        return aver_lis,F_lis\n",
    "   \n",
    "    def featu_subset(self,featur_num):\n",
    "        estimator=SVC(C=self.C, kernel='rbf',gamma=self.Gamma)\n",
    "        rank_=[]\n",
    "        featu_num=self.X_train.shape[1]\n",
    "        candi_fea=[i for i in range(featu_num)]\n",
    "        while True:\n",
    "            if len(candi_fea)==featur_num:\n",
    "                return candi_fea\n",
    "            estimator.fit(self.X_train[:,candi_fea],self.Y_train)\n",
    "            suppor_index=estimator.support_\n",
    "            support_num=len(suppor_index)\n",
    "            support_vector=estimator.support_vectors_\n",
    "            dual_coef=estimator.dual_coef_[0]\n",
    "            rfe_score=[i for i in range(len(candi_fea))]\n",
    "            z=np.exp(-self.Gamma*np.sum(support_vector*support_vector,axis=1))\n",
    "            matrix_z=np.outer(z, z)\n",
    "            y_matrix=np.outer(self.Y_train[suppor_index],self.Y_train[suppor_index])\n",
    "            H_matrix=np.exp(2*self.Gamma*support_vector@support_vector.T)*matrix_z*y_matrix\n",
    "            orig_loss=np.dot(np.dot(dual_coef*self.Y_train[suppor_index],H_matrix),dual_coef*self.Y_train[suppor_index])\n",
    "            k=0\n",
    "            for fea in candi_fea:\n",
    "                copy_support_vector=self.X_train[suppor_index,:]\n",
    "                candi_fea_copy=candi_fea.copy()\n",
    "                candi_fea_copy.remove(fea)\n",
    "                removed_support_vector=copy_support_vector[:,candi_fea_copy]\n",
    "                z1=np.exp(-self.Gamma*np.sum(removed_support_vector*removed_support_vector,axis=1))\n",
    "                matrix_z1=np.outer(z1, z1)\n",
    "                H_matrix1=np.exp(2*self.Gamma*removed_support_vector@removed_support_vector.T)*matrix_z1*y_matrix\n",
    "                after_loss=np.dot(np.dot(dual_coef*self.Y_train[suppor_index],H_matrix1),dual_coef*self.Y_train[suppor_index])\n",
    "                scor_fea=np.abs(orig_loss-after_loss)/2\n",
    "                #print(scor_fea)\n",
    "                rfe_score[k]=scor_fea\n",
    "                k=k+1     \n",
    "            #print(rfe_score)\n",
    "            index_=np.argmin(rfe_score)\n",
    "            remove_fea=candi_fea[index_]\n",
    "            candi_fea.remove(remove_fea)\n",
    "            print(1)"
   ]
  },
  {
   "cell_type": "code",
   "execution_count": 47,
   "id": "40deb721-4f8a-4b34-93c2-142413b2a484",
   "metadata": {},
   "outputs": [
    {
     "name": "stdout",
     "output_type": "stream",
     "text": [
      "1\n",
      "1\n",
      "1\n",
      "1\n",
      "1\n",
      "1\n",
      "1\n",
      "1\n",
      "1\n",
      "1\n",
      "1\n",
      "1\n",
      "1\n",
      "1\n",
      "1\n",
      "1\n",
      "1\n",
      "1\n",
      "1\n",
      "1\n",
      "1\n",
      "1\n",
      "1\n",
      "1\n",
      "1\n",
      "1\n",
      "1\n",
      "1\n",
      "1\n",
      "1\n",
      "1\n",
      "1\n",
      "1\n",
      "1\n",
      "1\n",
      "1\n",
      "1\n",
      "1\n",
      "1\n",
      "1\n",
      "1\n",
      "1\n",
      "1\n",
      "1\n",
      "1\n"
     ]
    }
   ],
   "source": [
    "rfe_SVM_model=rfe_SVM(x_train,y_train,1.5,0.1)\n",
    "rfe_SVM_sele_featu_subset=rfe_SVM_model.featu_subset(4)"
   ]
  },
  {
   "cell_type": "code",
   "execution_count": 48,
   "id": "caa964ec-42e2-4258-a386-122f533edbc4",
   "metadata": {},
   "outputs": [
    {
     "data": {
      "text/plain": [
       "(array(['VOSC', 'MOBV', 'RSI', 'SRDM'], dtype='<U8'), 4)"
      ]
     },
     "execution_count": 48,
     "metadata": {},
     "output_type": "execute_result"
    }
   ],
   "source": [
    "np.array(techini_indicator)[rfe_SVM_sele_featu_subset],len(np.array(techini_indicator)[rfe_SVM_sele_featu_subset])"
   ]
  },
  {
   "cell_type": "code",
   "execution_count": 49,
   "id": "e5b7b94a-30e4-4786-a71f-a5da1baccacd",
   "metadata": {},
   "outputs": [
    {
     "name": "stdout",
     "output_type": "stream",
     "text": [
      "(0.8176470588235294, 0.8, 0.8315789473684211, 0.7894736842105263, 0.794701986754967)\n"
     ]
    }
   ],
   "source": [
    "estimator_SVM_rfe=SVC(C=1.5, kernel='rbf',gamma=0.1)\n",
    "estimator_SVM_rfe.fit(x_train[:,rfe_SVM_sele_featu_subset],y_train)\n",
    "rfe_SVM_result=estimator_SVM_rfe.predict(x_test[:,rfe_SVM_sele_featu_subset])\n",
    "performan_rfe_SVM=meansure_performance(rfe_SVM_result)\n",
    "print(performan_rfe_SVM)"
   ]
  },
  {
   "cell_type": "markdown",
   "id": "9fab471a-b318-4e12-a709-964df3c21c19",
   "metadata": {},
   "source": [
    "# SVM-RFE_RELIEF"
   ]
  },
  {
   "cell_type": "code",
   "execution_count": 50,
   "id": "55984709-29d8-4f08-82f3-c024c9e7d5d5",
   "metadata": {},
   "outputs": [],
   "source": [
    "from skfeature.function.similarity_based import reliefF\n",
    "from sklearn.svm import SVC\n",
    "from sklearn.model_selection import KFold\n",
    "from numpy import mean \n",
    "from sklearn.model_selection import cross_val_score\n",
    "class rfe_relief_SVM:\n",
    "    def __init__(self,x_train,y_train,c,gamma):\n",
    "        self.X_train=x_train\n",
    "        self.Y_train=y_train\n",
    "        self.C=c\n",
    "        self.Gamma=gamma\n",
    "    def featu_score(self,alpha,folds):\n",
    "        #kf=KFold(n_splits=folds,shuffle=False)\n",
    "        estimator=SVC(C=self.C, kernel='rbf',gamma=self.Gamma)\n",
    "        rank_=[]\n",
    "        featu_num=self.X_train.shape[1]\n",
    "        candi_fea=[j for j in range(featu_num)]\n",
    "        i=featu_num\n",
    "        aver_lis=[j for j in range(featu_num)]\n",
    "        F_lis=[j for j in range(featu_num)]\n",
    "        aver=mean(cross_val_score(estimator,x_train,y_train,scoring=\"accuracy\",cv=folds,n_jobs=-1))\n",
    "        aver_lis[i-1]=aver\n",
    "        F1=mean(cross_val_score(estimator,x_train,y_train,scoring=\"f1\",cv=folds,n_jobs=-1))\n",
    "        F_lis[i-1]=F1\n",
    "        while True:\n",
    "            relief_score=(reliefF.reliefF(self.X_train[:,candi_fea],self.Y_train)).reshape(1,i)\n",
    "            #print(relief_score)\n",
    "            estimator.fit(self.X_train[:,candi_fea],self.Y_train)\n",
    "            suppor_index=estimator.support_\n",
    "            support_num=len(suppor_index)\n",
    "            support_vector=estimator.support_vectors_\n",
    "            dual_coef=estimator.dual_coef_[0]\n",
    "            rfe_score=[i for i in range(len(candi_fea))]\n",
    "            z=np.exp(-self.Gamma*np.sum(support_vector*support_vector,axis=1))\n",
    "            matrix_z=np.outer(z, z)\n",
    "            y_matrix=np.outer(self.Y_train[suppor_index],self.Y_train[suppor_index])\n",
    "            H_matrix=np.exp(2*self.Gamma*support_vector@support_vector.T)*matrix_z*y_matrix\n",
    "            orig_loss=np.dot(np.dot(dual_coef*self.Y_train[suppor_index],H_matrix),dual_coef*self.Y_train[suppor_index])\n",
    "            k=0\n",
    "            for fea in candi_fea:\n",
    "                copy_support_vector=self.X_train[suppor_index,:]\n",
    "                candi_fea_copy=candi_fea.copy()\n",
    "                #print(len(candi_fea_copy))\n",
    "                candi_fea_copy.remove(fea)\n",
    "                removed_support_vector=copy_support_vector[:,candi_fea_copy]\n",
    "                z1=np.exp(-self.Gamma*np.sum(removed_support_vector*removed_support_vector,axis=1))\n",
    "                matrix_z1=np.outer(z1, z1)\n",
    "                H_matrix1=np.exp(2*self.Gamma*removed_support_vector@removed_support_vector.T)*matrix_z1*y_matrix\n",
    "                after_loss=np.dot(np.dot(dual_coef*self.Y_train[suppor_index],H_matrix1),dual_coef*self.Y_train[suppor_index])\n",
    "                scor_fea=np.abs(orig_loss-after_loss)/2\n",
    "                rfe_score[k]=scor_fea\n",
    "                k=k+1     \n",
    "            total_score=alpha*relief_score+(1-alpha)*np.array(rfe_score)\n",
    "            #print(total_score)\n",
    "            index_=np.argmin(total_score)\n",
    "            remove_fea=candi_fea[index_]\n",
    "            candi_fea.remove(remove_fea)\n",
    "            i-=1\n",
    "            aver=mean(cross_val_score(estimator,self.X_train[:,candi_fea],self.Y_train,scoring=\"accuracy\",cv=folds,n_jobs=-1))\n",
    "            F1=mean(cross_val_score(estimator,self.X_train[:,candi_fea],self.Y_train,scoring=\"f1\",cv=folds,n_jobs=-1))\n",
    "            aver_lis[i-1]=aver\n",
    "            F_lis[i-1]=F1\n",
    "            if i==1:\n",
    "                break\n",
    "        return aver_lis,F_lis\n",
    "    def sele_feature(self,alpha,optim_featur_num):\n",
    "        estimator=SVC(C=self.C, kernel='rbf',gamma=self.Gamma)\n",
    "        rank_=[]\n",
    "        featu_num=self.X_train.shape[1]\n",
    "        candi_fea=[i for i in range(featu_num)]\n",
    "        i=featu_num\n",
    "        while True:\n",
    "            if len(candi_fea)==optim_featur_num:\n",
    "                return candi_fea\n",
    "            relief_score=(reliefF.reliefF(self.X_train[:,candi_fea],self.Y_train)).reshape(1,i)\n",
    "            estimator.fit(self.X_train[:,candi_fea],self.Y_train)\n",
    "            suppor_index=estimator.support_\n",
    "            support_num=len(suppor_index)\n",
    "            support_vector=estimator.support_vectors_\n",
    "            dual_coef=estimator.dual_coef_[0]\n",
    "            rfe_score=[i for i in range(len(candi_fea))]\n",
    "            z=np.exp(-self.Gamma*np.sum(support_vector*support_vector,axis=1))\n",
    "            matrix_z=np.outer(z, z)\n",
    "            y_matrix=np.outer(self.Y_train[suppor_index],self.Y_train[suppor_index])\n",
    "            H_matrix=np.exp(2*self.Gamma*support_vector@support_vector.T)*matrix_z*y_matrix\n",
    "            orig_loss=np.dot(np.dot(dual_coef*self.Y_train[suppor_index],H_matrix),dual_coef*self.Y_train[suppor_index])\n",
    "            k=0\n",
    "            for fea in candi_fea:\n",
    "                copy_support_vector=self.X_train[suppor_index,:]\n",
    "                candi_fea_copy=candi_fea.copy()\n",
    "                #print(len(candi_fea_copy))\n",
    "                candi_fea_copy.remove(fea)\n",
    "                removed_support_vector=copy_support_vector[:,candi_fea_copy]\n",
    "                z1=np.exp(-self.Gamma*np.sum(removed_support_vector*removed_support_vector,axis=1))\n",
    "                matrix_z1=np.outer(z1, z1)\n",
    "                H_matrix1=np.exp(2*self.Gamma*removed_support_vector@removed_support_vector.T)*matrix_z1*y_matrix\n",
    "                after_loss=np.dot(np.dot(dual_coef*self.Y_train[suppor_index],H_matrix1),dual_coef*self.Y_train[suppor_index])\n",
    "                scor_fea=np.abs(orig_loss-after_loss)/2\n",
    "                rfe_score[k]=scor_fea\n",
    "                k=k+1     \n",
    "            total_score=alpha*relief_score+(1-alpha)*np.array(rfe_score)\n",
    "            #print(total_score)\n",
    "            index_=np.argmin(total_score)\n",
    "            remove_fea=candi_fea[index_]\n",
    "            candi_fea.remove(remove_fea)\n",
    "            print(i)\n",
    "            i-=1\n",
    "            "
   ]
  },
  {
   "cell_type": "code",
   "execution_count": 51,
   "id": "c7c20582-aabe-4921-bbde-5cff3d333ee3",
   "metadata": {},
   "outputs": [
    {
     "name": "stdout",
     "output_type": "stream",
     "text": [
      "49\n",
      "48\n",
      "47\n",
      "46\n",
      "45\n",
      "44\n",
      "43\n",
      "42\n",
      "41\n",
      "40\n",
      "39\n",
      "38\n",
      "37\n",
      "36\n",
      "35\n",
      "34\n",
      "33\n",
      "32\n",
      "31\n",
      "30\n",
      "29\n",
      "28\n",
      "27\n",
      "26\n",
      "25\n",
      "24\n",
      "23\n",
      "22\n",
      "21\n",
      "20\n",
      "19\n",
      "18\n",
      "17\n",
      "16\n",
      "15\n",
      "14\n",
      "13\n",
      "12\n",
      "11\n",
      "10\n",
      "9\n",
      "8\n",
      "7\n",
      "6\n",
      "5\n"
     ]
    }
   ],
   "source": [
    "# 0.25,2\n",
    "rfe_relief_SVM_model=rfe_relief_SVM(x_train,y_train,1.5,0.1)\n",
    "rfe_relief_SVM_sele_featu_subset=rfe_relief_SVM_model.sele_feature(0.25,4)"
   ]
  },
  {
   "cell_type": "code",
   "execution_count": 52,
   "id": "78a58e42-db6b-44c3-b9cc-f1286b710a62",
   "metadata": {},
   "outputs": [
    {
     "data": {
      "text/plain": [
       "(array(['VOSC', 'MOBV', 'RSI', 'SRDM'], dtype='<U8'), 4)"
      ]
     },
     "execution_count": 52,
     "metadata": {},
     "output_type": "execute_result"
    }
   ],
   "source": [
    "np.array(techini_indicator)[rfe_relief_SVM_sele_featu_subset],len(np.array(techini_indicator)[rfe_relief_SVM_sele_featu_subset])"
   ]
  },
  {
   "cell_type": "code",
   "execution_count": 53,
   "id": "98912135-bcf5-48de-a241-dfa743590b2a",
   "metadata": {},
   "outputs": [
    {
     "name": "stdout",
     "output_type": "stream",
     "text": [
      "(0.8176470588235294, 0.8, 0.8315789473684211, 0.7894736842105263, 0.794701986754967)\n"
     ]
    }
   ],
   "source": [
    "estimator_SVM_rfe_reliefF=SVC(C=1.5, kernel='rbf',gamma=0.1)\n",
    "estimator_SVM_rfe_reliefF.fit(x_train[:,rfe_relief_SVM_sele_featu_subset],y_train)\n",
    "rfe_reliefF_SVM_result=estimator_SVM_rfe_reliefF.predict(x_test[:,rfe_relief_SVM_sele_featu_subset])\n",
    "performan_rfe_reliefF_SVM=meansure_performance(rfe_reliefF_SVM_result)\n",
    "print(performan_rfe_reliefF_SVM)"
   ]
  },
  {
   "cell_type": "code",
   "execution_count": null,
   "id": "f83a1eba-b0fb-42fa-ae6c-d974f3e4e8b1",
   "metadata": {},
   "outputs": [],
   "source": []
  }
 ],
 "metadata": {
  "kernelspec": {
   "display_name": "Python 3 (ipykernel)",
   "language": "python",
   "name": "python3"
  },
  "language_info": {
   "codemirror_mode": {
    "name": "ipython",
    "version": 3
   },
   "file_extension": ".py",
   "mimetype": "text/x-python",
   "name": "python",
   "nbconvert_exporter": "python",
   "pygments_lexer": "ipython3",
   "version": "3.11.7"
  }
 },
 "nbformat": 4,
 "nbformat_minor": 5
}
