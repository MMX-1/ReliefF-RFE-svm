{
 "cells": [
  {
   "cell_type": "code",
   "execution_count": 58,
   "id": "b69169c8-a53d-4171-91f9-8bdc6176e77d",
   "metadata": {},
   "outputs": [],
   "source": [
    "#性能测量\n",
    "def meansure_performance(y_predict_lis):\n",
    "    TP=0\n",
    "    FP=0\n",
    "    TN=0\n",
    "    FN=0\n",
    "    #测试样本数\n",
    "    sample_num=x_test.shape[0]\n",
    "    for i in range(sample_num):\n",
    "        y_predict=y_predict_lis[i]\n",
    "        if y_predict==1 and y_test[i]==1:\n",
    "            TP+=1\n",
    "        elif y_predict==-1 and y_test[i]==-1:\n",
    "            TN+=1\n",
    "        elif y_predict==1 and y_test[i]==-1:\n",
    "    #false poistive\n",
    "            FP+=1\n",
    "        elif y_predict==-1 and y_test[i]==1:\n",
    "    #false negative\n",
    "            FN+=1 \n",
    "    accuracy=(TP+TN)/(TP+FP+TN+FN)\n",
    "    recall=TP/(TP+FN)\n",
    "    specificity=TN/(TN+FP)\n",
    "    precision=TP/(TP+FP)\n",
    "    F_measuer=(2*precision*recall)/(precision+recall)\n",
    "    return accuracy,recall,specificity,precision,F_measuer"
   ]
  },
  {
   "cell_type": "code",
   "execution_count": 59,
   "id": "eb508d94-da51-43eb-b525-31847789227f",
   "metadata": {},
   "outputs": [],
   "source": [
    "from skfeature.function.similarity_based import reliefF\n",
    "from sklearn.model_selection import cross_val_score\n",
    "from sklearn.svm import SVC\n",
    "from sklearn.model_selection import KFold\n",
    "from skfeature.function.statistical_based import CFS\n",
    "import pandas as pd\n",
    "import numpy as np\n",
    "data_rfe=pd.read_csv('norm_tongren.csv')\n",
    "data_rfe_array=np.array(data_rfe)\n",
    "fea=data_rfe_array[:,:49]\n",
    "target=data_rfe_array[:,49]\n",
    "x_test=fea[:170,:]\n",
    "y_test=target[:170]\n",
    "x_train=fea[170:,:]\n",
    "y_train=target[170:]"
   ]
  },
  {
   "cell_type": "code",
   "execution_count": 60,
   "id": "44a92702-8e54-4567-847f-e8d9fa4bca81",
   "metadata": {},
   "outputs": [],
   "source": [
    "techini_indicator=data_rfe.columns.tolist()[:-1]"
   ]
  },
  {
   "cell_type": "markdown",
   "id": "73029314-2e8e-4eac-808d-758d55fb345e",
   "metadata": {},
   "source": [
    "# SVC"
   ]
  },
  {
   "cell_type": "code",
   "execution_count": 61,
   "id": "cecbc8d4-0c51-4a02-ada2-a5c94b6c863e",
   "metadata": {},
   "outputs": [
    {
     "name": "stdout",
     "output_type": "stream",
     "text": [
      "(0.7823529411764706, 0.810126582278481, 0.7582417582417582, 0.7441860465116279, 0.7757575757575758)\n"
     ]
    }
   ],
   "source": [
    "estimator_SVC=SVC(C=1.5, kernel='rbf',gamma=0.1)\n",
    "estimator_SVC.fit(x_train,y_train)\n",
    "SVC_result= estimator_SVC.predict(x_test)\n",
    "performan_SVC=meansure_performance(SVC_result)\n",
    "print(performan_SVC)"
   ]
  },
  {
   "cell_type": "markdown",
   "id": "bd227048-e72b-4709-bd59-bb2d7c7b5460",
   "metadata": {},
   "source": [
    " # CFS-SVM"
   ]
  },
  {
   "cell_type": "code",
   "execution_count": 62,
   "id": "95b52391-ffc9-41b8-9ebe-19f5c95aa505",
   "metadata": {},
   "outputs": [
    {
     "data": {
      "text/plain": [
       "[26, 27, 8, 31, 1, 2]"
      ]
     },
     "execution_count": 62,
     "metadata": {},
     "output_type": "execute_result"
    }
   ],
   "source": [
    "CFS_selected_feature = CFS.cfs(x_train,y_train)\n",
    "CFS_fea_sele=list(CFS_selected_feature)\n",
    "CFS_fea_sele"
   ]
  },
  {
   "cell_type": "code",
   "execution_count": 63,
   "id": "3e186d1e-1165-417e-ae60-1d63b05b6eae",
   "metadata": {},
   "outputs": [
    {
     "data": {
      "text/plain": [
       "(array(['K', 'D', 'VR', 'VROC', 'TAPI', 'VMA'], dtype='<U8'), 6)"
      ]
     },
     "execution_count": 63,
     "metadata": {},
     "output_type": "execute_result"
    }
   ],
   "source": [
    "np.array(techini_indicator)[CFS_fea_sele],len(np.array(techini_indicator)[CFS_fea_sele])"
   ]
  },
  {
   "cell_type": "code",
   "execution_count": 64,
   "id": "27dd5644-5e38-40fd-bc05-0b3a0eddf999",
   "metadata": {},
   "outputs": [],
   "source": [
    "estimator_SVM_CFS=SVC(C=1.5, kernel='rbf',gamma=0.1)\n",
    "estimator_SVM_CFS.fit(x_train[:,CFS_fea_sele],y_train)\n",
    "CFS_SVM_result=estimator_SVM_CFS.predict(x_test[:,CFS_fea_sele])"
   ]
  },
  {
   "cell_type": "code",
   "execution_count": 65,
   "id": "1e491a6e-f71d-475b-824d-59376c9e15cb",
   "metadata": {},
   "outputs": [
    {
     "name": "stdout",
     "output_type": "stream",
     "text": [
      "(0.6823529411764706, 0.569620253164557, 0.7802197802197802, 0.6923076923076923, 0.625)\n"
     ]
    }
   ],
   "source": [
    "performan_CFS_SVM=meansure_performance(CFS_SVM_result)\n",
    "print(performan_CFS_SVM)"
   ]
  },
  {
   "cell_type": "markdown",
   "id": "d53d3137-4b8a-49cb-a333-ec78e294cb2c",
   "metadata": {},
   "source": [
    "# sequencial-backward-elimination SVM"
   ]
  },
  {
   "cell_type": "code",
   "execution_count": 66,
   "id": "91479c7a-3086-4da6-9577-a241e17911e2",
   "metadata": {},
   "outputs": [],
   "source": [
    "\n",
    "from sklearn.metrics import accuracy_score\n",
    "from sklearn.model_selection import KFold\n",
    "from numpy import mean \n",
    "from sklearn.model_selection import cross_val_score\n",
    "class back_SVM:\n",
    "    def __init__(self,X_train,Y_train,c,gamma):\n",
    "        self.X_train=X_train\n",
    "        self.Y_train=Y_train\n",
    "        self.C=c\n",
    "        self.Gamma=gamma\n",
    "    def SBE(self,folds):\n",
    "        fea_num=self.X_train.shape[1]\n",
    "        candi_fea=[i for i in range(fea_num)]\n",
    "        fea=[i for i in range(fea_num)]\n",
    "        best_subset=[i for i in range(fea_num)]\n",
    "        model=SVC(C=self.C, kernel='rbf',gamma=self.Gamma)\n",
    "        Best_accuracy=mean(cross_val_score(model,self.X_train,self.Y_train,scoring=\"accuracy\",cv=folds,n_jobs=-1))\n",
    "        Success=True\n",
    "        while Success:\n",
    "            Success=False\n",
    "            for f in candi_fea:\n",
    "                candi_fea_copy=candi_fea.copy()\n",
    "                candi_fea_copy.remove(f)\n",
    "                x_sele=self.X_train[:,candi_fea_copy]\n",
    "                n_scores=cross_val_score(model,x_sele,self.Y_train,scoring=\"accuracy\",cv=folds,n_jobs=-1)\n",
    "                acc=mean(n_scores)\n",
    "                if acc>=Best_accuracy:\n",
    "                    #print(f)\n",
    "                    best_subset=candi_fea_copy\n",
    "                    Success=True\n",
    "                    Best_accuracy=acc\n",
    "            print(1)\n",
    "            if Success==True:\n",
    "                candi_fea=best_subset\n",
    "            print(len(candi_fea))\n",
    "        return best_subset\n",
    "                "
   ]
  },
  {
   "cell_type": "code",
   "execution_count": 67,
   "id": "4ef619c0-de65-4855-85ad-9ee58ba2d977",
   "metadata": {},
   "outputs": [
    {
     "name": "stdout",
     "output_type": "stream",
     "text": [
      "1\n",
      "48\n",
      "1\n",
      "47\n",
      "1\n",
      "46\n",
      "1\n",
      "45\n",
      "1\n",
      "44\n",
      "1\n",
      "43\n",
      "1\n",
      "42\n",
      "1\n",
      "41\n",
      "1\n",
      "40\n",
      "1\n",
      "39\n",
      "1\n",
      "38\n",
      "1\n",
      "37\n",
      "1\n",
      "36\n",
      "1\n",
      "35\n",
      "1\n",
      "35\n"
     ]
    }
   ],
   "source": [
    "estimator_SVM_back=back_SVM(x_train,y_train,1.5,0.1)\n",
    "candi_fea_SBE=estimator_SVM_back.SBE(5)"
   ]
  },
  {
   "cell_type": "code",
   "execution_count": 68,
   "id": "64c45509-d163-4585-afa7-2f2654f52117",
   "metadata": {},
   "outputs": [
    {
     "data": {
      "text/plain": [
       "(array(['VMA', 'VMACD', 'CR', 'PSY', 'BR', 'WAD', 'MOBV', 'PVT', 'MA',\n",
       "        'MACD', 'MTM', 'PRICEOSC', 'BIAS', 'CCI', 'DBCD', 'DPO', 'K', 'D',\n",
       "        'J', 'RSI', 'SRDM', 'VROC', 'VRSI', 'WR', 'ADTM', 'DPTB', 'JDQS',\n",
       "        'JDRS', 'MI', 'RCCD', 'SRMI', 'ATR', 'MASS', 'STD', 'VHF'],\n",
       "       dtype='<U8'),\n",
       " 35)"
      ]
     },
     "execution_count": 68,
     "metadata": {},
     "output_type": "execute_result"
    }
   ],
   "source": [
    "np.array(techini_indicator)[candi_fea_SBE],len(np.array(techini_indicator)[candi_fea_SBE])"
   ]
  },
  {
   "cell_type": "code",
   "execution_count": 69,
   "id": "d8cdffec-a841-4f70-9c34-8d64fa829bcc",
   "metadata": {},
   "outputs": [
    {
     "name": "stdout",
     "output_type": "stream",
     "text": [
      "(0.8176470588235294, 0.8354430379746836, 0.8021978021978022, 0.7857142857142857, 0.8098159509202455)\n"
     ]
    }
   ],
   "source": [
    "estimator_SVM_SBE=SVC(C=1.5, kernel='rbf',gamma=0.1)\n",
    "estimator_SVM_SBE.fit(x_train[:,candi_fea_SBE],y_train)\n",
    "SBE_SVM_result=estimator_SVM_SBE.predict(x_test[:,candi_fea_SBE])\n",
    "performan_SBE_SVM=meansure_performance(SBE_SVM_result)\n",
    "print(performan_SBE_SVM)"
   ]
  },
  {
   "cell_type": "code",
   "execution_count": 82,
   "id": "fd1308fc-6471-4cb4-9b34-03621b6bd994",
   "metadata": {},
   "outputs": [
    {
     "data": {
      "text/plain": [
       "[2,\n",
       " 3,\n",
       " 6,\n",
       " 7,\n",
       " 10,\n",
       " 11,\n",
       " 12,\n",
       " 13,\n",
       " 16,\n",
       " 18,\n",
       " 19,\n",
       " 20,\n",
       " 22,\n",
       " 23,\n",
       " 24,\n",
       " 25,\n",
       " 26,\n",
       " 27,\n",
       " 28,\n",
       " 29,\n",
       " 30,\n",
       " 31,\n",
       " 32,\n",
       " 33,\n",
       " 34,\n",
       " 36,\n",
       " 37,\n",
       " 38,\n",
       " 39,\n",
       " 42,\n",
       " 43,\n",
       " 44,\n",
       " 46,\n",
       " 47,\n",
       " 48]"
      ]
     },
     "execution_count": 82,
     "metadata": {},
     "output_type": "execute_result"
    }
   ],
   "source": [
    "candi_fea_SBE"
   ]
  },
  {
   "cell_type": "code",
   "execution_count": 96,
   "id": "48895947-ed64-4518-b0d1-ba207d5a41fc",
   "metadata": {},
   "outputs": [
    {
     "data": {
      "text/plain": [
       "'CVLT'"
      ]
     },
     "execution_count": 96,
     "metadata": {},
     "output_type": "execute_result"
    }
   ],
   "source": [
    "np.array(techini_indicator)[45]"
   ]
  },
  {
   "cell_type": "markdown",
   "id": "241546dd-5d21-4976-aa56-2e9646a7e10d",
   "metadata": {},
   "source": [
    "# reliefF-svm "
   ]
  },
  {
   "cell_type": "code",
   "execution_count": 70,
   "id": "2b2d2ccc-812a-40de-aa36-30ece6e98023",
   "metadata": {},
   "outputs": [],
   "source": [
    "from skfeature.function.similarity_based import reliefF\n",
    "relief_fea_score=reliefF.reliefF(x_train,y_train)\n",
    "relief_candi_fea=list(reliefF.feature_ranking(relief_fea_score))[:14]"
   ]
  },
  {
   "cell_type": "code",
   "execution_count": 71,
   "id": "5e3aa1e2-2c2a-404b-a927-71b4bf4e815b",
   "metadata": {},
   "outputs": [
    {
     "data": {
      "text/plain": [
       "array([ 0.06245391,  0.03024295,  0.00132751,  0.01251561, -0.00800629,\n",
       "       -0.00517335, -0.01409416,  0.00958632, -0.00878644, -0.01555002,\n",
       "       -0.01226751, -0.00446239,  0.50911864, -0.00691375, -0.00087673,\n",
       "       -0.003301  , -0.00193329, -0.00487132, -0.00777415,  0.00366475,\n",
       "        0.00622239,  0.00454909,  0.03821541, -0.00154434, -0.00690483,\n",
       "        0.04466628, -0.01044506,  0.01239301, -0.00988858,  0.0795882 ,\n",
       "       -0.0007369 ,  0.01771665,  0.07222418,  0.06201413, -0.00853768,\n",
       "        0.00548758,  0.00188326, -0.00745072, -0.00690156, -0.00113523,\n",
       "        0.00121344, -0.01059238, -0.01337206,  0.0097242 , -0.00241915,\n",
       "       -0.00768529, -0.0236413 ,  0.00241743, -0.00768038])"
      ]
     },
     "execution_count": 71,
     "metadata": {},
     "output_type": "execute_result"
    }
   ],
   "source": [
    "relief_fea_score"
   ]
  },
  {
   "cell_type": "code",
   "execution_count": 72,
   "id": "f3740ad1-f2a8-4dc8-b71d-a37757cd6cc8",
   "metadata": {},
   "outputs": [
    {
     "data": {
      "text/plain": [
       "(array(['MOBV', 'RSI', 'VRSI', 'QRR', 'WR', 'DPO', 'BIAS', 'TAPI', 'VROC',\n",
       "        'VMACD', 'D', 'SRMI', 'PSY', 'PRICEOSC'], dtype='<U8'),\n",
       " 14)"
      ]
     },
     "execution_count": 72,
     "metadata": {},
     "output_type": "execute_result"
    }
   ],
   "source": [
    "np.array(techini_indicator)[relief_candi_fea],len(np.array(techini_indicator)[relief_candi_fea])"
   ]
  },
  {
   "cell_type": "code",
   "execution_count": 73,
   "id": "4c2e62f3-1d39-4c5e-bf4e-2c5dc89c6350",
   "metadata": {},
   "outputs": [
    {
     "name": "stdout",
     "output_type": "stream",
     "text": [
      "(0.8176470588235294, 0.7974683544303798, 0.8351648351648352, 0.8076923076923077, 0.802547770700637)\n"
     ]
    }
   ],
   "source": [
    "estimator_SVM_relief=SVC(C=1.5, kernel='rbf',gamma=0.1)\n",
    "estimator_SVM_relief.fit(x_train[:,relief_candi_fea],y_train)\n",
    "relief_SVM_result=estimator_SVM_relief.predict(x_test[:,relief_candi_fea])\n",
    "performan_relief_SVM=meansure_performance(relief_SVM_result)\n",
    "print(performan_relief_SVM)"
   ]
  },
  {
   "cell_type": "markdown",
   "id": "4a89b3a4-9bb4-4aa9-85c8-31d4987a0f74",
   "metadata": {},
   "source": [
    "# RFE-SVM"
   ]
  },
  {
   "cell_type": "code",
   "execution_count": 74,
   "id": "b5b1221b-9e81-4013-89a8-182faf84e52b",
   "metadata": {},
   "outputs": [],
   "source": [
    "from skfeature.function.similarity_based import reliefF\n",
    "from sklearn.svm import SVC\n",
    "from sklearn.model_selection import KFold\n",
    "from numpy import mean \n",
    "from sklearn.model_selection import cross_val_score\n",
    "class rfe_SVM:\n",
    "    def __init__(self,x_train,y_train,c,gamma):\n",
    "        self.X_train=x_train\n",
    "        self.Y_train=y_train\n",
    "        self.C=c\n",
    "        self.Gamma=gamma\n",
    "    def featu_score(self,folds):\n",
    "        estimator=SVC(C=self.C, kernel='rbf',gamma=self.Gamma)\n",
    "        rank_=[]\n",
    "        featu_num=self.X_train.shape[1]\n",
    "        candi_fea=[j for j in range(featu_num)]\n",
    "        i=featu_num\n",
    "        aver_lis=[j for j in range(featu_num)]\n",
    "        F_lis=[j for j in range(featu_num)]\n",
    "        aver=mean(cross_val_score(estimator,self.X_train,self.Y_train,scoring=\"accuracy\",cv=folds,n_jobs=-1))\n",
    "        aver_lis[i-1]=aver\n",
    "        F1=mean(cross_val_score(estimator,self.X_train,self.Y_train,scoring=\"f1\",cv=folds,n_jobs=-1))\n",
    "        F_lis[i-1]=F1\n",
    "        while True:\n",
    "            estimator.fit(self.X_train[:,candi_fea],self.Y_train)\n",
    "            suppor_index=estimator.support_\n",
    "            support_num=len(suppor_index)\n",
    "            support_vector=estimator.support_vectors_\n",
    "            dual_coef=estimator.dual_coef_[0]\n",
    "            rfe_score=[i for i in range(len(candi_fea))]\n",
    "            z=np.exp(-self.Gamma*np.sum(support_vector*support_vector,axis=1))\n",
    "            matrix_z=np.outer(z, z)\n",
    "            y_matrix=np.outer(self.Y_train[suppor_index],self.Y_train[suppor_index])\n",
    "            H_matrix=np.exp(2*self.Gamma*support_vector@support_vector.T)*matrix_z*y_matrix\n",
    "            orig_loss=np.dot(np.dot(dual_coef*self.Y_train[suppor_index],H_matrix),dual_coef*self.Y_train[suppor_index])\n",
    "            k=0\n",
    "            for fea in candi_fea:\n",
    "                copy_support_vector=self.X_train[suppor_index,:]\n",
    "                candi_fea_copy=candi_fea.copy()\n",
    "                candi_fea_copy.remove(fea)\n",
    "                removed_support_vector=copy_support_vector[:,candi_fea_copy]\n",
    "                z1=np.exp(-self.Gamma*np.sum(removed_support_vector*removed_support_vector,axis=1))\n",
    "                matrix_z1=np.outer(z1, z1)\n",
    "                H_matrix1=np.exp(2*self.Gamma*removed_support_vector@removed_support_vector.T)*matrix_z1*y_matrix\n",
    "                after_loss=np.dot(np.dot(dual_coef*self.Y_train[suppor_index],H_matrix1),dual_coef*self.Y_train[suppor_index])\n",
    "                scor_fea=np.abs(orig_loss-after_loss)/2\n",
    "                rfe_score[k]=scor_fea\n",
    "                k=k+1     \n",
    "            index_=np.argmin(rfe_score)\n",
    "            remove_fea=candi_fea[index_]\n",
    "            candi_fea.remove(remove_fea)\n",
    "            i-=1\n",
    "            aver=mean(cross_val_score(estimator,self.X_train[:,candi_fea],self.Y_train,scoring=\"accuracy\",cv=folds,n_jobs=-1))\n",
    "            F1=mean(cross_val_score(estimator,self.X_train[:,candi_fea],self.Y_train,scoring=\"f1\",cv=folds,n_jobs=-1))\n",
    "            aver_lis[i-1]=aver\n",
    "            F_lis[i-1]=F1\n",
    "            if i==1:\n",
    "                break\n",
    "        return aver_lis,F_lis\n",
    "   \n",
    "    def featu_subset(self,featur_num):\n",
    "        estimator=SVC(C=self.C, kernel='rbf',gamma=self.Gamma)\n",
    "        rank_=[]\n",
    "        featu_num=self.X_train.shape[1]\n",
    "        candi_fea=[i for i in range(featu_num)]\n",
    "        while True:\n",
    "            if len(candi_fea)==featur_num:\n",
    "                return candi_fea\n",
    "            estimator.fit(self.X_train[:,candi_fea],self.Y_train)\n",
    "            suppor_index=estimator.support_\n",
    "            support_num=len(suppor_index)\n",
    "            support_vector=estimator.support_vectors_\n",
    "            dual_coef=estimator.dual_coef_[0]\n",
    "            rfe_score=[i for i in range(len(candi_fea))]\n",
    "            z=np.exp(-self.Gamma*np.sum(support_vector*support_vector,axis=1))\n",
    "            matrix_z=np.outer(z, z)\n",
    "            y_matrix=np.outer(self.Y_train[suppor_index],self.Y_train[suppor_index])\n",
    "            H_matrix=np.exp(2*self.Gamma*support_vector@support_vector.T)*matrix_z*y_matrix\n",
    "            orig_loss=np.dot(np.dot(dual_coef*self.Y_train[suppor_index],H_matrix),dual_coef*self.Y_train[suppor_index])\n",
    "            k=0\n",
    "            for fea in candi_fea:\n",
    "                copy_support_vector=self.X_train[suppor_index,:]\n",
    "                candi_fea_copy=candi_fea.copy()\n",
    "                candi_fea_copy.remove(fea)\n",
    "                removed_support_vector=copy_support_vector[:,candi_fea_copy]\n",
    "                z1=np.exp(-self.Gamma*np.sum(removed_support_vector*removed_support_vector,axis=1))\n",
    "                matrix_z1=np.outer(z1, z1)\n",
    "                H_matrix1=np.exp(2*self.Gamma*removed_support_vector@removed_support_vector.T)*matrix_z1*y_matrix\n",
    "                after_loss=np.dot(np.dot(dual_coef*self.Y_train[suppor_index],H_matrix1),dual_coef*self.Y_train[suppor_index])\n",
    "                scor_fea=np.abs(orig_loss-after_loss)/2\n",
    "                #print(scor_fea)\n",
    "                rfe_score[k]=scor_fea\n",
    "                k=k+1     \n",
    "            #print(rfe_score)\n",
    "            index_=np.argmin(rfe_score)\n",
    "            remove_fea=candi_fea[index_]\n",
    "            candi_fea.remove(remove_fea)\n",
    "            print(1)"
   ]
  },
  {
   "cell_type": "code",
   "execution_count": 75,
   "id": "dbd6f30a-a2d8-4a04-83dd-0fa1a3a60147",
   "metadata": {},
   "outputs": [
    {
     "name": "stdout",
     "output_type": "stream",
     "text": [
      "1\n",
      "1\n",
      "1\n",
      "1\n",
      "1\n",
      "1\n",
      "1\n",
      "1\n",
      "1\n",
      "1\n",
      "1\n",
      "1\n",
      "1\n",
      "1\n",
      "1\n",
      "1\n",
      "1\n",
      "1\n",
      "1\n",
      "1\n",
      "1\n",
      "1\n",
      "1\n",
      "1\n",
      "1\n",
      "1\n",
      "1\n",
      "1\n",
      "1\n",
      "1\n",
      "1\n",
      "1\n",
      "1\n",
      "1\n",
      "1\n"
     ]
    }
   ],
   "source": [
    "rfe_SVM_model=rfe_SVM(x_train,y_train,1.5,0.1)\n",
    "rfe_SVM_sele_featu_subset=rfe_SVM_model.featu_subset(14)"
   ]
  },
  {
   "cell_type": "code",
   "execution_count": 76,
   "id": "d8fddb10-3576-45d2-9a6c-0c433530001c",
   "metadata": {},
   "outputs": [
    {
     "data": {
      "text/plain": [
       "(array(['VSTD', 'PSY', 'MOBV', 'MTM', 'CCI', 'K', 'D', 'J', 'RSI', 'SRDM',\n",
       "        'VRSI', 'WR', 'MICD', 'SRMI'], dtype='<U8'),\n",
       " 14)"
      ]
     },
     "execution_count": 76,
     "metadata": {},
     "output_type": "execute_result"
    }
   ],
   "source": [
    "np.array(techini_indicator)[rfe_SVM_sele_featu_subset],len(np.array(techini_indicator)[rfe_SVM_sele_featu_subset])"
   ]
  },
  {
   "cell_type": "code",
   "execution_count": 77,
   "id": "d6a4b1ff-e1bb-4bef-926c-2fad45757cc3",
   "metadata": {},
   "outputs": [
    {
     "name": "stdout",
     "output_type": "stream",
     "text": [
      "(0.8235294117647058, 0.7848101265822784, 0.8571428571428571, 0.8266666666666667, 0.8051948051948051)\n"
     ]
    }
   ],
   "source": [
    "estimator_SVM_rfe=SVC(C=1.5, kernel='rbf',gamma=0.1)\n",
    "estimator_SVM_rfe.fit(x_train[:,rfe_SVM_sele_featu_subset],y_train)\n",
    "rfe_SVM_result=estimator_SVM_rfe.predict(x_test[:,rfe_SVM_sele_featu_subset])\n",
    "performan_rfe_SVM=meansure_performance(rfe_SVM_result)\n",
    "print(performan_rfe_SVM)"
   ]
  },
  {
   "cell_type": "markdown",
   "id": "a8f3b48d-15b3-4f37-9577-95c48e7ca63c",
   "metadata": {},
   "source": [
    "# SVM-RFE_RELIEF"
   ]
  },
  {
   "cell_type": "code",
   "execution_count": 78,
   "id": "9969b849-449e-4514-9fb6-c3f7b568b077",
   "metadata": {},
   "outputs": [],
   "source": [
    "from skfeature.function.similarity_based import reliefF\n",
    "from sklearn.svm import SVC\n",
    "from sklearn.model_selection import KFold\n",
    "from numpy import mean \n",
    "from sklearn.model_selection import cross_val_score\n",
    "class rfe_relief_SVM:\n",
    "    def __init__(self,x_train,y_train,c,gamma):\n",
    "        self.X_train=x_train\n",
    "        self.Y_train=y_train\n",
    "        self.C=c\n",
    "        self.Gamma=gamma\n",
    "    def featu_score(self,alpha,folds):\n",
    "        #kf=KFold(n_splits=folds,shuffle=False)\n",
    "        estimator=SVC(C=self.C, kernel='rbf',gamma=self.Gamma)\n",
    "        rank_=[]\n",
    "        featu_num=self.X_train.shape[1]\n",
    "        candi_fea=[j for j in range(featu_num)]\n",
    "        i=featu_num\n",
    "        aver_lis=[j for j in range(featu_num)]\n",
    "        F_lis=[j for j in range(featu_num)]\n",
    "        aver=mean(cross_val_score(estimator,x_train,y_train,scoring=\"accuracy\",cv=folds,n_jobs=-1))\n",
    "        aver_lis[i-1]=aver\n",
    "        F1=mean(cross_val_score(estimator,x_train,y_train,scoring=\"f1\",cv=folds,n_jobs=-1))\n",
    "        F_lis[i-1]=F1\n",
    "        while True:\n",
    "            relief_score=(reliefF.reliefF(self.X_train[:,candi_fea],self.Y_train)).reshape(1,i)\n",
    "            #print(relief_score)\n",
    "            estimator.fit(self.X_train[:,candi_fea],self.Y_train)\n",
    "            suppor_index=estimator.support_\n",
    "            support_num=len(suppor_index)\n",
    "            support_vector=estimator.support_vectors_\n",
    "            dual_coef=estimator.dual_coef_[0]\n",
    "            rfe_score=[i for i in range(len(candi_fea))]\n",
    "            z=np.exp(-self.Gamma*np.sum(support_vector*support_vector,axis=1))\n",
    "            matrix_z=np.outer(z, z)\n",
    "            y_matrix=np.outer(self.Y_train[suppor_index],self.Y_train[suppor_index])\n",
    "            H_matrix=np.exp(2*self.Gamma*support_vector@support_vector.T)*matrix_z*y_matrix\n",
    "            orig_loss=np.dot(np.dot(dual_coef*self.Y_train[suppor_index],H_matrix),dual_coef*self.Y_train[suppor_index])\n",
    "            k=0\n",
    "            for fea in candi_fea:\n",
    "                copy_support_vector=self.X_train[suppor_index,:]\n",
    "                candi_fea_copy=candi_fea.copy()\n",
    "                #print(len(candi_fea_copy))\n",
    "                candi_fea_copy.remove(fea)\n",
    "                removed_support_vector=copy_support_vector[:,candi_fea_copy]\n",
    "                z1=np.exp(-self.Gamma*np.sum(removed_support_vector*removed_support_vector,axis=1))\n",
    "                matrix_z1=np.outer(z1, z1)\n",
    "                H_matrix1=np.exp(2*self.Gamma*removed_support_vector@removed_support_vector.T)*matrix_z1*y_matrix\n",
    "                after_loss=np.dot(np.dot(dual_coef*self.Y_train[suppor_index],H_matrix1),dual_coef*self.Y_train[suppor_index])\n",
    "                scor_fea=np.abs(orig_loss-after_loss)/2\n",
    "                rfe_score[k]=scor_fea\n",
    "                k=k+1     \n",
    "            total_score=alpha*relief_score+(1-alpha)*np.array(rfe_score)\n",
    "            #print(total_score)\n",
    "            index_=np.argmin(total_score)\n",
    "            remove_fea=candi_fea[index_]\n",
    "            candi_fea.remove(remove_fea)\n",
    "            i-=1\n",
    "            aver=mean(cross_val_score(estimator,self.X_train[:,candi_fea],self.Y_train,scoring=\"accuracy\",cv=folds,n_jobs=-1))\n",
    "            F1=mean(cross_val_score(estimator,self.X_train[:,candi_fea],self.Y_train,scoring=\"f1\",cv=folds,n_jobs=-1))\n",
    "            aver_lis[i-1]=aver\n",
    "            F_lis[i-1]=F1\n",
    "            if i==1:\n",
    "                break\n",
    "        return aver_lis,F_lis\n",
    "    def sele_feature(self,alpha,optim_featur_num):\n",
    "        estimator=SVC(C=self.C, kernel='rbf',gamma=self.Gamma)\n",
    "        rank_=[]\n",
    "        featu_num=self.X_train.shape[1]\n",
    "        candi_fea=[i for i in range(featu_num)]\n",
    "        i=featu_num\n",
    "        while True:\n",
    "            if len(candi_fea)==optim_featur_num:\n",
    "                return candi_fea\n",
    "            relief_score=(reliefF.reliefF(self.X_train[:,candi_fea],self.Y_train)).reshape(1,i)\n",
    "            estimator.fit(self.X_train[:,candi_fea],self.Y_train)\n",
    "            suppor_index=estimator.support_\n",
    "            support_num=len(suppor_index)\n",
    "            support_vector=estimator.support_vectors_\n",
    "            dual_coef=estimator.dual_coef_[0]\n",
    "            rfe_score=[i for i in range(len(candi_fea))]\n",
    "            z=np.exp(-self.Gamma*np.sum(support_vector*support_vector,axis=1))\n",
    "            matrix_z=np.outer(z, z)\n",
    "            y_matrix=np.outer(self.Y_train[suppor_index],self.Y_train[suppor_index])\n",
    "            H_matrix=np.exp(2*self.Gamma*support_vector@support_vector.T)*matrix_z*y_matrix\n",
    "            orig_loss=np.dot(np.dot(dual_coef*self.Y_train[suppor_index],H_matrix),dual_coef*self.Y_train[suppor_index])\n",
    "            k=0\n",
    "            for fea in candi_fea:\n",
    "                copy_support_vector=self.X_train[suppor_index,:]\n",
    "                candi_fea_copy=candi_fea.copy()\n",
    "                #print(len(candi_fea_copy))\n",
    "                candi_fea_copy.remove(fea)\n",
    "                removed_support_vector=copy_support_vector[:,candi_fea_copy]\n",
    "                z1=np.exp(-self.Gamma*np.sum(removed_support_vector*removed_support_vector,axis=1))\n",
    "                matrix_z1=np.outer(z1, z1)\n",
    "                H_matrix1=np.exp(2*self.Gamma*removed_support_vector@removed_support_vector.T)*matrix_z1*y_matrix\n",
    "                after_loss=np.dot(np.dot(dual_coef*self.Y_train[suppor_index],H_matrix1),dual_coef*self.Y_train[suppor_index])\n",
    "                scor_fea=np.abs(orig_loss-after_loss)/2\n",
    "                rfe_score[k]=scor_fea\n",
    "                k=k+1     \n",
    "            total_score=alpha*relief_score+(1-alpha)*np.array(rfe_score)\n",
    "            #print(total_score)\n",
    "            index_=np.argmin(total_score)\n",
    "            remove_fea=candi_fea[index_]\n",
    "            candi_fea.remove(remove_fea)\n",
    "            print(i)\n",
    "            i-=1\n",
    "            "
   ]
  },
  {
   "cell_type": "code",
   "execution_count": 79,
   "id": "8a36d67d-6ab2-4722-908c-8026cfade9e8",
   "metadata": {},
   "outputs": [
    {
     "name": "stdout",
     "output_type": "stream",
     "text": [
      "49\n",
      "48\n",
      "47\n",
      "46\n",
      "45\n",
      "44\n",
      "43\n",
      "42\n",
      "41\n",
      "40\n",
      "39\n",
      "38\n",
      "37\n",
      "36\n",
      "35\n",
      "34\n",
      "33\n",
      "32\n",
      "31\n",
      "30\n",
      "29\n",
      "28\n",
      "27\n",
      "26\n",
      "25\n",
      "24\n",
      "23\n",
      "22\n",
      "21\n",
      "20\n",
      "19\n",
      "18\n",
      "17\n",
      "16\n",
      "15\n"
     ]
    }
   ],
   "source": [
    "# k=4# k=5, 0.8\n",
    "rfe_relief_SVM_model=rfe_relief_SVM(x_train,y_train,1.5,0.1)\n",
    "rfe_relief_SVM_sele_featu_subset=rfe_relief_SVM_model.sele_feature(0.55,14)"
   ]
  },
  {
   "cell_type": "code",
   "execution_count": 80,
   "id": "1c7d5797-d7d4-44f4-b352-5b9b91c42cc8",
   "metadata": {},
   "outputs": [
    {
     "data": {
      "text/plain": [
       "(array(['VSTD', 'PSY', 'MOBV', 'MTM', 'CCI', 'K', 'D', 'J', 'RSI', 'SRDM',\n",
       "        'VRSI', 'WR', 'MICD', 'SRMI'], dtype='<U8'),\n",
       " 14)"
      ]
     },
     "execution_count": 80,
     "metadata": {},
     "output_type": "execute_result"
    }
   ],
   "source": [
    "np.array(techini_indicator)[rfe_relief_SVM_sele_featu_subset],len(np.array(techini_indicator)[rfe_relief_SVM_sele_featu_subset])"
   ]
  },
  {
   "cell_type": "code",
   "execution_count": 81,
   "id": "74788b47-b557-4ee7-906d-b7f14294e7ae",
   "metadata": {},
   "outputs": [
    {
     "name": "stdout",
     "output_type": "stream",
     "text": [
      "(0.8235294117647058, 0.7848101265822784, 0.8571428571428571, 0.8266666666666667, 0.8051948051948051)\n"
     ]
    }
   ],
   "source": [
    "estimator_SVM_rfe_reliefF=SVC(C=1.5, kernel='rbf',gamma=0.1)\n",
    "estimator_SVM_rfe_reliefF.fit(x_train[:,rfe_relief_SVM_sele_featu_subset],y_train)\n",
    "rfe_reliefF_SVM_result=estimator_SVM_rfe_reliefF.predict(x_test[:,rfe_relief_SVM_sele_featu_subset])\n",
    "performan_rfe_reliefF_SVM=meansure_performance(rfe_reliefF_SVM_result)\n",
    "print(performan_rfe_reliefF_SVM)"
   ]
  },
  {
   "cell_type": "code",
   "execution_count": null,
   "id": "8a6b9c1b-b807-47b8-8fb1-af5e114cc649",
   "metadata": {},
   "outputs": [],
   "source": []
  },
  {
   "cell_type": "code",
   "execution_count": null,
   "id": "4a40ac12-7e65-442f-a432-5e3b10d1046e",
   "metadata": {},
   "outputs": [],
   "source": []
  }
 ],
 "metadata": {
  "kernelspec": {
   "display_name": "Python 3 (ipykernel)",
   "language": "python",
   "name": "python3"
  },
  "language_info": {
   "codemirror_mode": {
    "name": "ipython",
    "version": 3
   },
   "file_extension": ".py",
   "mimetype": "text/x-python",
   "name": "python",
   "nbconvert_exporter": "python",
   "pygments_lexer": "ipython3",
   "version": "3.11.7"
  }
 },
 "nbformat": 4,
 "nbformat_minor": 5
}
