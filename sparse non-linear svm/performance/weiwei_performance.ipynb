{
 "cells": [
  {
   "cell_type": "code",
   "execution_count": 33,
   "id": "a401d652-5e78-43a6-b454-5fadeadb858d",
   "metadata": {},
   "outputs": [],
   "source": [
    "#性能测量\n",
    "def meansure_performance(y_predict_lis):\n",
    "    TP=0\n",
    "    FP=0\n",
    "    TN=0\n",
    "    FN=0\n",
    "    #测试样本数\n",
    "    sample_num=x_test.shape[0]\n",
    "    for i in range(sample_num):\n",
    "        y_predict=y_predict_lis[i]\n",
    "        if y_predict==1 and y_test[i]==1:\n",
    "            TP+=1\n",
    "        elif y_predict==-1 and y_test[i]==-1:\n",
    "            TN+=1\n",
    "        elif y_predict==1 and y_test[i]==-1:\n",
    "    #false poistive\n",
    "            FP+=1\n",
    "        elif y_predict==-1 and y_test[i]==1:\n",
    "    #false negative\n",
    "            FN+=1 \n",
    "    accuracy=(TP+TN)/(TP+FP+TN+FN)\n",
    "    recall=TP/(TP+FN)\n",
    "    specificity=TN/(TN+FP)\n",
    "    precision=TP/(TP+FP)\n",
    "    F_measuer=(2*precision*recall)/(precision+recall)\n",
    "    return accuracy,recall,specificity,precision,F_measuer"
   ]
  },
  {
   "cell_type": "code",
   "execution_count": 34,
   "id": "81463edb-972d-4c3c-97b8-eddd6e101acd",
   "metadata": {},
   "outputs": [],
   "source": [
    "from skfeature.function.similarity_based import reliefF\n",
    "from sklearn.svm import SVC\n",
    "from sklearn.model_selection import KFold\n",
    "from skfeature.function.statistical_based import CFS\n",
    "import pandas as pd\n",
    "import numpy as np\n",
    "data_rfe=pd.read_csv('norm_weiwei.csv')\n",
    "data_rfe_array=np.array(data_rfe)\n",
    "fea=data_rfe_array[:,:49]\n",
    "target=data_rfe_array[:,49]\n",
    "x_test=fea[:170,:]\n",
    "y_test=target[:170]\n",
    "x_train=fea[170:,:]\n",
    "y_train=target[170:]"
   ]
  },
  {
   "cell_type": "code",
   "execution_count": 35,
   "id": "cc9e52bc-df4d-427d-aca8-e720caa124ba",
   "metadata": {},
   "outputs": [],
   "source": [
    "techini_indicator=data_rfe.columns.tolist()[:-1]"
   ]
  },
  {
   "cell_type": "markdown",
   "id": "247f7807-0a0a-4ff4-a90e-54378e29906d",
   "metadata": {},
   "source": [
    "# SVC"
   ]
  },
  {
   "cell_type": "code",
   "execution_count": 36,
   "id": "11ea814c-531a-44cf-b7cf-3280b54b4c5d",
   "metadata": {},
   "outputs": [
    {
     "name": "stdout",
     "output_type": "stream",
     "text": [
      "(0.6705882352941176, 0.9354838709677419, 0.35064935064935066, 0.635036496350365, 0.7565217391304347)\n"
     ]
    }
   ],
   "source": [
    "estimator_SVC=SVC(C=0.2, kernel='rbf',gamma=0.1)\n",
    "estimator_SVC.fit(x_train,y_train)\n",
    "SVC_result= estimator_SVC.predict(x_test)\n",
    "performan_SVC=meansure_performance(SVC_result)\n",
    "print(performan_SVC)"
   ]
  },
  {
   "cell_type": "markdown",
   "id": "110223a6-71a4-4b0f-b819-aff39256996b",
   "metadata": {},
   "source": [
    " # CFS-SVM"
   ]
  },
  {
   "cell_type": "code",
   "execution_count": 37,
   "id": "67877e50-a59f-4e2f-81bf-698ecd249e51",
   "metadata": {},
   "outputs": [
    {
     "data": {
      "text/plain": [
       "[27, 1, 2, 3, 5, 8]"
      ]
     },
     "execution_count": 37,
     "metadata": {},
     "output_type": "execute_result"
    }
   ],
   "source": [
    "CFS_selected_feature = CFS.cfs(x_train,y_train)\n",
    "CFS_fea_sele=list(CFS_selected_feature)\n",
    "CFS_fea_sele"
   ]
  },
  {
   "cell_type": "code",
   "execution_count": 38,
   "id": "cf175869-b1ed-447a-86f0-146878bd0983",
   "metadata": {},
   "outputs": [
    {
     "data": {
      "text/plain": [
       "(array(['D', 'TAPI', 'VMA', 'VMACD', 'VSTD', 'VR'], dtype='<U8'), 6)"
      ]
     },
     "execution_count": 38,
     "metadata": {},
     "output_type": "execute_result"
    }
   ],
   "source": [
    "np.array(techini_indicator)[CFS_fea_sele],len(np.array(techini_indicator)[CFS_fea_sele])"
   ]
  },
  {
   "cell_type": "code",
   "execution_count": 39,
   "id": "a9285edb-815f-49c9-84e9-b5d2e92a5cf8",
   "metadata": {},
   "outputs": [],
   "source": [
    "estimator_SVM_CFS=SVC(C=0.2, kernel='rbf',gamma=0.1)\n",
    "estimator_SVM_CFS.fit(x_train[:,CFS_fea_sele],y_train)\n",
    "CFS_SVM_result=estimator_SVM_CFS.predict(x_test[:,CFS_fea_sele])"
   ]
  },
  {
   "cell_type": "code",
   "execution_count": 40,
   "id": "4271cdeb-9018-4f73-8c90-d15e5834ad59",
   "metadata": {},
   "outputs": [
    {
     "name": "stdout",
     "output_type": "stream",
     "text": [
      "(0.5529411764705883, 1.0, 0.012987012987012988, 0.5502958579881657, 0.7099236641221375)\n"
     ]
    }
   ],
   "source": [
    "performan_CFS_SVM=meansure_performance(CFS_SVM_result)\n",
    "print(performan_CFS_SVM)"
   ]
  },
  {
   "cell_type": "markdown",
   "id": "606302a4-6d2e-4ad2-844f-a45cd791476e",
   "metadata": {},
   "source": [
    "# sequencial-backward-elimination SVM"
   ]
  },
  {
   "cell_type": "code",
   "execution_count": 41,
   "id": "9b5be91c-0b04-4f8d-805f-3e728205e484",
   "metadata": {},
   "outputs": [],
   "source": [
    "from sklearn.metrics import accuracy_score\n",
    "from sklearn.model_selection import KFold\n",
    "from numpy import mean \n",
    "from sklearn.model_selection import cross_val_score\n",
    "class back_SVM:\n",
    "    def __init__(self,X_train,Y_train,c,gamma):\n",
    "        self.X_train=X_train\n",
    "        self.Y_train=Y_train\n",
    "        self.C=c\n",
    "        self.Gamma=gamma\n",
    "    def SBE(self,folds):\n",
    "        fea_num=self.X_train.shape[1]\n",
    "        candi_fea=[i for i in range(fea_num)]\n",
    "        fea=[i for i in range(fea_num)]\n",
    "        best_subset=[i for i in range(fea_num)]\n",
    "        model=SVC(C=self.C, kernel='rbf',gamma=self.Gamma)\n",
    "        Best_accuracy=mean(cross_val_score(model,self.X_train,self.Y_train,scoring=\"accuracy\",cv=folds,n_jobs=-1))\n",
    "        Success=True\n",
    "        while Success:\n",
    "            Success=False\n",
    "            for f in candi_fea:\n",
    "                candi_fea_copy=candi_fea.copy()\n",
    "                candi_fea_copy.remove(f)\n",
    "                x_sele=self.X_train[:,candi_fea_copy]\n",
    "                n_scores=cross_val_score(model,x_sele,self.Y_train,scoring=\"accuracy\",cv=folds,n_jobs=-1)\n",
    "                acc=mean(n_scores)\n",
    "                if acc>=Best_accuracy:\n",
    "                    #print(f)\n",
    "                    best_subset=candi_fea_copy\n",
    "                    Success=True\n",
    "                    Best_accuracy=acc\n",
    "            print(1)\n",
    "            if Success==True:\n",
    "                candi_fea=best_subset\n",
    "            print(len(candi_fea))\n",
    "        return best_subset\n",
    "                "
   ]
  },
  {
   "cell_type": "code",
   "execution_count": 42,
   "id": "7e84cd6e-3535-44c5-9787-1ac30712e447",
   "metadata": {},
   "outputs": [
    {
     "name": "stdout",
     "output_type": "stream",
     "text": [
      "1\n",
      "48\n",
      "1\n",
      "47\n",
      "1\n",
      "46\n",
      "1\n",
      "45\n",
      "1\n",
      "44\n",
      "1\n",
      "43\n",
      "1\n",
      "42\n",
      "1\n",
      "41\n",
      "1\n",
      "40\n",
      "1\n",
      "39\n",
      "1\n",
      "38\n",
      "1\n",
      "37\n",
      "1\n",
      "36\n",
      "1\n",
      "35\n",
      "1\n",
      "34\n",
      "1\n",
      "33\n",
      "1\n",
      "32\n",
      "1\n",
      "31\n",
      "1\n",
      "30\n",
      "1\n",
      "29\n",
      "1\n",
      "28\n",
      "1\n",
      "27\n",
      "1\n",
      "26\n",
      "1\n",
      "25\n",
      "1\n",
      "24\n",
      "1\n",
      "23\n",
      "1\n",
      "22\n",
      "1\n",
      "21\n",
      "1\n",
      "20\n",
      "1\n",
      "19\n",
      "1\n",
      "18\n",
      "1\n",
      "17\n",
      "1\n",
      "16\n",
      "1\n",
      "15\n",
      "1\n",
      "14\n",
      "1\n",
      "14\n"
     ]
    }
   ],
   "source": [
    "estimator_SVM_back=back_SVM(x_train,y_train,0.2,0.1)\n",
    "candi_fea_SBE=estimator_SVM_back.SBE(5)"
   ]
  },
  {
   "cell_type": "code",
   "execution_count": 43,
   "id": "041bc4af-e5ce-4519-a971-9ad8b4c2174a",
   "metadata": {},
   "outputs": [
    {
     "data": {
      "text/plain": [
       "(array(['VMACD', 'VOSC', 'BR', 'MOBV', 'MACD', 'CCI', 'DPO', 'K', 'D',\n",
       "        'RSI', 'WR', 'ADTM', 'SRMI', 'VHF'], dtype='<U8'),\n",
       " 14)"
      ]
     },
     "execution_count": 43,
     "metadata": {},
     "output_type": "execute_result"
    }
   ],
   "source": [
    "np.array(techini_indicator)[candi_fea_SBE],len(np.array(techini_indicator)[candi_fea_SBE])"
   ]
  },
  {
   "cell_type": "code",
   "execution_count": 44,
   "id": "a7302a51-75bf-4108-82c1-0645bf9dba27",
   "metadata": {},
   "outputs": [
    {
     "name": "stdout",
     "output_type": "stream",
     "text": [
      "(0.788235294117647, 0.8064516129032258, 0.7662337662337663, 0.8064516129032258, 0.8064516129032258)\n"
     ]
    }
   ],
   "source": [
    "estimator_SVM_SBE=SVC(C=0.2, kernel='rbf',gamma=0.1)\n",
    "estimator_SVM_SBE.fit(x_train[:,candi_fea_SBE],y_train)\n",
    "SBE_SVM_result=estimator_SVM_SBE.predict(x_test[:,candi_fea_SBE])\n",
    "performan_SBE_SVM=meansure_performance(SBE_SVM_result)\n",
    "print(performan_SBE_SVM)"
   ]
  },
  {
   "cell_type": "markdown",
   "id": "961cc809-9aad-4ccb-8f07-83a0f688ffad",
   "metadata": {},
   "source": [
    "# reliefF-svm "
   ]
  },
  {
   "cell_type": "code",
   "execution_count": 45,
   "id": "62eec803-8803-4505-ac1e-b298c775bc88",
   "metadata": {},
   "outputs": [],
   "source": [
    "from skfeature.function.similarity_based import reliefF\n",
    "relief_fea_score=reliefF.reliefF(x_train,y_train)\n",
    "relief_candi_fea=list(reliefF.feature_ranking(relief_fea_score))[:2]"
   ]
  },
  {
   "cell_type": "code",
   "execution_count": 46,
   "id": "ad4dd1f1-ea64-4439-8694-fea0e3fecceb",
   "metadata": {},
   "outputs": [
    {
     "data": {
      "text/plain": [
       "(array(['MOBV', 'RSI'], dtype='<U8'), 2)"
      ]
     },
     "execution_count": 46,
     "metadata": {},
     "output_type": "execute_result"
    }
   ],
   "source": [
    "np.array(techini_indicator)[relief_candi_fea],len(np.array(techini_indicator)[relief_candi_fea])"
   ]
  },
  {
   "cell_type": "code",
   "execution_count": 47,
   "id": "942804b0-9ed8-4fa5-ae6f-cd90eed14130",
   "metadata": {},
   "outputs": [
    {
     "name": "stdout",
     "output_type": "stream",
     "text": [
      "(0.7764705882352941, 0.8279569892473119, 0.7142857142857143, 0.7777777777777778, 0.8020833333333334)\n"
     ]
    }
   ],
   "source": [
    "# 0.5\n",
    "estimator_SVM_relief=SVC(C=0.2, kernel='rbf',gamma=0.1)\n",
    "estimator_SVM_relief.fit(x_train[:,relief_candi_fea],y_train)\n",
    "relief_SVM_result=estimator_SVM_relief.predict(x_test[:,relief_candi_fea])\n",
    "performan_relief_SVM=meansure_performance(relief_SVM_result)\n",
    "print(performan_relief_SVM)"
   ]
  },
  {
   "cell_type": "markdown",
   "id": "78327ffa-290f-4252-a41c-b5c85c622194",
   "metadata": {},
   "source": [
    "# RFE-SVM"
   ]
  },
  {
   "cell_type": "code",
   "execution_count": 48,
   "id": "1ad80a69-8e07-4c31-8dfb-b8e1912f201b",
   "metadata": {},
   "outputs": [],
   "source": [
    "from skfeature.function.similarity_based import reliefF\n",
    "from sklearn.svm import SVC\n",
    "from sklearn.model_selection import KFold\n",
    "from numpy import mean \n",
    "from sklearn.model_selection import cross_val_score\n",
    "class rfe_SVM:\n",
    "    def __init__(self,x_train,y_train,c,gamma):\n",
    "        self.X_train=x_train\n",
    "        self.Y_train=y_train\n",
    "        self.C=c\n",
    "        self.Gamma=gamma\n",
    "    def featu_score(self,folds):\n",
    "        estimator=SVC(C=self.C, kernel='rbf',gamma=self.Gamma)\n",
    "        rank_=[]\n",
    "        featu_num=self.X_train.shape[1]\n",
    "        candi_fea=[j for j in range(featu_num)]\n",
    "        i=featu_num\n",
    "        aver_lis=[j for j in range(featu_num)]\n",
    "        F_lis=[j for j in range(featu_num)]\n",
    "        aver=mean(cross_val_score(estimator,self.X_train,self.Y_train,scoring=\"accuracy\",cv=folds,n_jobs=-1))\n",
    "        aver_lis[i-1]=aver\n",
    "        F1=mean(cross_val_score(estimator,self.X_train,self.Y_train,scoring=\"f1\",cv=folds,n_jobs=-1))\n",
    "        F_lis[i-1]=F1\n",
    "        while True:\n",
    "            estimator.fit(self.X_train[:,candi_fea],self.Y_train)\n",
    "            suppor_index=estimator.support_\n",
    "            support_num=len(suppor_index)\n",
    "            support_vector=estimator.support_vectors_\n",
    "            dual_coef=estimator.dual_coef_[0]\n",
    "            rfe_score=[i for i in range(len(candi_fea))]\n",
    "            z=np.exp(-self.Gamma*np.sum(support_vector*support_vector,axis=1))\n",
    "            matrix_z=np.outer(z, z)\n",
    "            y_matrix=np.outer(self.Y_train[suppor_index],self.Y_train[suppor_index])\n",
    "            H_matrix=np.exp(2*self.Gamma*support_vector@support_vector.T)*matrix_z*y_matrix\n",
    "            orig_loss=np.dot(np.dot(dual_coef*self.Y_train[suppor_index],H_matrix),dual_coef*self.Y_train[suppor_index])\n",
    "            k=0\n",
    "            for fea in candi_fea:\n",
    "                copy_support_vector=self.X_train[suppor_index,:]\n",
    "                candi_fea_copy=candi_fea.copy()\n",
    "                candi_fea_copy.remove(fea)\n",
    "                removed_support_vector=copy_support_vector[:,candi_fea_copy]\n",
    "                z1=np.exp(-self.Gamma*np.sum(removed_support_vector*removed_support_vector,axis=1))\n",
    "                matrix_z1=np.outer(z1, z1)\n",
    "                H_matrix1=np.exp(2*self.Gamma*removed_support_vector@removed_support_vector.T)*matrix_z1*y_matrix\n",
    "                after_loss=np.dot(np.dot(dual_coef*self.Y_train[suppor_index],H_matrix1),dual_coef*self.Y_train[suppor_index])\n",
    "                scor_fea=np.abs(orig_loss-after_loss)/2\n",
    "                rfe_score[k]=scor_fea\n",
    "                k=k+1     \n",
    "            index_=np.argmin(rfe_score)\n",
    "            remove_fea=candi_fea[index_]\n",
    "            candi_fea.remove(remove_fea)\n",
    "            i-=1\n",
    "            aver=mean(cross_val_score(estimator,self.X_train[:,candi_fea],self.Y_train,scoring=\"accuracy\",cv=folds,n_jobs=-1))\n",
    "            F1=mean(cross_val_score(estimator,self.X_train[:,candi_fea],self.Y_train,scoring=\"f1\",cv=folds,n_jobs=-1))\n",
    "            aver_lis[i-1]=aver\n",
    "            F_lis[i-1]=F1\n",
    "            if i==1:\n",
    "                break\n",
    "        return aver_lis,F_lis\n",
    "   \n",
    "    def featu_subset(self,featur_num):\n",
    "        estimator=SVC(C=self.C, kernel='rbf',gamma=self.Gamma)\n",
    "        rank_=[]\n",
    "        featu_num=self.X_train.shape[1]\n",
    "        candi_fea=[i for i in range(featu_num)]\n",
    "        while True:\n",
    "            if len(candi_fea)==featur_num:\n",
    "                return candi_fea\n",
    "            estimator.fit(self.X_train[:,candi_fea],self.Y_train)\n",
    "            suppor_index=estimator.support_\n",
    "            support_num=len(suppor_index)\n",
    "            support_vector=estimator.support_vectors_\n",
    "            dual_coef=estimator.dual_coef_[0]\n",
    "            rfe_score=[i for i in range(len(candi_fea))]\n",
    "            z=np.exp(-self.Gamma*np.sum(support_vector*support_vector,axis=1))\n",
    "            matrix_z=np.outer(z, z)\n",
    "            y_matrix=np.outer(self.Y_train[suppor_index],self.Y_train[suppor_index])\n",
    "            H_matrix=np.exp(2*self.Gamma*support_vector@support_vector.T)*matrix_z*y_matrix\n",
    "            orig_loss=np.dot(np.dot(dual_coef*self.Y_train[suppor_index],H_matrix),dual_coef*self.Y_train[suppor_index])\n",
    "            k=0\n",
    "            for fea in candi_fea:\n",
    "                copy_support_vector=self.X_train[suppor_index,:]\n",
    "                candi_fea_copy=candi_fea.copy()\n",
    "                candi_fea_copy.remove(fea)\n",
    "                removed_support_vector=copy_support_vector[:,candi_fea_copy]\n",
    "                z1=np.exp(-self.Gamma*np.sum(removed_support_vector*removed_support_vector,axis=1))\n",
    "                matrix_z1=np.outer(z1, z1)\n",
    "                H_matrix1=np.exp(2*self.Gamma*removed_support_vector@removed_support_vector.T)*matrix_z1*y_matrix\n",
    "                after_loss=np.dot(np.dot(dual_coef*self.Y_train[suppor_index],H_matrix1),dual_coef*self.Y_train[suppor_index])\n",
    "                scor_fea=np.abs(orig_loss-after_loss)/2\n",
    "                #print(scor_fea)\n",
    "                rfe_score[k]=scor_fea\n",
    "                k=k+1     \n",
    "            #print(rfe_score)\n",
    "            index_=np.argmin(rfe_score)\n",
    "            remove_fea=candi_fea[index_]\n",
    "            candi_fea.remove(remove_fea)\n",
    "            print(1)"
   ]
  },
  {
   "cell_type": "code",
   "execution_count": 49,
   "id": "8a9f3d8e-6c1a-4752-b234-34160c5a9aa3",
   "metadata": {},
   "outputs": [
    {
     "name": "stdout",
     "output_type": "stream",
     "text": [
      "1\n",
      "1\n",
      "1\n",
      "1\n",
      "1\n",
      "1\n",
      "1\n",
      "1\n",
      "1\n",
      "1\n",
      "1\n",
      "1\n",
      "1\n",
      "1\n",
      "1\n",
      "1\n",
      "1\n",
      "1\n",
      "1\n",
      "1\n",
      "1\n",
      "1\n",
      "1\n",
      "1\n",
      "1\n",
      "1\n",
      "1\n",
      "1\n",
      "1\n",
      "1\n",
      "1\n",
      "1\n",
      "1\n",
      "1\n",
      "1\n",
      "1\n",
      "1\n",
      "1\n",
      "1\n",
      "1\n",
      "1\n",
      "1\n",
      "1\n",
      "1\n",
      "1\n",
      "1\n",
      "1\n"
     ]
    }
   ],
   "source": [
    "rfe_SVM_model=rfe_SVM(x_train,y_train,0.2,0.1)\n",
    "rfe_SVM_sele_featu_subset=rfe_SVM_model.featu_subset(2)"
   ]
  },
  {
   "cell_type": "code",
   "execution_count": 50,
   "id": "41e5e54a-36f2-4ca5-b1a3-012dba95cbd9",
   "metadata": {},
   "outputs": [
    {
     "data": {
      "text/plain": [
       "(array(['VMA', 'MOBV'], dtype='<U8'), 2)"
      ]
     },
     "execution_count": 50,
     "metadata": {},
     "output_type": "execute_result"
    }
   ],
   "source": [
    "np.array(techini_indicator)[rfe_SVM_sele_featu_subset],len(np.array(techini_indicator)[rfe_SVM_sele_featu_subset])"
   ]
  },
  {
   "cell_type": "code",
   "execution_count": 51,
   "id": "339c7875-e164-44e9-ad99-90225091715c",
   "metadata": {},
   "outputs": [
    {
     "name": "stdout",
     "output_type": "stream",
     "text": [
      "(0.7941176470588235, 0.8064516129032258, 0.7792207792207793, 0.8152173913043478, 0.8108108108108107)\n"
     ]
    }
   ],
   "source": [
    "estimator_SVM_rfe=SVC(C=0.2, kernel='rbf',gamma=0.1)\n",
    "estimator_SVM_rfe.fit(x_train[:,rfe_SVM_sele_featu_subset],y_train)\n",
    "rfe_SVM_result=estimator_SVM_rfe.predict(x_test[:,rfe_SVM_sele_featu_subset])\n",
    "performan_rfe_SVM=meansure_performance(rfe_SVM_result)\n",
    "print(performan_rfe_SVM)"
   ]
  },
  {
   "cell_type": "code",
   "execution_count": null,
   "id": "6ebc196b-a7d0-46ad-841d-785503da291f",
   "metadata": {},
   "outputs": [],
   "source": []
  },
  {
   "cell_type": "markdown",
   "id": "b8a92d69-9f36-46d5-ad53-a1282dee975e",
   "metadata": {},
   "source": [
    "#  SVM-RFE_RELIEF"
   ]
  },
  {
   "cell_type": "code",
   "execution_count": 52,
   "id": "edc2721c-d70a-4c34-a779-46e4750e4ba3",
   "metadata": {},
   "outputs": [],
   "source": [
    "from skfeature.function.similarity_based import reliefF\n",
    "from sklearn.svm import SVC\n",
    "from sklearn.model_selection import KFold\n",
    "from numpy import mean \n",
    "from sklearn.model_selection import cross_val_score\n",
    "class rfe_relief_SVM:\n",
    "    def __init__(self,x_train,y_train,c,gamma):\n",
    "        self.X_train=x_train\n",
    "        self.Y_train=y_train\n",
    "        self.C=c\n",
    "        self.Gamma=gamma\n",
    "    def featu_score(self,alpha,folds):\n",
    "        #kf=KFold(n_splits=folds,shuffle=False)\n",
    "        estimator=SVC(C=self.C, kernel='rbf',gamma=self.Gamma)\n",
    "        rank_=[]\n",
    "        featu_num=self.X_train.shape[1]\n",
    "        candi_fea=[j for j in range(featu_num)]\n",
    "        i=featu_num\n",
    "        aver_lis=[j for j in range(featu_num)]\n",
    "        F_lis=[j for j in range(featu_num)]\n",
    "        aver=mean(cross_val_score(estimator,x_train,y_train,scoring=\"accuracy\",cv=folds,n_jobs=-1))\n",
    "        aver_lis[i-1]=aver\n",
    "        F1=mean(cross_val_score(estimator,x_train,y_train,scoring=\"f1\",cv=folds,n_jobs=-1))\n",
    "        F_lis[i-1]=F1\n",
    "        while True:\n",
    "            relief_score=(reliefF.reliefF(self.X_train[:,candi_fea],self.Y_train)).reshape(1,i)\n",
    "            #print(relief_score)\n",
    "            estimator.fit(self.X_train[:,candi_fea],self.Y_train)\n",
    "            suppor_index=estimator.support_\n",
    "            support_num=len(suppor_index)\n",
    "            support_vector=estimator.support_vectors_\n",
    "            dual_coef=estimator.dual_coef_[0]\n",
    "            rfe_score=[i for i in range(len(candi_fea))]\n",
    "            z=np.exp(-self.Gamma*np.sum(support_vector*support_vector,axis=1))\n",
    "            matrix_z=np.outer(z, z)\n",
    "            y_matrix=np.outer(self.Y_train[suppor_index],self.Y_train[suppor_index])\n",
    "            H_matrix=np.exp(2*self.Gamma*support_vector@support_vector.T)*matrix_z*y_matrix\n",
    "            orig_loss=np.dot(np.dot(dual_coef*self.Y_train[suppor_index],H_matrix),dual_coef*self.Y_train[suppor_index])\n",
    "            k=0\n",
    "            for fea in candi_fea:\n",
    "                copy_support_vector=self.X_train[suppor_index,:]\n",
    "                candi_fea_copy=candi_fea.copy()\n",
    "                #print(len(candi_fea_copy))\n",
    "                candi_fea_copy.remove(fea)\n",
    "                removed_support_vector=copy_support_vector[:,candi_fea_copy]\n",
    "                z1=np.exp(-self.Gamma*np.sum(removed_support_vector*removed_support_vector,axis=1))\n",
    "                matrix_z1=np.outer(z1, z1)\n",
    "                H_matrix1=np.exp(2*self.Gamma*removed_support_vector@removed_support_vector.T)*matrix_z1*y_matrix\n",
    "                after_loss=np.dot(np.dot(dual_coef*self.Y_train[suppor_index],H_matrix1),dual_coef*self.Y_train[suppor_index])\n",
    "                scor_fea=np.abs(orig_loss-after_loss)/2\n",
    "                rfe_score[k]=scor_fea\n",
    "                k=k+1     \n",
    "            total_score=alpha*relief_score+(1-alpha)*np.array(rfe_score)\n",
    "            #print(total_score)\n",
    "            index_=np.argmin(total_score)\n",
    "            remove_fea=candi_fea[index_]\n",
    "            candi_fea.remove(remove_fea)\n",
    "            i-=1\n",
    "            aver=mean(cross_val_score(estimator,self.X_train[:,candi_fea],self.Y_train,scoring=\"accuracy\",cv=folds,n_jobs=-1))\n",
    "            F1=mean(cross_val_score(estimator,self.X_train[:,candi_fea],self.Y_train,scoring=\"f1\",cv=folds,n_jobs=-1))\n",
    "            aver_lis[i-1]=aver\n",
    "            F_lis[i-1]=F1\n",
    "            if i==1:\n",
    "                break\n",
    "        return aver_lis,F_lis\n",
    "    def sele_feature(self,alpha,optim_featur_num):\n",
    "        estimator=SVC(C=self.C, kernel='rbf',gamma=self.Gamma)\n",
    "        rank_=[]\n",
    "        featu_num=self.X_train.shape[1]\n",
    "        candi_fea=[i for i in range(featu_num)]\n",
    "        i=featu_num\n",
    "        while True:\n",
    "            if len(candi_fea)==optim_featur_num:\n",
    "                return candi_fea\n",
    "            relief_score=(reliefF.reliefF(self.X_train[:,candi_fea],self.Y_train)).reshape(1,i)\n",
    "            estimator.fit(self.X_train[:,candi_fea],self.Y_train)\n",
    "            suppor_index=estimator.support_\n",
    "            support_num=len(suppor_index)\n",
    "            support_vector=estimator.support_vectors_\n",
    "            dual_coef=estimator.dual_coef_[0]\n",
    "            rfe_score=[i for i in range(len(candi_fea))]\n",
    "            z=np.exp(-self.Gamma*np.sum(support_vector*support_vector,axis=1))\n",
    "            matrix_z=np.outer(z, z)\n",
    "            y_matrix=np.outer(self.Y_train[suppor_index],self.Y_train[suppor_index])\n",
    "            H_matrix=np.exp(2*self.Gamma*support_vector@support_vector.T)*matrix_z*y_matrix\n",
    "            orig_loss=np.dot(np.dot(dual_coef*self.Y_train[suppor_index],H_matrix),dual_coef*self.Y_train[suppor_index])\n",
    "            k=0\n",
    "            for fea in candi_fea:\n",
    "                copy_support_vector=self.X_train[suppor_index,:]\n",
    "                candi_fea_copy=candi_fea.copy()\n",
    "                #print(len(candi_fea_copy))\n",
    "                candi_fea_copy.remove(fea)\n",
    "                removed_support_vector=copy_support_vector[:,candi_fea_copy]\n",
    "                z1=np.exp(-self.Gamma*np.sum(removed_support_vector*removed_support_vector,axis=1))\n",
    "                matrix_z1=np.outer(z1, z1)\n",
    "                H_matrix1=np.exp(2*self.Gamma*removed_support_vector@removed_support_vector.T)*matrix_z1*y_matrix\n",
    "                after_loss=np.dot(np.dot(dual_coef*self.Y_train[suppor_index],H_matrix1),dual_coef*self.Y_train[suppor_index])\n",
    "                scor_fea=np.abs(orig_loss-after_loss)/2\n",
    "                rfe_score[k]=scor_fea\n",
    "                k=k+1     \n",
    "            total_score=alpha*relief_score+(1-alpha)*np.array(rfe_score)\n",
    "            #print(total_score)\n",
    "            index_=np.argmin(total_score)\n",
    "            remove_fea=candi_fea[index_]\n",
    "            candi_fea.remove(remove_fea)\n",
    "            print(i)\n",
    "            i-=1\n",
    "            "
   ]
  },
  {
   "cell_type": "code",
   "execution_count": 53,
   "id": "4bc3a02a-e967-4a2d-8afe-3723fde4cc66",
   "metadata": {},
   "outputs": [
    {
     "name": "stdout",
     "output_type": "stream",
     "text": [
      "49\n",
      "48\n",
      "47\n",
      "46\n",
      "45\n",
      "44\n",
      "43\n",
      "42\n",
      "41\n",
      "40\n",
      "39\n",
      "38\n",
      "37\n",
      "36\n",
      "35\n",
      "34\n",
      "33\n",
      "32\n",
      "31\n",
      "30\n",
      "29\n",
      "28\n",
      "27\n",
      "26\n",
      "25\n",
      "24\n",
      "23\n",
      "22\n",
      "21\n",
      "20\n",
      "19\n",
      "18\n",
      "17\n",
      "16\n",
      "15\n",
      "14\n",
      "13\n",
      "12\n",
      "11\n",
      "10\n",
      "9\n",
      "8\n",
      "7\n",
      "6\n",
      "5\n",
      "4\n",
      "3\n"
     ]
    }
   ],
   "source": [
    "# 0.45,4\n",
    "rfe_relief_SVM_model=rfe_relief_SVM(x_train,y_train,0.2,0.1)\n",
    "rfe_relief_SVM_sele_featu_subset=rfe_relief_SVM_model.sele_feature(0.95,2)"
   ]
  },
  {
   "cell_type": "code",
   "execution_count": 55,
   "id": "2180ee0b-1322-4248-a626-ebc765f02e0d",
   "metadata": {},
   "outputs": [
    {
     "data": {
      "text/plain": [
       "(array(['MOBV', 'MICD'], dtype='<U8'), 2)"
      ]
     },
     "execution_count": 55,
     "metadata": {},
     "output_type": "execute_result"
    }
   ],
   "source": [
    "np.array(techini_indicator)[rfe_relief_SVM_sele_featu_subset],len(np.array(techini_indicator)[rfe_relief_SVM_sele_featu_subset])"
   ]
  },
  {
   "cell_type": "code",
   "execution_count": 54,
   "id": "f70dee5b-53ff-46c6-b03b-7d117157f625",
   "metadata": {},
   "outputs": [
    {
     "name": "stdout",
     "output_type": "stream",
     "text": [
      "(0.7941176470588235, 0.8064516129032258, 0.7792207792207793, 0.8152173913043478, 0.8108108108108107)\n"
     ]
    }
   ],
   "source": [
    "estimator_SVM_rfe_reliefF=SVC(C=0.2, kernel='rbf',gamma=0.1)\n",
    "estimator_SVM_rfe_reliefF.fit(x_train[:,rfe_relief_SVM_sele_featu_subset],y_train)\n",
    "rfe_reliefF_SVM_result=estimator_SVM_rfe_reliefF.predict(x_test[:,rfe_relief_SVM_sele_featu_subset])\n",
    "performan_rfe_reliefF_SVM=meansure_performance(rfe_reliefF_SVM_result)\n",
    "print(performan_rfe_reliefF_SVM)"
   ]
  },
  {
   "cell_type": "code",
   "execution_count": null,
   "id": "e8520e5a-e90f-40f2-8613-af8b4fa25bba",
   "metadata": {},
   "outputs": [],
   "source": []
  }
 ],
 "metadata": {
  "kernelspec": {
   "display_name": "Python 3 (ipykernel)",
   "language": "python",
   "name": "python3"
  },
  "language_info": {
   "codemirror_mode": {
    "name": "ipython",
    "version": 3
   },
   "file_extension": ".py",
   "mimetype": "text/x-python",
   "name": "python",
   "nbconvert_exporter": "python",
   "pygments_lexer": "ipython3",
   "version": "3.11.7"
  }
 },
 "nbformat": 4,
 "nbformat_minor": 5
}
